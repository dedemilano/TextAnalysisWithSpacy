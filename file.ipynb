{
 "cells": [
  {
   "cell_type": "code",
   "execution_count": 2,
   "metadata": {},
   "outputs": [
    {
     "name": "stdout",
     "output_type": "stream",
     "text": [
      "Requirement already satisfied: pandas in c:\\users\\gueid\\anaconda3\\envs\\tftextgenmodelexample\\lib\\site-packages (from -r requirements.txt (line 1)) (2.2.2)\n",
      "Requirement already satisfied: plotly in c:\\users\\gueid\\anaconda3\\envs\\tftextgenmodelexample\\lib\\site-packages (from -r requirements.txt (line 2)) (5.22.0)\n",
      "Requirement already satisfied: wordcloud in c:\\users\\gueid\\anaconda3\\envs\\tftextgenmodelexample\\lib\\site-packages (from -r requirements.txt (line 3)) (1.9.3)\n",
      "Requirement already satisfied: matplotlib in c:\\users\\gueid\\anaconda3\\envs\\tftextgenmodelexample\\lib\\site-packages (from -r requirements.txt (line 4)) (3.8.4)\n",
      "Requirement already satisfied: textblob in c:\\users\\gueid\\anaconda3\\envs\\tftextgenmodelexample\\lib\\site-packages (from -r requirements.txt (line 5)) (0.18.0.post0)\n",
      "Requirement already satisfied: spacy in c:\\users\\gueid\\anaconda3\\envs\\tftextgenmodelexample\\lib\\site-packages (from -r requirements.txt (line 6)) (3.7.4)\n",
      "Requirement already satisfied: scikit-learn in c:\\users\\gueid\\anaconda3\\envs\\tftextgenmodelexample\\lib\\site-packages (from -r requirements.txt (line 7)) (1.5.0)\n",
      "Requirement already satisfied: nbformat in c:\\users\\gueid\\anaconda3\\envs\\tftextgenmodelexample\\lib\\site-packages (from -r requirements.txt (line 8)) (5.10.4)\n",
      "Requirement already satisfied: numpy>=1.22.4 in c:\\users\\gueid\\anaconda3\\envs\\tftextgenmodelexample\\lib\\site-packages (from pandas->-r requirements.txt (line 1)) (1.26.4)\n",
      "Requirement already satisfied: python-dateutil>=2.8.2 in c:\\users\\gueid\\anaconda3\\envs\\tftextgenmodelexample\\lib\\site-packages (from pandas->-r requirements.txt (line 1)) (2.8.2)\n",
      "Requirement already satisfied: pytz>=2020.1 in c:\\users\\gueid\\anaconda3\\envs\\tftextgenmodelexample\\lib\\site-packages (from pandas->-r requirements.txt (line 1)) (2024.1)\n",
      "Requirement already satisfied: tzdata>=2022.7 in c:\\users\\gueid\\anaconda3\\envs\\tftextgenmodelexample\\lib\\site-packages (from pandas->-r requirements.txt (line 1)) (2024.1)\n",
      "Requirement already satisfied: tenacity>=6.2.0 in c:\\users\\gueid\\anaconda3\\envs\\tftextgenmodelexample\\lib\\site-packages (from plotly->-r requirements.txt (line 2)) (8.3.0)\n",
      "Requirement already satisfied: packaging in c:\\users\\gueid\\anaconda3\\envs\\tftextgenmodelexample\\lib\\site-packages (from plotly->-r requirements.txt (line 2)) (23.2)\n",
      "Requirement already satisfied: pillow in c:\\users\\gueid\\anaconda3\\envs\\tftextgenmodelexample\\lib\\site-packages (from wordcloud->-r requirements.txt (line 3)) (10.3.0)\n",
      "Requirement already satisfied: contourpy>=1.0.1 in c:\\users\\gueid\\anaconda3\\envs\\tftextgenmodelexample\\lib\\site-packages (from matplotlib->-r requirements.txt (line 4)) (1.2.1)\n",
      "Requirement already satisfied: cycler>=0.10 in c:\\users\\gueid\\anaconda3\\envs\\tftextgenmodelexample\\lib\\site-packages (from matplotlib->-r requirements.txt (line 4)) (0.12.1)\n",
      "Requirement already satisfied: fonttools>=4.22.0 in c:\\users\\gueid\\anaconda3\\envs\\tftextgenmodelexample\\lib\\site-packages (from matplotlib->-r requirements.txt (line 4)) (4.51.0)\n",
      "Requirement already satisfied: kiwisolver>=1.3.1 in c:\\users\\gueid\\anaconda3\\envs\\tftextgenmodelexample\\lib\\site-packages (from matplotlib->-r requirements.txt (line 4)) (1.4.5)\n",
      "Requirement already satisfied: pyparsing>=2.3.1 in c:\\users\\gueid\\anaconda3\\envs\\tftextgenmodelexample\\lib\\site-packages (from matplotlib->-r requirements.txt (line 4)) (3.1.2)\n",
      "Requirement already satisfied: nltk>=3.8 in c:\\users\\gueid\\anaconda3\\envs\\tftextgenmodelexample\\lib\\site-packages (from textblob->-r requirements.txt (line 5)) (3.8.1)\n",
      "Requirement already satisfied: spacy-legacy<3.1.0,>=3.0.11 in c:\\users\\gueid\\anaconda3\\envs\\tftextgenmodelexample\\lib\\site-packages (from spacy->-r requirements.txt (line 6)) (3.0.12)\n",
      "Requirement already satisfied: spacy-loggers<2.0.0,>=1.0.0 in c:\\users\\gueid\\anaconda3\\envs\\tftextgenmodelexample\\lib\\site-packages (from spacy->-r requirements.txt (line 6)) (1.0.5)\n",
      "Requirement already satisfied: murmurhash<1.1.0,>=0.28.0 in c:\\users\\gueid\\anaconda3\\envs\\tftextgenmodelexample\\lib\\site-packages (from spacy->-r requirements.txt (line 6)) (1.0.10)\n",
      "Requirement already satisfied: cymem<2.1.0,>=2.0.2 in c:\\users\\gueid\\anaconda3\\envs\\tftextgenmodelexample\\lib\\site-packages (from spacy->-r requirements.txt (line 6)) (2.0.8)\n",
      "Requirement already satisfied: preshed<3.1.0,>=3.0.2 in c:\\users\\gueid\\anaconda3\\envs\\tftextgenmodelexample\\lib\\site-packages (from spacy->-r requirements.txt (line 6)) (3.0.9)\n",
      "Requirement already satisfied: thinc<8.3.0,>=8.2.2 in c:\\users\\gueid\\anaconda3\\envs\\tftextgenmodelexample\\lib\\site-packages (from spacy->-r requirements.txt (line 6)) (8.2.3)\n",
      "Requirement already satisfied: wasabi<1.2.0,>=0.9.1 in c:\\users\\gueid\\anaconda3\\envs\\tftextgenmodelexample\\lib\\site-packages (from spacy->-r requirements.txt (line 6)) (1.1.3)\n",
      "Requirement already satisfied: srsly<3.0.0,>=2.4.3 in c:\\users\\gueid\\anaconda3\\envs\\tftextgenmodelexample\\lib\\site-packages (from spacy->-r requirements.txt (line 6)) (2.4.8)\n",
      "Requirement already satisfied: catalogue<2.1.0,>=2.0.6 in c:\\users\\gueid\\anaconda3\\envs\\tftextgenmodelexample\\lib\\site-packages (from spacy->-r requirements.txt (line 6)) (2.0.10)\n",
      "Requirement already satisfied: weasel<0.4.0,>=0.1.0 in c:\\users\\gueid\\anaconda3\\envs\\tftextgenmodelexample\\lib\\site-packages (from spacy->-r requirements.txt (line 6)) (0.3.4)\n",
      "Requirement already satisfied: typer<0.10.0,>=0.3.0 in c:\\users\\gueid\\anaconda3\\envs\\tftextgenmodelexample\\lib\\site-packages (from spacy->-r requirements.txt (line 6)) (0.9.4)\n",
      "Requirement already satisfied: smart-open<7.0.0,>=5.2.1 in c:\\users\\gueid\\anaconda3\\envs\\tftextgenmodelexample\\lib\\site-packages (from spacy->-r requirements.txt (line 6)) (6.4.0)\n",
      "Requirement already satisfied: tqdm<5.0.0,>=4.38.0 in c:\\users\\gueid\\anaconda3\\envs\\tftextgenmodelexample\\lib\\site-packages (from spacy->-r requirements.txt (line 6)) (4.66.4)\n",
      "Requirement already satisfied: requests<3.0.0,>=2.13.0 in c:\\users\\gueid\\anaconda3\\envs\\tftextgenmodelexample\\lib\\site-packages (from spacy->-r requirements.txt (line 6)) (2.31.0)\n",
      "Requirement already satisfied: pydantic!=1.8,!=1.8.1,<3.0.0,>=1.7.4 in c:\\users\\gueid\\anaconda3\\envs\\tftextgenmodelexample\\lib\\site-packages (from spacy->-r requirements.txt (line 6)) (2.7.3)\n",
      "Requirement already satisfied: jinja2 in c:\\users\\gueid\\anaconda3\\envs\\tftextgenmodelexample\\lib\\site-packages (from spacy->-r requirements.txt (line 6)) (3.1.4)\n",
      "Requirement already satisfied: setuptools in c:\\users\\gueid\\anaconda3\\envs\\tftextgenmodelexample\\lib\\site-packages (from spacy->-r requirements.txt (line 6)) (69.5.1)\n",
      "Requirement already satisfied: langcodes<4.0.0,>=3.2.0 in c:\\users\\gueid\\anaconda3\\envs\\tftextgenmodelexample\\lib\\site-packages (from spacy->-r requirements.txt (line 6)) (3.4.0)\n",
      "Requirement already satisfied: scipy>=1.6.0 in c:\\users\\gueid\\anaconda3\\envs\\tftextgenmodelexample\\lib\\site-packages (from scikit-learn->-r requirements.txt (line 7)) (1.13.1)\n",
      "Requirement already satisfied: joblib>=1.2.0 in c:\\users\\gueid\\anaconda3\\envs\\tftextgenmodelexample\\lib\\site-packages (from scikit-learn->-r requirements.txt (line 7)) (1.4.2)\n",
      "Requirement already satisfied: threadpoolctl>=3.1.0 in c:\\users\\gueid\\anaconda3\\envs\\tftextgenmodelexample\\lib\\site-packages (from scikit-learn->-r requirements.txt (line 7)) (3.5.0)\n",
      "Requirement already satisfied: fastjsonschema>=2.15 in c:\\users\\gueid\\anaconda3\\envs\\tftextgenmodelexample\\lib\\site-packages (from nbformat->-r requirements.txt (line 8)) (2.19.1)\n",
      "Requirement already satisfied: jsonschema>=2.6 in c:\\users\\gueid\\anaconda3\\envs\\tftextgenmodelexample\\lib\\site-packages (from nbformat->-r requirements.txt (line 8)) (4.22.0)\n",
      "Requirement already satisfied: jupyter-core!=5.0.*,>=4.12 in c:\\users\\gueid\\appdata\\roaming\\python\\python310\\site-packages (from nbformat->-r requirements.txt (line 8)) (5.7.2)\n",
      "Requirement already satisfied: traitlets>=5.1 in c:\\users\\gueid\\appdata\\roaming\\python\\python310\\site-packages (from nbformat->-r requirements.txt (line 8)) (5.14.2)\n",
      "Requirement already satisfied: attrs>=22.2.0 in c:\\users\\gueid\\anaconda3\\envs\\tftextgenmodelexample\\lib\\site-packages (from jsonschema>=2.6->nbformat->-r requirements.txt (line 8)) (23.2.0)\n",
      "Requirement already satisfied: jsonschema-specifications>=2023.03.6 in c:\\users\\gueid\\anaconda3\\envs\\tftextgenmodelexample\\lib\\site-packages (from jsonschema>=2.6->nbformat->-r requirements.txt (line 8)) (2023.12.1)\n",
      "Requirement already satisfied: referencing>=0.28.4 in c:\\users\\gueid\\anaconda3\\envs\\tftextgenmodelexample\\lib\\site-packages (from jsonschema>=2.6->nbformat->-r requirements.txt (line 8)) (0.35.1)\n",
      "Requirement already satisfied: rpds-py>=0.7.1 in c:\\users\\gueid\\anaconda3\\envs\\tftextgenmodelexample\\lib\\site-packages (from jsonschema>=2.6->nbformat->-r requirements.txt (line 8)) (0.18.1)\n",
      "Requirement already satisfied: platformdirs>=2.5 in c:\\users\\gueid\\appdata\\roaming\\python\\python310\\site-packages (from jupyter-core!=5.0.*,>=4.12->nbformat->-r requirements.txt (line 8)) (4.2.0)\n",
      "Requirement already satisfied: pywin32>=300 in c:\\users\\gueid\\appdata\\roaming\\python\\python310\\site-packages (from jupyter-core!=5.0.*,>=4.12->nbformat->-r requirements.txt (line 8)) (306)\n",
      "Requirement already satisfied: language-data>=1.2 in c:\\users\\gueid\\anaconda3\\envs\\tftextgenmodelexample\\lib\\site-packages (from langcodes<4.0.0,>=3.2.0->spacy->-r requirements.txt (line 6)) (1.2.0)\n",
      "Requirement already satisfied: click in c:\\users\\gueid\\anaconda3\\envs\\tftextgenmodelexample\\lib\\site-packages (from nltk>=3.8->textblob->-r requirements.txt (line 5)) (8.1.7)\n",
      "Requirement already satisfied: regex>=2021.8.3 in c:\\users\\gueid\\anaconda3\\envs\\tftextgenmodelexample\\lib\\site-packages (from nltk>=3.8->textblob->-r requirements.txt (line 5)) (2024.4.28)\n",
      "Requirement already satisfied: annotated-types>=0.4.0 in c:\\users\\gueid\\anaconda3\\envs\\tftextgenmodelexample\\lib\\site-packages (from pydantic!=1.8,!=1.8.1,<3.0.0,>=1.7.4->spacy->-r requirements.txt (line 6)) (0.7.0)\n",
      "Requirement already satisfied: pydantic-core==2.18.4 in c:\\users\\gueid\\anaconda3\\envs\\tftextgenmodelexample\\lib\\site-packages (from pydantic!=1.8,!=1.8.1,<3.0.0,>=1.7.4->spacy->-r requirements.txt (line 6)) (2.18.4)\n",
      "Requirement already satisfied: typing-extensions>=4.6.1 in c:\\users\\gueid\\anaconda3\\envs\\tftextgenmodelexample\\lib\\site-packages (from pydantic!=1.8,!=1.8.1,<3.0.0,>=1.7.4->spacy->-r requirements.txt (line 6)) (4.9.0)\n",
      "Requirement already satisfied: six>=1.5 in c:\\users\\gueid\\anaconda3\\envs\\tftextgenmodelexample\\lib\\site-packages (from python-dateutil>=2.8.2->pandas->-r requirements.txt (line 1)) (1.16.0)\n",
      "Requirement already satisfied: charset-normalizer<4,>=2 in c:\\users\\gueid\\anaconda3\\envs\\tftextgenmodelexample\\lib\\site-packages (from requests<3.0.0,>=2.13.0->spacy->-r requirements.txt (line 6)) (3.3.2)\n",
      "Requirement already satisfied: idna<4,>=2.5 in c:\\users\\gueid\\anaconda3\\envs\\tftextgenmodelexample\\lib\\site-packages (from requests<3.0.0,>=2.13.0->spacy->-r requirements.txt (line 6)) (3.7)\n",
      "Requirement already satisfied: urllib3<3,>=1.21.1 in c:\\users\\gueid\\anaconda3\\envs\\tftextgenmodelexample\\lib\\site-packages (from requests<3.0.0,>=2.13.0->spacy->-r requirements.txt (line 6)) (2.2.1)\n",
      "Requirement already satisfied: certifi>=2017.4.17 in c:\\users\\gueid\\anaconda3\\envs\\tftextgenmodelexample\\lib\\site-packages (from requests<3.0.0,>=2.13.0->spacy->-r requirements.txt (line 6)) (2024.2.2)\n",
      "Requirement already satisfied: blis<0.8.0,>=0.7.8 in c:\\users\\gueid\\anaconda3\\envs\\tftextgenmodelexample\\lib\\site-packages (from thinc<8.3.0,>=8.2.2->spacy->-r requirements.txt (line 6)) (0.7.11)\n",
      "Requirement already satisfied: confection<1.0.0,>=0.0.1 in c:\\users\\gueid\\anaconda3\\envs\\tftextgenmodelexample\\lib\\site-packages (from thinc<8.3.0,>=8.2.2->spacy->-r requirements.txt (line 6)) (0.1.5)\n",
      "Requirement already satisfied: colorama in c:\\users\\gueid\\anaconda3\\envs\\tftextgenmodelexample\\lib\\site-packages (from tqdm<5.0.0,>=4.38.0->spacy->-r requirements.txt (line 6)) (0.4.6)\n",
      "Requirement already satisfied: cloudpathlib<0.17.0,>=0.7.0 in c:\\users\\gueid\\anaconda3\\envs\\tftextgenmodelexample\\lib\\site-packages (from weasel<0.4.0,>=0.1.0->spacy->-r requirements.txt (line 6)) (0.16.0)\n",
      "Requirement already satisfied: MarkupSafe>=2.0 in c:\\users\\gueid\\anaconda3\\envs\\tftextgenmodelexample\\lib\\site-packages (from jinja2->spacy->-r requirements.txt (line 6)) (2.1.5)\n",
      "Requirement already satisfied: marisa-trie>=0.7.7 in c:\\users\\gueid\\anaconda3\\envs\\tftextgenmodelexample\\lib\\site-packages (from language-data>=1.2->langcodes<4.0.0,>=3.2.0->spacy->-r requirements.txt (line 6)) (1.1.1)\n",
      "Note: you may need to restart the kernel to use updated packages.\n"
     ]
    }
   ],
   "source": [
    "%pip install -r requirements.txt"
   ]
  },
  {
   "cell_type": "code",
   "execution_count": 3,
   "metadata": {},
   "outputs": [],
   "source": [
    "import pandas as pd \n",
    "import plotly.express as px \n",
    "from wordcloud import WordCloud \n",
    "import matplotlib.pyplot as plt \n",
    "from textblob import TextBlob \n",
    "import spacy \n",
    "from collections import defaultdict , Counter \n",
    "from sklearn.feature_extraction.text import CountVectorizer\n",
    "from sklearn.decomposition import LatentDirichletAllocation"
   ]
  },
  {
   "cell_type": "code",
   "execution_count": 4,
   "metadata": {},
   "outputs": [
    {
     "name": "stdout",
     "output_type": "stream",
     "text": [
      "Collecting en-core-web-sm==3.7.1\n",
      "  Downloading https://github.com/explosion/spacy-models/releases/download/en_core_web_sm-3.7.1/en_core_web_sm-3.7.1-py3-none-any.whl (12.8 MB)\n",
      "     ---------------------------------------- 0.0/12.8 MB ? eta -:--:--\n",
      "     ---------------------------------------- 0.0/12.8 MB ? eta -:--:--\n",
      "     ---------------------------------------- 0.0/12.8 MB ? eta -:--:--\n",
      "     --------------------------------------- 0.0/12.8 MB 320.0 kB/s eta 0:00:40\n",
      "     --------------------------------------- 0.0/12.8 MB 320.0 kB/s eta 0:00:40\n",
      "     --------------------------------------- 0.0/12.8 MB 145.2 kB/s eta 0:01:28\n",
      "     --------------------------------------- 0.0/12.8 MB 145.2 kB/s eta 0:01:28\n",
      "     --------------------------------------- 0.0/12.8 MB 130.7 kB/s eta 0:01:38\n",
      "     --------------------------------------- 0.0/12.8 MB 130.7 kB/s eta 0:01:38\n",
      "     --------------------------------------- 0.1/12.8 MB 155.6 kB/s eta 0:01:22\n",
      "     --------------------------------------- 0.1/12.8 MB 176.1 kB/s eta 0:01:13\n",
      "     --------------------------------------- 0.1/12.8 MB 176.1 kB/s eta 0:01:13\n",
      "     --------------------------------------- 0.1/12.8 MB 174.7 kB/s eta 0:01:13\n",
      "     --------------------------------------- 0.1/12.8 MB 174.7 kB/s eta 0:01:13\n",
      "     --------------------------------------- 0.1/12.8 MB 174.7 kB/s eta 0:01:13\n",
      "     --------------------------------------- 0.1/12.8 MB 167.9 kB/s eta 0:01:16\n",
      "     --------------------------------------- 0.1/12.8 MB 167.6 kB/s eta 0:01:16\n",
      "     --------------------------------------- 0.1/12.8 MB 167.6 kB/s eta 0:01:16\n",
      "     --------------------------------------- 0.1/12.8 MB 170.2 kB/s eta 0:01:15\n",
      "     --------------------------------------- 0.1/12.8 MB 170.2 kB/s eta 0:01:15\n",
      "     --------------------------------------- 0.1/12.8 MB 170.2 kB/s eta 0:01:15\n",
      "     --------------------------------------- 0.2/12.8 MB 169.3 kB/s eta 0:01:15\n",
      "     --------------------------------------- 0.2/12.8 MB 169.3 kB/s eta 0:01:15\n",
      "      -------------------------------------- 0.2/12.8 MB 163.8 kB/s eta 0:01:18\n",
      "      -------------------------------------- 0.2/12.8 MB 163.8 kB/s eta 0:01:18\n",
      "      -------------------------------------- 0.2/12.8 MB 170.8 kB/s eta 0:01:14\n",
      "      -------------------------------------- 0.2/12.8 MB 170.5 kB/s eta 0:01:14\n",
      "      -------------------------------------- 0.2/12.8 MB 170.5 kB/s eta 0:01:14\n",
      "      -------------------------------------- 0.2/12.8 MB 170.5 kB/s eta 0:01:14\n",
      "      -------------------------------------- 0.2/12.8 MB 172.0 kB/s eta 0:01:14\n",
      "      -------------------------------------- 0.2/12.8 MB 172.0 kB/s eta 0:01:14\n",
      "      -------------------------------------- 0.2/12.8 MB 175.2 kB/s eta 0:01:12\n",
      "      -------------------------------------- 0.2/12.8 MB 175.2 kB/s eta 0:01:12\n",
      "      -------------------------------------- 0.3/12.8 MB 169.0 kB/s eta 0:01:15\n",
      "      -------------------------------------- 0.3/12.8 MB 173.8 kB/s eta 0:01:13\n",
      "      -------------------------------------- 0.3/12.8 MB 173.8 kB/s eta 0:01:13\n",
      "      -------------------------------------- 0.3/12.8 MB 173.8 kB/s eta 0:01:13\n",
      "      -------------------------------------- 0.3/12.8 MB 168.5 kB/s eta 0:01:15\n",
      "      -------------------------------------- 0.3/12.8 MB 168.5 kB/s eta 0:01:15\n",
      "      -------------------------------------- 0.3/12.8 MB 172.8 kB/s eta 0:01:13\n",
      "      -------------------------------------- 0.3/12.8 MB 176.6 kB/s eta 0:01:11\n",
      "      -------------------------------------- 0.3/12.8 MB 176.6 kB/s eta 0:01:11\n",
      "     - ------------------------------------- 0.3/12.8 MB 174.8 kB/s eta 0:01:12\n",
      "     - ------------------------------------- 0.3/12.8 MB 174.8 kB/s eta 0:01:12\n",
      "     - ------------------------------------- 0.4/12.8 MB 176.8 kB/s eta 0:01:11\n",
      "     - ------------------------------------- 0.4/12.8 MB 176.8 kB/s eta 0:01:11\n",
      "     - ------------------------------------- 0.4/12.8 MB 176.8 kB/s eta 0:01:11\n",
      "     - ------------------------------------- 0.4/12.8 MB 171.2 kB/s eta 0:01:13\n",
      "     - ------------------------------------- 0.4/12.8 MB 171.2 kB/s eta 0:01:13\n",
      "     - ------------------------------------- 0.4/12.8 MB 171.9 kB/s eta 0:01:13\n",
      "     - ------------------------------------- 0.4/12.8 MB 176.2 kB/s eta 0:01:11\n",
      "     - ------------------------------------- 0.4/12.8 MB 176.2 kB/s eta 0:01:11\n",
      "     - ------------------------------------- 0.4/12.8 MB 176.2 kB/s eta 0:01:11\n",
      "     - ------------------------------------- 0.4/12.8 MB 171.3 kB/s eta 0:01:13\n",
      "     - ------------------------------------- 0.4/12.8 MB 171.3 kB/s eta 0:01:13\n",
      "     - ------------------------------------- 0.4/12.8 MB 174.2 kB/s eta 0:01:11\n",
      "     - ------------------------------------- 0.5/12.8 MB 172.9 kB/s eta 0:01:12\n",
      "     - ------------------------------------- 0.5/12.8 MB 172.9 kB/s eta 0:01:12\n",
      "     - ------------------------------------- 0.5/12.8 MB 175.5 kB/s eta 0:01:11\n",
      "     - ------------------------------------- 0.5/12.8 MB 175.5 kB/s eta 0:01:11\n",
      "     - ------------------------------------- 0.5/12.8 MB 175.5 kB/s eta 0:01:11\n",
      "     - ------------------------------------- 0.5/12.8 MB 175.5 kB/s eta 0:01:11\n",
      "     - ------------------------------------- 0.5/12.8 MB 173.0 kB/s eta 0:01:12\n",
      "     - ------------------------------------- 0.5/12.8 MB 171.9 kB/s eta 0:01:12\n",
      "     - ------------------------------------- 0.5/12.8 MB 171.9 kB/s eta 0:01:12\n",
      "     - ------------------------------------- 0.5/12.8 MB 174.3 kB/s eta 0:01:11\n",
      "     - ------------------------------------- 0.5/12.8 MB 173.2 kB/s eta 0:01:11\n",
      "     - ------------------------------------- 0.5/12.8 MB 173.2 kB/s eta 0:01:11\n",
      "     - ------------------------------------- 0.5/12.8 MB 173.2 kB/s eta 0:01:11\n",
      "     - ------------------------------------- 0.6/12.8 MB 172.8 kB/s eta 0:01:11\n",
      "     - ------------------------------------- 0.6/12.8 MB 175.0 kB/s eta 0:01:10\n",
      "     - ------------------------------------- 0.6/12.8 MB 175.0 kB/s eta 0:01:10\n",
      "     - ------------------------------------- 0.6/12.8 MB 172.3 kB/s eta 0:01:11\n",
      "     - ------------------------------------- 0.6/12.8 MB 172.3 kB/s eta 0:01:11\n",
      "     - ------------------------------------- 0.6/12.8 MB 174.3 kB/s eta 0:01:10\n",
      "     - ------------------------------------- 0.6/12.8 MB 174.3 kB/s eta 0:01:10\n",
      "     - ------------------------------------- 0.6/12.8 MB 174.3 kB/s eta 0:01:10\n",
      "     - ------------------------------------- 0.6/12.8 MB 171.1 kB/s eta 0:01:12\n",
      "     - ------------------------------------- 0.6/12.8 MB 171.1 kB/s eta 0:01:12\n",
      "     - ------------------------------------- 0.6/12.8 MB 172.3 kB/s eta 0:01:11\n",
      "     - ------------------------------------- 0.7/12.8 MB 174.9 kB/s eta 0:01:10\n",
      "     - ------------------------------------- 0.7/12.8 MB 174.9 kB/s eta 0:01:10\n",
      "     -- ------------------------------------ 0.7/12.8 MB 174.0 kB/s eta 0:01:10\n",
      "     -- ------------------------------------ 0.7/12.8 MB 174.0 kB/s eta 0:01:10\n",
      "     -- ------------------------------------ 0.7/12.8 MB 174.0 kB/s eta 0:01:10\n",
      "     -- ------------------------------------ 0.7/12.8 MB 173.0 kB/s eta 0:01:11\n",
      "     -- ------------------------------------ 0.7/12.8 MB 173.0 kB/s eta 0:01:11\n",
      "     -- ------------------------------------ 0.7/12.8 MB 171.5 kB/s eta 0:01:11\n",
      "     -- ------------------------------------ 0.7/12.8 MB 173.2 kB/s eta 0:01:10\n",
      "     -- ------------------------------------ 0.7/12.8 MB 173.2 kB/s eta 0:01:10\n",
      "     -- ------------------------------------ 0.7/12.8 MB 174.9 kB/s eta 0:01:09\n",
      "     -- ------------------------------------ 0.7/12.8 MB 174.9 kB/s eta 0:01:09\n",
      "     -- ------------------------------------ 0.7/12.8 MB 174.9 kB/s eta 0:01:09\n",
      "     -- ------------------------------------ 0.7/12.8 MB 172.2 kB/s eta 0:01:11\n",
      "     -- ------------------------------------ 0.7/12.8 MB 172.2 kB/s eta 0:01:11\n",
      "     -- ------------------------------------ 0.8/12.8 MB 173.8 kB/s eta 0:01:10\n",
      "     -- ------------------------------------ 0.8/12.8 MB 173.1 kB/s eta 0:01:10\n",
      "     -- ------------------------------------ 0.8/12.8 MB 173.1 kB/s eta 0:01:10\n",
      "     -- ------------------------------------ 0.8/12.8 MB 174.6 kB/s eta 0:01:09\n",
      "     -- ------------------------------------ 0.8/12.8 MB 174.6 kB/s eta 0:01:09\n",
      "     -- ------------------------------------ 0.8/12.8 MB 174.6 kB/s eta 0:01:09\n",
      "     -- ------------------------------------ 0.8/12.8 MB 173.2 kB/s eta 0:01:10\n",
      "     -- ------------------------------------ 0.8/12.8 MB 173.2 kB/s eta 0:01:10\n",
      "     -- ------------------------------------ 0.8/12.8 MB 171.9 kB/s eta 0:01:10\n",
      "     -- ------------------------------------ 0.8/12.8 MB 171.9 kB/s eta 0:01:10\n",
      "     -- ------------------------------------ 0.8/12.8 MB 173.3 kB/s eta 0:01:09\n",
      "     -- ------------------------------------ 0.8/12.8 MB 173.3 kB/s eta 0:01:09\n",
      "     -- ------------------------------------ 0.8/12.8 MB 173.3 kB/s eta 0:01:09\n",
      "     -- ------------------------------------ 0.9/12.8 MB 171.0 kB/s eta 0:01:10\n",
      "     -- ------------------------------------ 0.9/12.8 MB 172.5 kB/s eta 0:01:10\n",
      "     -- ------------------------------------ 0.9/12.8 MB 172.5 kB/s eta 0:01:10\n",
      "     -- ------------------------------------ 0.9/12.8 MB 173.8 kB/s eta 0:01:09\n",
      "     -- ------------------------------------ 0.9/12.8 MB 173.8 kB/s eta 0:01:09\n",
      "     -- ------------------------------------ 0.9/12.8 MB 172.1 kB/s eta 0:01:10\n",
      "     -- ------------------------------------ 0.9/12.8 MB 172.1 kB/s eta 0:01:10\n",
      "     -- ------------------------------------ 0.9/12.8 MB 172.1 kB/s eta 0:01:10\n",
      "     -- ------------------------------------ 0.9/12.8 MB 171.9 kB/s eta 0:01:10\n",
      "     -- ------------------------------------ 0.9/12.8 MB 171.9 kB/s eta 0:01:10\n",
      "     -- ------------------------------------ 0.9/12.8 MB 171.4 kB/s eta 0:01:10\n",
      "     -- ------------------------------------ 1.0/12.8 MB 172.6 kB/s eta 0:01:09\n",
      "     -- ------------------------------------ 1.0/12.8 MB 172.6 kB/s eta 0:01:09\n",
      "     -- ------------------------------------ 1.0/12.8 MB 173.9 kB/s eta 0:01:08\n",
      "     -- ------------------------------------ 1.0/12.8 MB 173.9 kB/s eta 0:01:08\n",
      "     -- ------------------------------------ 1.0/12.8 MB 173.9 kB/s eta 0:01:08\n",
      "     --- ----------------------------------- 1.0/12.8 MB 171.9 kB/s eta 0:01:09\n",
      "     --- ----------------------------------- 1.0/12.8 MB 171.9 kB/s eta 0:01:09\n",
      "     --- ----------------------------------- 1.0/12.8 MB 172.2 kB/s eta 0:01:09\n",
      "     --- ----------------------------------- 1.0/12.8 MB 172.2 kB/s eta 0:01:09\n",
      "     --- ----------------------------------- 1.0/12.8 MB 171.2 kB/s eta 0:01:09\n",
      "     --- ----------------------------------- 1.0/12.8 MB 171.2 kB/s eta 0:01:09\n",
      "     --- ----------------------------------- 1.0/12.8 MB 171.2 kB/s eta 0:01:09\n",
      "     --- ----------------------------------- 1.0/12.8 MB 170.1 kB/s eta 0:01:10\n",
      "     --- ----------------------------------- 1.0/12.8 MB 170.1 kB/s eta 0:01:10\n",
      "     --- ----------------------------------- 1.1/12.8 MB 171.3 kB/s eta 0:01:09\n",
      "     --- ----------------------------------- 1.1/12.8 MB 171.3 kB/s eta 0:01:09\n",
      "     --- ----------------------------------- 1.1/12.8 MB 170.8 kB/s eta 0:01:09\n",
      "     --- ----------------------------------- 1.1/12.8 MB 171.9 kB/s eta 0:01:09\n",
      "     --- ----------------------------------- 1.1/12.8 MB 171.9 kB/s eta 0:01:09\n",
      "     --- ----------------------------------- 1.1/12.8 MB 171.9 kB/s eta 0:01:09\n",
      "     --- ----------------------------------- 1.1/12.8 MB 170.6 kB/s eta 0:01:09\n",
      "     --- ----------------------------------- 1.1/12.8 MB 170.6 kB/s eta 0:01:09\n",
      "     --- ----------------------------------- 1.1/12.8 MB 170.9 kB/s eta 0:01:09\n",
      "     --- ----------------------------------- 1.1/12.8 MB 170.9 kB/s eta 0:01:09\n",
      "     --- ----------------------------------- 1.1/12.8 MB 172.0 kB/s eta 0:01:08\n",
      "     --- ----------------------------------- 1.2/12.8 MB 171.5 kB/s eta 0:01:08\n",
      "     --- ----------------------------------- 1.2/12.8 MB 171.5 kB/s eta 0:01:08\n",
      "     --- ----------------------------------- 1.2/12.8 MB 171.5 kB/s eta 0:01:08\n",
      "     --- ----------------------------------- 1.2/12.8 MB 171.3 kB/s eta 0:01:08\n",
      "     --- ----------------------------------- 1.2/12.8 MB 171.3 kB/s eta 0:01:08\n",
      "     --- ----------------------------------- 1.2/12.8 MB 170.9 kB/s eta 0:01:08\n",
      "     --- ----------------------------------- 1.2/12.8 MB 171.9 kB/s eta 0:01:08\n",
      "     --- ----------------------------------- 1.2/12.8 MB 171.9 kB/s eta 0:01:08\n",
      "     --- ----------------------------------- 1.2/12.8 MB 173.3 kB/s eta 0:01:07\n",
      "     --- ----------------------------------- 1.2/12.8 MB 173.3 kB/s eta 0:01:07\n",
      "     --- ----------------------------------- 1.2/12.8 MB 173.3 kB/s eta 0:01:07\n",
      "     --- ----------------------------------- 1.2/12.8 MB 170.6 kB/s eta 0:01:08\n",
      "     --- ----------------------------------- 1.2/12.8 MB 170.6 kB/s eta 0:01:08\n",
      "     --- ----------------------------------- 1.3/12.8 MB 171.6 kB/s eta 0:01:08\n",
      "     --- ----------------------------------- 1.3/12.8 MB 171.6 kB/s eta 0:01:08\n",
      "     --- ----------------------------------- 1.3/12.8 MB 170.4 kB/s eta 0:01:08\n",
      "     --- ----------------------------------- 1.3/12.8 MB 170.4 kB/s eta 0:01:08\n",
      "     --- ----------------------------------- 1.3/12.8 MB 171.7 kB/s eta 0:01:08\n",
      "     --- ----------------------------------- 1.3/12.8 MB 171.7 kB/s eta 0:01:08\n",
      "     --- ----------------------------------- 1.3/12.8 MB 171.7 kB/s eta 0:01:08\n",
      "     --- ----------------------------------- 1.3/12.8 MB 171.2 kB/s eta 0:01:08\n",
      "     ---- ---------------------------------- 1.3/12.8 MB 170.8 kB/s eta 0:01:08\n",
      "     ---- ---------------------------------- 1.3/12.8 MB 170.8 kB/s eta 0:01:08\n",
      "     ---- ---------------------------------- 1.3/12.8 MB 171.8 kB/s eta 0:01:07\n",
      "     ---- ---------------------------------- 1.3/12.8 MB 171.8 kB/s eta 0:01:07\n",
      "     ---- ---------------------------------- 1.3/12.8 MB 171.8 kB/s eta 0:01:07\n",
      "     ---- ---------------------------------- 1.4/12.8 MB 170.0 kB/s eta 0:01:08\n",
      "     ---- ---------------------------------- 1.4/12.8 MB 170.0 kB/s eta 0:01:08\n",
      "     ---- ---------------------------------- 1.4/12.8 MB 170.9 kB/s eta 0:01:07\n",
      "     ---- ---------------------------------- 1.4/12.8 MB 171.8 kB/s eta 0:01:07\n",
      "     ---- ---------------------------------- 1.4/12.8 MB 171.8 kB/s eta 0:01:07\n",
      "     ---- ---------------------------------- 1.4/12.8 MB 171.4 kB/s eta 0:01:07\n",
      "     ---- ---------------------------------- 1.4/12.8 MB 171.4 kB/s eta 0:01:07\n",
      "     ---- ---------------------------------- 1.4/12.8 MB 172.6 kB/s eta 0:01:06\n",
      "     ---- ---------------------------------- 1.4/12.8 MB 172.6 kB/s eta 0:01:06\n",
      "     ---- ---------------------------------- 1.4/12.8 MB 170.9 kB/s eta 0:01:07\n",
      "     ---- ---------------------------------- 1.4/12.8 MB 170.9 kB/s eta 0:01:07\n",
      "     ---- ---------------------------------- 1.4/12.8 MB 170.9 kB/s eta 0:01:07\n",
      "     ---- ---------------------------------- 1.5/12.8 MB 171.4 kB/s eta 0:01:07\n",
      "     ---- ---------------------------------- 1.5/12.8 MB 172.3 kB/s eta 0:01:06\n",
      "     ---- ---------------------------------- 1.5/12.8 MB 172.3 kB/s eta 0:01:06\n",
      "     ---- ---------------------------------- 1.5/12.8 MB 172.3 kB/s eta 0:01:06\n",
      "     ---- ---------------------------------- 1.5/12.8 MB 171.0 kB/s eta 0:01:07\n",
      "     ---- ---------------------------------- 1.5/12.8 MB 171.0 kB/s eta 0:01:07\n",
      "     ---- ---------------------------------- 1.5/12.8 MB 171.8 kB/s eta 0:01:06\n",
      "     ---- ---------------------------------- 1.5/12.8 MB 171.8 kB/s eta 0:01:06\n",
      "     ---- ---------------------------------- 1.5/12.8 MB 170.8 kB/s eta 0:01:07\n",
      "     ---- ---------------------------------- 1.5/12.8 MB 170.8 kB/s eta 0:01:07\n",
      "     ---- ---------------------------------- 1.5/12.8 MB 171.6 kB/s eta 0:01:06\n",
      "     ---- ---------------------------------- 1.5/12.8 MB 171.6 kB/s eta 0:01:06\n",
      "     ---- ---------------------------------- 1.6/12.8 MB 171.5 kB/s eta 0:01:06\n",
      "     ---- ---------------------------------- 1.6/12.8 MB 171.5 kB/s eta 0:01:06\n",
      "     ---- ---------------------------------- 1.6/12.8 MB 170.9 kB/s eta 0:01:06\n",
      "     ---- ---------------------------------- 1.6/12.8 MB 170.9 kB/s eta 0:01:06\n",
      "     ---- ---------------------------------- 1.6/12.8 MB 171.6 kB/s eta 0:01:06\n",
      "     ---- ---------------------------------- 1.6/12.8 MB 171.6 kB/s eta 0:01:06\n",
      "     ---- ---------------------------------- 1.6/12.8 MB 171.3 kB/s eta 0:01:06\n",
      "     ---- ---------------------------------- 1.6/12.8 MB 171.3 kB/s eta 0:01:06\n",
      "     ---- ---------------------------------- 1.6/12.8 MB 171.2 kB/s eta 0:01:06\n",
      "     ---- ---------------------------------- 1.6/12.8 MB 171.2 kB/s eta 0:01:06\n",
      "     ---- ---------------------------------- 1.6/12.8 MB 171.9 kB/s eta 0:01:05\n",
      "     ---- ---------------------------------- 1.6/12.8 MB 171.9 kB/s eta 0:01:05\n",
      "     ----- --------------------------------- 1.6/12.8 MB 171.6 kB/s eta 0:01:05\n",
      "     ----- --------------------------------- 1.7/12.8 MB 172.4 kB/s eta 0:01:05\n",
      "     ----- --------------------------------- 1.7/12.8 MB 172.4 kB/s eta 0:01:05\n",
      "     ----- --------------------------------- 1.7/12.8 MB 172.4 kB/s eta 0:01:05\n",
      "     ----- --------------------------------- 1.7/12.8 MB 170.6 kB/s eta 0:01:06\n",
      "     ----- --------------------------------- 1.7/12.8 MB 170.6 kB/s eta 0:01:06\n",
      "     ----- --------------------------------- 1.7/12.8 MB 171.1 kB/s eta 0:01:05\n",
      "     ----- --------------------------------- 1.7/12.8 MB 171.1 kB/s eta 0:01:05\n",
      "     ----- --------------------------------- 1.7/12.8 MB 171.8 kB/s eta 0:01:05\n",
      "     ----- --------------------------------- 1.7/12.8 MB 171.8 kB/s eta 0:01:05\n",
      "     ----- --------------------------------- 1.7/12.8 MB 171.5 kB/s eta 0:01:05\n",
      "     ----- --------------------------------- 1.7/12.8 MB 171.5 kB/s eta 0:01:05\n",
      "     ----- --------------------------------- 1.7/12.8 MB 171.5 kB/s eta 0:01:05\n",
      "     ----- --------------------------------- 1.8/12.8 MB 171.4 kB/s eta 0:01:05\n",
      "     ----- --------------------------------- 1.8/12.8 MB 171.1 kB/s eta 0:01:05\n",
      "     ----- --------------------------------- 1.8/12.8 MB 171.1 kB/s eta 0:01:05\n",
      "     ----- --------------------------------- 1.8/12.8 MB 172.0 kB/s eta 0:01:05\n",
      "     ----- --------------------------------- 1.8/12.8 MB 172.0 kB/s eta 0:01:05\n",
      "     ----- --------------------------------- 1.8/12.8 MB 172.0 kB/s eta 0:01:05\n",
      "     ----- --------------------------------- 1.8/12.8 MB 171.4 kB/s eta 0:01:05\n",
      "     ----- --------------------------------- 1.8/12.8 MB 171.4 kB/s eta 0:01:05\n",
      "     ----- --------------------------------- 1.8/12.8 MB 171.1 kB/s eta 0:01:05\n",
      "     ----- --------------------------------- 1.8/12.8 MB 171.8 kB/s eta 0:01:04\n",
      "     ----- --------------------------------- 1.8/12.8 MB 171.8 kB/s eta 0:01:04\n",
      "     ----- --------------------------------- 1.8/12.8 MB 171.5 kB/s eta 0:01:04\n",
      "     ----- --------------------------------- 1.8/12.8 MB 171.5 kB/s eta 0:01:04\n",
      "     ----- --------------------------------- 1.9/12.8 MB 172.2 kB/s eta 0:01:04\n",
      "     ----- --------------------------------- 1.9/12.8 MB 172.2 kB/s eta 0:01:04\n",
      "     ----- --------------------------------- 1.9/12.8 MB 172.3 kB/s eta 0:01:04\n",
      "     ----- --------------------------------- 1.9/12.8 MB 172.3 kB/s eta 0:01:04\n",
      "     ----- --------------------------------- 1.9/12.8 MB 171.5 kB/s eta 0:01:04\n",
      "     ----- --------------------------------- 1.9/12.8 MB 171.5 kB/s eta 0:01:04\n",
      "     ----- --------------------------------- 1.9/12.8 MB 172.2 kB/s eta 0:01:04\n",
      "     ----- --------------------------------- 1.9/12.8 MB 172.2 kB/s eta 0:01:04\n",
      "     ----- --------------------------------- 1.9/12.8 MB 172.2 kB/s eta 0:01:04\n",
      "     ----- --------------------------------- 1.9/12.8 MB 170.9 kB/s eta 0:01:04\n",
      "     ----- --------------------------------- 1.9/12.8 MB 170.9 kB/s eta 0:01:04\n",
      "     ----- --------------------------------- 1.9/12.8 MB 171.5 kB/s eta 0:01:04\n",
      "     ----- --------------------------------- 2.0/12.8 MB 172.4 kB/s eta 0:01:03\n",
      "     ----- --------------------------------- 2.0/12.8 MB 172.4 kB/s eta 0:01:03\n",
      "     ------ -------------------------------- 2.0/12.8 MB 172.1 kB/s eta 0:01:03\n",
      "     ------ -------------------------------- 2.0/12.8 MB 172.1 kB/s eta 0:01:03\n",
      "     ------ -------------------------------- 2.0/12.8 MB 172.3 kB/s eta 0:01:03\n",
      "     ------ -------------------------------- 2.0/12.8 MB 172.3 kB/s eta 0:01:03\n",
      "     ------ -------------------------------- 2.0/12.8 MB 172.3 kB/s eta 0:01:03\n",
      "     ------ -------------------------------- 2.0/12.8 MB 171.3 kB/s eta 0:01:04\n",
      "     ------ -------------------------------- 2.0/12.8 MB 171.9 kB/s eta 0:01:03\n",
      "     ------ -------------------------------- 2.0/12.8 MB 171.9 kB/s eta 0:01:03\n",
      "     ------ -------------------------------- 2.0/12.8 MB 171.9 kB/s eta 0:01:03\n",
      "     ------ -------------------------------- 2.0/12.8 MB 171.8 kB/s eta 0:01:03\n",
      "     ------ -------------------------------- 2.0/12.8 MB 171.8 kB/s eta 0:01:03\n",
      "     ------ -------------------------------- 2.0/12.8 MB 171.8 kB/s eta 0:01:03\n",
      "     ------ -------------------------------- 2.1/12.8 MB 170.9 kB/s eta 0:01:03\n",
      "     ------ -------------------------------- 2.1/12.8 MB 171.5 kB/s eta 0:01:03\n",
      "     ------ -------------------------------- 2.1/12.8 MB 171.5 kB/s eta 0:01:03\n",
      "     ------ -------------------------------- 2.1/12.8 MB 171.2 kB/s eta 0:01:03\n",
      "     ------ -------------------------------- 2.1/12.8 MB 171.2 kB/s eta 0:01:03\n",
      "     ------ -------------------------------- 2.1/12.8 MB 172.0 kB/s eta 0:01:03\n",
      "     ------ -------------------------------- 2.1/12.8 MB 172.0 kB/s eta 0:01:03\n",
      "     ------ -------------------------------- 2.1/12.8 MB 172.0 kB/s eta 0:01:03\n",
      "     ------ -------------------------------- 2.1/12.8 MB 171.5 kB/s eta 0:01:03\n",
      "     ------ -------------------------------- 2.1/12.8 MB 171.5 kB/s eta 0:01:03\n",
      "     ------ -------------------------------- 2.1/12.8 MB 171.0 kB/s eta 0:01:03\n",
      "     ------ -------------------------------- 2.1/12.8 MB 171.0 kB/s eta 0:01:03\n",
      "     ------ -------------------------------- 2.2/12.8 MB 171.6 kB/s eta 0:01:03\n",
      "     ------ -------------------------------- 2.2/12.8 MB 171.6 kB/s eta 0:01:03\n",
      "     ------ -------------------------------- 2.2/12.8 MB 171.1 kB/s eta 0:01:03\n",
      "     ------ -------------------------------- 2.2/12.8 MB 171.1 kB/s eta 0:01:03\n",
      "     ------ -------------------------------- 2.2/12.8 MB 171.3 kB/s eta 0:01:02\n",
      "     ------ -------------------------------- 2.2/12.8 MB 171.3 kB/s eta 0:01:02\n",
      "     ------ -------------------------------- 2.2/12.8 MB 171.8 kB/s eta 0:01:02\n",
      "     ------ -------------------------------- 2.2/12.8 MB 171.8 kB/s eta 0:01:02\n",
      "     ------ -------------------------------- 2.2/12.8 MB 171.2 kB/s eta 0:01:02\n",
      "     ------ -------------------------------- 2.2/12.8 MB 171.2 kB/s eta 0:01:02\n",
      "     ------ -------------------------------- 2.2/12.8 MB 171.2 kB/s eta 0:01:02\n",
      "     ------ -------------------------------- 2.2/12.8 MB 171.1 kB/s eta 0:01:02\n",
      "     ------ -------------------------------- 2.2/12.8 MB 171.1 kB/s eta 0:01:02\n",
      "     ------ -------------------------------- 2.3/12.8 MB 170.7 kB/s eta 0:01:02\n",
      "     ------ -------------------------------- 2.3/12.8 MB 171.2 kB/s eta 0:01:02\n",
      "     ------ -------------------------------- 2.3/12.8 MB 171.2 kB/s eta 0:01:02\n",
      "     ------ -------------------------------- 2.3/12.8 MB 171.7 kB/s eta 0:01:02\n",
      "     ------ -------------------------------- 2.3/12.8 MB 171.7 kB/s eta 0:01:02\n",
      "     ------ -------------------------------- 2.3/12.8 MB 171.7 kB/s eta 0:01:02\n",
      "     ------- ------------------------------- 2.3/12.8 MB 170.9 kB/s eta 0:01:02\n",
      "     ------- ------------------------------- 2.3/12.8 MB 170.9 kB/s eta 0:01:02\n",
      "     ------- ------------------------------- 2.3/12.8 MB 171.2 kB/s eta 0:01:02\n",
      "     ------- ------------------------------- 2.3/12.8 MB 171.2 kB/s eta 0:01:02\n",
      "     ------- ------------------------------- 2.3/12.8 MB 170.8 kB/s eta 0:01:02\n",
      "     ------- ------------------------------- 2.3/12.8 MB 170.8 kB/s eta 0:01:02\n",
      "     ------- ------------------------------- 2.4/12.8 MB 170.9 kB/s eta 0:01:02\n",
      "     ------- ------------------------------- 2.4/12.8 MB 170.9 kB/s eta 0:01:02\n",
      "     ------- ------------------------------- 2.4/12.8 MB 170.9 kB/s eta 0:01:02\n",
      "     ------- ------------------------------- 2.4/12.8 MB 170.9 kB/s eta 0:01:02\n",
      "     ------- ------------------------------- 2.4/12.8 MB 170.6 kB/s eta 0:01:02\n",
      "     ------- ------------------------------- 2.4/12.8 MB 170.6 kB/s eta 0:01:02\n",
      "     ------- ------------------------------- 2.4/12.8 MB 171.2 kB/s eta 0:01:01\n",
      "     ------- ------------------------------- 2.4/12.8 MB 171.2 kB/s eta 0:01:01\n",
      "     ------- ------------------------------- 2.4/12.8 MB 171.2 kB/s eta 0:01:01\n",
      "     ------- ------------------------------- 2.4/12.8 MB 170.2 kB/s eta 0:01:02\n",
      "     ------- ------------------------------- 2.4/12.8 MB 170.2 kB/s eta 0:01:02\n",
      "     ------- ------------------------------- 2.4/12.8 MB 170.5 kB/s eta 0:01:01\n",
      "     ------- ------------------------------- 2.4/12.8 MB 170.5 kB/s eta 0:01:01\n",
      "     ------- ------------------------------- 2.5/12.8 MB 171.0 kB/s eta 0:01:01\n",
      "     ------- ------------------------------- 2.5/12.8 MB 170.8 kB/s eta 0:01:01\n",
      "     ------- ------------------------------- 2.5/12.8 MB 170.8 kB/s eta 0:01:01\n",
      "     ------- ------------------------------- 2.5/12.8 MB 170.8 kB/s eta 0:01:01\n",
      "     ------- ------------------------------- 2.5/12.8 MB 170.7 kB/s eta 0:01:01\n",
      "     ------- ------------------------------- 2.5/12.8 MB 170.7 kB/s eta 0:01:01\n",
      "     ------- ------------------------------- 2.5/12.8 MB 170.5 kB/s eta 0:01:01\n",
      "     ------- ------------------------------- 2.5/12.8 MB 170.5 kB/s eta 0:01:01\n",
      "     ------- ------------------------------- 2.5/12.8 MB 170.6 kB/s eta 0:01:01\n",
      "     ------- ------------------------------- 2.5/12.8 MB 170.6 kB/s eta 0:01:01\n",
      "     ------- ------------------------------- 2.5/12.8 MB 170.6 kB/s eta 0:01:01\n",
      "     ------- ------------------------------- 2.5/12.8 MB 170.6 kB/s eta 0:01:01\n",
      "     ------- ------------------------------- 2.5/12.8 MB 169.7 kB/s eta 0:01:01\n",
      "     ------- ------------------------------- 2.5/12.8 MB 169.7 kB/s eta 0:01:01\n",
      "     ------- ------------------------------- 2.5/12.8 MB 169.3 kB/s eta 0:01:01\n",
      "     ------- ------------------------------- 2.5/12.8 MB 169.3 kB/s eta 0:01:01\n",
      "     ------- ------------------------------- 2.6/12.8 MB 169.8 kB/s eta 0:01:01\n",
      "     ------- ------------------------------- 2.6/12.8 MB 169.8 kB/s eta 0:01:01\n",
      "     ------- ------------------------------- 2.6/12.8 MB 169.6 kB/s eta 0:01:01\n",
      "     ------- ------------------------------- 2.6/12.8 MB 169.6 kB/s eta 0:01:01\n",
      "     ------- ------------------------------- 2.6/12.8 MB 169.6 kB/s eta 0:01:01\n",
      "     ------- ------------------------------- 2.6/12.8 MB 169.4 kB/s eta 0:01:01\n",
      "     ------- ------------------------------- 2.6/12.8 MB 169.8 kB/s eta 0:01:00\n",
      "     ------- ------------------------------- 2.6/12.8 MB 169.8 kB/s eta 0:01:00\n",
      "     -------- ------------------------------ 2.6/12.8 MB 169.5 kB/s eta 0:01:01\n",
      "     -------- ------------------------------ 2.6/12.8 MB 169.5 kB/s eta 0:01:01\n",
      "     -------- ------------------------------ 2.6/12.8 MB 169.5 kB/s eta 0:01:01\n",
      "     -------- ------------------------------ 2.7/12.8 MB 169.2 kB/s eta 0:01:00\n",
      "     -------- ------------------------------ 2.7/12.8 MB 169.2 kB/s eta 0:01:00\n",
      "     -------- ------------------------------ 2.7/12.8 MB 169.1 kB/s eta 0:01:00\n",
      "     -------- ------------------------------ 2.7/12.8 MB 169.1 kB/s eta 0:01:00\n",
      "     -------- ------------------------------ 2.7/12.8 MB 169.5 kB/s eta 0:01:00\n",
      "     -------- ------------------------------ 2.7/12.8 MB 170.0 kB/s eta 0:01:00\n",
      "     -------- ------------------------------ 2.7/12.8 MB 170.0 kB/s eta 0:01:00\n",
      "     -------- ------------------------------ 2.7/12.8 MB 169.9 kB/s eta 0:01:00\n",
      "     -------- ------------------------------ 2.7/12.8 MB 169.9 kB/s eta 0:01:00\n",
      "     -------- ------------------------------ 2.7/12.8 MB 169.9 kB/s eta 0:01:00\n",
      "     -------- ------------------------------ 2.7/12.8 MB 169.7 kB/s eta 0:01:00\n",
      "     -------- ------------------------------ 2.7/12.8 MB 169.7 kB/s eta 0:01:00\n",
      "     -------- ------------------------------ 2.7/12.8 MB 169.2 kB/s eta 0:01:00\n",
      "     -------- ------------------------------ 2.7/12.8 MB 169.2 kB/s eta 0:01:00\n",
      "     -------- ------------------------------ 2.8/12.8 MB 169.7 kB/s eta 0:01:00\n",
      "     -------- ------------------------------ 2.8/12.8 MB 169.7 kB/s eta 0:01:00\n",
      "     -------- ------------------------------ 2.8/12.8 MB 169.7 kB/s eta 0:01:00\n",
      "     -------- ------------------------------ 2.8/12.8 MB 169.3 kB/s eta 0:01:00\n",
      "     -------- ------------------------------ 2.8/12.8 MB 169.3 kB/s eta 0:01:00\n",
      "     -------- ------------------------------ 2.8/12.8 MB 169.1 kB/s eta 0:01:00\n",
      "     -------- ------------------------------ 2.8/12.8 MB 169.6 kB/s eta 0:00:59\n",
      "     -------- ------------------------------ 2.8/12.8 MB 169.6 kB/s eta 0:00:59\n",
      "     -------- ------------------------------ 2.8/12.8 MB 169.4 kB/s eta 0:00:59\n",
      "     -------- ------------------------------ 2.8/12.8 MB 169.4 kB/s eta 0:00:59\n",
      "     -------- ------------------------------ 2.8/12.8 MB 169.4 kB/s eta 0:00:59\n",
      "     -------- ------------------------------ 2.8/12.8 MB 169.4 kB/s eta 0:00:59\n",
      "     -------- ------------------------------ 2.8/12.8 MB 168.9 kB/s eta 0:00:59\n",
      "     -------- ------------------------------ 2.9/12.8 MB 169.5 kB/s eta 0:00:59\n",
      "     -------- ------------------------------ 2.9/12.8 MB 169.5 kB/s eta 0:00:59\n",
      "     -------- ------------------------------ 2.9/12.8 MB 169.3 kB/s eta 0:00:59\n",
      "     -------- ------------------------------ 2.9/12.8 MB 169.3 kB/s eta 0:00:59\n",
      "     -------- ------------------------------ 2.9/12.8 MB 169.4 kB/s eta 0:00:59\n",
      "     -------- ------------------------------ 2.9/12.8 MB 169.4 kB/s eta 0:00:59\n",
      "     -------- ------------------------------ 2.9/12.8 MB 169.4 kB/s eta 0:00:59\n",
      "     -------- ------------------------------ 2.9/12.8 MB 169.4 kB/s eta 0:00:59\n",
      "     -------- ------------------------------ 2.9/12.8 MB 168.3 kB/s eta 0:00:59\n",
      "     -------- ------------------------------ 2.9/12.8 MB 168.3 kB/s eta 0:00:59\n",
      "     -------- ------------------------------ 2.9/12.8 MB 168.7 kB/s eta 0:00:59\n",
      "     -------- ------------------------------ 2.9/12.8 MB 168.7 kB/s eta 0:00:59\n",
      "     -------- ------------------------------ 2.9/12.8 MB 168.7 kB/s eta 0:00:59\n",
      "     -------- ------------------------------ 2.9/12.8 MB 168.4 kB/s eta 0:00:59\n",
      "     -------- ------------------------------ 2.9/12.8 MB 168.4 kB/s eta 0:00:59\n",
      "     --------- ----------------------------- 3.0/12.8 MB 167.9 kB/s eta 0:00:59\n",
      "     --------- ----------------------------- 3.0/12.8 MB 167.9 kB/s eta 0:00:59\n",
      "     --------- ----------------------------- 3.0/12.8 MB 168.2 kB/s eta 0:00:59\n",
      "     --------- ----------------------------- 3.0/12.8 MB 168.2 kB/s eta 0:00:59\n",
      "     --------- ----------------------------- 3.0/12.8 MB 168.2 kB/s eta 0:00:59\n",
      "     --------- ----------------------------- 3.0/12.8 MB 167.4 kB/s eta 0:00:59\n",
      "     --------- ----------------------------- 3.0/12.8 MB 167.4 kB/s eta 0:00:59\n",
      "     --------- ----------------------------- 3.0/12.8 MB 167.6 kB/s eta 0:00:59\n",
      "     --------- ----------------------------- 3.0/12.8 MB 167.6 kB/s eta 0:00:59\n",
      "     --------- ----------------------------- 3.0/12.8 MB 168.1 kB/s eta 0:00:59\n",
      "     --------- ----------------------------- 3.0/12.8 MB 168.1 kB/s eta 0:00:59\n",
      "     --------- ----------------------------- 3.0/12.8 MB 167.7 kB/s eta 0:00:59\n",
      "     --------- ----------------------------- 3.0/12.8 MB 167.7 kB/s eta 0:00:59\n",
      "     --------- ----------------------------- 3.0/12.8 MB 167.7 kB/s eta 0:00:59\n",
      "     --------- ----------------------------- 3.1/12.8 MB 167.5 kB/s eta 0:00:59\n",
      "     --------- ----------------------------- 3.1/12.8 MB 167.5 kB/s eta 0:00:59\n",
      "     --------- ----------------------------- 3.1/12.8 MB 167.3 kB/s eta 0:00:59\n",
      "     --------- ----------------------------- 3.1/12.8 MB 167.7 kB/s eta 0:00:58\n",
      "     --------- ----------------------------- 3.1/12.8 MB 167.7 kB/s eta 0:00:58\n",
      "     --------- ----------------------------- 3.1/12.8 MB 168.3 kB/s eta 0:00:58\n",
      "     --------- ----------------------------- 3.1/12.8 MB 168.3 kB/s eta 0:00:58\n",
      "     --------- ----------------------------- 3.1/12.8 MB 168.3 kB/s eta 0:00:58\n",
      "     --------- ----------------------------- 3.1/12.8 MB 167.6 kB/s eta 0:00:58\n",
      "     --------- ----------------------------- 3.1/12.8 MB 167.6 kB/s eta 0:00:58\n",
      "     --------- ----------------------------- 3.1/12.8 MB 167.7 kB/s eta 0:00:58\n",
      "     --------- ----------------------------- 3.1/12.8 MB 167.7 kB/s eta 0:00:58\n",
      "     --------- ----------------------------- 3.2/12.8 MB 167.7 kB/s eta 0:00:58\n",
      "     --------- ----------------------------- 3.2/12.8 MB 167.7 kB/s eta 0:00:58\n",
      "     --------- ----------------------------- 3.2/12.8 MB 167.6 kB/s eta 0:00:58\n",
      "     --------- ----------------------------- 3.2/12.8 MB 167.6 kB/s eta 0:00:58\n",
      "     --------- ----------------------------- 3.2/12.8 MB 167.7 kB/s eta 0:00:58\n",
      "     --------- ----------------------------- 3.2/12.8 MB 167.7 kB/s eta 0:00:58\n",
      "     --------- ----------------------------- 3.2/12.8 MB 167.6 kB/s eta 0:00:58\n",
      "     --------- ----------------------------- 3.2/12.8 MB 167.6 kB/s eta 0:00:58\n",
      "     --------- ----------------------------- 3.2/12.8 MB 168.0 kB/s eta 0:00:58\n",
      "     --------- ----------------------------- 3.2/12.8 MB 167.8 kB/s eta 0:00:58\n",
      "     --------- ----------------------------- 3.2/12.8 MB 167.8 kB/s eta 0:00:58\n",
      "     --------- ----------------------------- 3.2/12.8 MB 167.8 kB/s eta 0:00:58\n",
      "     --------- ----------------------------- 3.2/12.8 MB 167.8 kB/s eta 0:00:58\n",
      "     --------- ----------------------------- 3.3/12.8 MB 167.5 kB/s eta 0:00:57\n",
      "     --------- ----------------------------- 3.3/12.8 MB 168.1 kB/s eta 0:00:57\n",
      "     --------- ----------------------------- 3.3/12.8 MB 168.1 kB/s eta 0:00:57\n",
      "     ---------- ---------------------------- 3.3/12.8 MB 167.9 kB/s eta 0:00:57\n",
      "     ---------- ---------------------------- 3.3/12.8 MB 167.9 kB/s eta 0:00:57\n",
      "     ---------- ---------------------------- 3.3/12.8 MB 167.9 kB/s eta 0:00:57\n",
      "     ---------- ---------------------------- 3.3/12.8 MB 167.7 kB/s eta 0:00:57\n",
      "     ---------- ---------------------------- 3.3/12.8 MB 167.7 kB/s eta 0:00:57\n",
      "     ---------- ---------------------------- 3.3/12.8 MB 167.7 kB/s eta 0:00:57\n",
      "     ---------- ---------------------------- 3.3/12.8 MB 168.1 kB/s eta 0:00:57\n",
      "     ---------- ---------------------------- 3.3/12.8 MB 168.1 kB/s eta 0:00:57\n",
      "     ---------- ---------------------------- 3.4/12.8 MB 168.5 kB/s eta 0:00:57\n",
      "     ---------- ---------------------------- 3.4/12.8 MB 168.5 kB/s eta 0:00:57\n",
      "     ---------- ---------------------------- 3.4/12.8 MB 168.5 kB/s eta 0:00:57\n",
      "     ---------- ---------------------------- 3.4/12.8 MB 167.7 kB/s eta 0:00:57\n",
      "     ---------- ---------------------------- 3.4/12.8 MB 167.7 kB/s eta 0:00:57\n",
      "     ---------- ---------------------------- 3.4/12.8 MB 167.9 kB/s eta 0:00:57\n",
      "     ---------- ---------------------------- 3.4/12.8 MB 167.9 kB/s eta 0:00:57\n",
      "     ---------- ---------------------------- 3.4/12.8 MB 167.8 kB/s eta 0:00:57\n",
      "     ---------- ---------------------------- 3.4/12.8 MB 168.1 kB/s eta 0:00:56\n",
      "     ---------- ---------------------------- 3.4/12.8 MB 168.1 kB/s eta 0:00:56\n",
      "     ---------- ---------------------------- 3.4/12.8 MB 168.1 kB/s eta 0:00:56\n",
      "     ---------- ---------------------------- 3.4/12.8 MB 168.2 kB/s eta 0:00:56\n",
      "     ---------- ---------------------------- 3.5/12.8 MB 168.1 kB/s eta 0:00:56\n",
      "     ---------- ---------------------------- 3.5/12.8 MB 168.1 kB/s eta 0:00:56\n",
      "     ---------- ---------------------------- 3.5/12.8 MB 168.4 kB/s eta 0:00:56\n",
      "     ---------- ---------------------------- 3.5/12.8 MB 168.4 kB/s eta 0:00:56\n",
      "     ---------- ---------------------------- 3.5/12.8 MB 168.2 kB/s eta 0:00:56\n",
      "     ---------- ---------------------------- 3.5/12.8 MB 168.2 kB/s eta 0:00:56\n",
      "     ---------- ---------------------------- 3.5/12.8 MB 168.2 kB/s eta 0:00:56\n",
      "     ---------- ---------------------------- 3.5/12.8 MB 168.0 kB/s eta 0:00:56\n",
      "     ---------- ---------------------------- 3.5/12.8 MB 168.0 kB/s eta 0:00:56\n",
      "     ---------- ---------------------------- 3.5/12.8 MB 168.4 kB/s eta 0:00:56\n",
      "     ---------- ---------------------------- 3.5/12.8 MB 168.2 kB/s eta 0:00:56\n",
      "     ---------- ---------------------------- 3.5/12.8 MB 168.2 kB/s eta 0:00:56\n",
      "     ---------- ---------------------------- 3.6/12.8 MB 168.6 kB/s eta 0:00:55\n",
      "     ---------- ---------------------------- 3.6/12.8 MB 168.6 kB/s eta 0:00:55\n",
      "     ---------- ---------------------------- 3.6/12.8 MB 168.6 kB/s eta 0:00:55\n",
      "     ---------- ---------------------------- 3.6/12.8 MB 168.1 kB/s eta 0:00:55\n",
      "     ---------- ---------------------------- 3.6/12.8 MB 168.1 kB/s eta 0:00:55\n",
      "     ---------- ---------------------------- 3.6/12.8 MB 168.2 kB/s eta 0:00:55\n",
      "     ---------- ---------------------------- 3.6/12.8 MB 168.2 kB/s eta 0:00:55\n",
      "     ---------- ---------------------------- 3.6/12.8 MB 168.5 kB/s eta 0:00:55\n",
      "     ---------- ---------------------------- 3.6/12.8 MB 168.5 kB/s eta 0:00:55\n",
      "     ----------- --------------------------- 3.6/12.8 MB 168.3 kB/s eta 0:00:55\n",
      "     ----------- --------------------------- 3.6/12.8 MB 168.3 kB/s eta 0:00:55\n",
      "     ----------- --------------------------- 3.6/12.8 MB 168.2 kB/s eta 0:00:55\n",
      "     ----------- --------------------------- 3.6/12.8 MB 168.2 kB/s eta 0:00:55\n",
      "     ----------- --------------------------- 3.6/12.8 MB 168.1 kB/s eta 0:00:55\n",
      "     ----------- --------------------------- 3.6/12.8 MB 168.1 kB/s eta 0:00:55\n",
      "     ----------- --------------------------- 3.7/12.8 MB 168.4 kB/s eta 0:00:55\n",
      "     ----------- --------------------------- 3.7/12.8 MB 168.8 kB/s eta 0:00:55\n",
      "     ----------- --------------------------- 3.7/12.8 MB 168.8 kB/s eta 0:00:55\n",
      "     ----------- --------------------------- 3.7/12.8 MB 168.8 kB/s eta 0:00:55\n",
      "     ----------- --------------------------- 3.7/12.8 MB 168.2 kB/s eta 0:00:55\n",
      "     ----------- --------------------------- 3.7/12.8 MB 168.2 kB/s eta 0:00:55\n",
      "     ----------- --------------------------- 3.7/12.8 MB 168.5 kB/s eta 0:00:54\n",
      "     ----------- --------------------------- 3.7/12.8 MB 168.5 kB/s eta 0:00:54\n",
      "     ----------- --------------------------- 3.7/12.8 MB 168.4 kB/s eta 0:00:54\n",
      "     ----------- --------------------------- 3.7/12.8 MB 168.7 kB/s eta 0:00:54\n",
      "     ----------- --------------------------- 3.7/12.8 MB 168.7 kB/s eta 0:00:54\n",
      "     ----------- --------------------------- 3.7/12.8 MB 168.7 kB/s eta 0:00:54\n",
      "     ----------- --------------------------- 3.8/12.8 MB 168.7 kB/s eta 0:00:54\n",
      "     ----------- --------------------------- 3.8/12.8 MB 168.7 kB/s eta 0:00:54\n",
      "     ----------- --------------------------- 3.8/12.8 MB 168.5 kB/s eta 0:00:54\n",
      "     ----------- --------------------------- 3.8/12.8 MB 168.9 kB/s eta 0:00:54\n",
      "     ----------- --------------------------- 3.8/12.8 MB 168.9 kB/s eta 0:00:54\n",
      "     ----------- --------------------------- 3.8/12.8 MB 168.9 kB/s eta 0:00:54\n",
      "     ----------- --------------------------- 3.8/12.8 MB 168.9 kB/s eta 0:00:54\n",
      "     ----------- --------------------------- 3.8/12.8 MB 168.1 kB/s eta 0:00:54\n",
      "     ----------- --------------------------- 3.8/12.8 MB 168.1 kB/s eta 0:00:54\n",
      "     ----------- --------------------------- 3.8/12.8 MB 168.3 kB/s eta 0:00:54\n",
      "     ----------- --------------------------- 3.8/12.8 MB 168.3 kB/s eta 0:00:54\n",
      "     ----------- --------------------------- 3.9/12.8 MB 168.7 kB/s eta 0:00:54\n",
      "     ----------- --------------------------- 3.9/12.8 MB 168.5 kB/s eta 0:00:54\n",
      "     ----------- --------------------------- 3.9/12.8 MB 168.5 kB/s eta 0:00:54\n",
      "     ----------- --------------------------- 3.9/12.8 MB 168.5 kB/s eta 0:00:54\n",
      "     ----------- --------------------------- 3.9/12.8 MB 168.4 kB/s eta 0:00:53\n",
      "     ----------- --------------------------- 3.9/12.8 MB 168.4 kB/s eta 0:00:53\n",
      "     ----------- --------------------------- 3.9/12.8 MB 168.3 kB/s eta 0:00:53\n",
      "     ----------- --------------------------- 3.9/12.8 MB 168.3 kB/s eta 0:00:53\n",
      "     ----------- --------------------------- 3.9/12.8 MB 168.5 kB/s eta 0:00:53\n",
      "     ----------- --------------------------- 3.9/12.8 MB 168.5 kB/s eta 0:00:53\n",
      "     ----------- --------------------------- 3.9/12.8 MB 168.8 kB/s eta 0:00:53\n",
      "     ----------- --------------------------- 3.9/12.8 MB 168.8 kB/s eta 0:00:53\n",
      "     ------------ -------------------------- 3.9/12.8 MB 168.3 kB/s eta 0:00:53\n",
      "     ------------ -------------------------- 3.9/12.8 MB 168.3 kB/s eta 0:00:53\n",
      "     ------------ -------------------------- 4.0/12.8 MB 168.6 kB/s eta 0:00:53\n",
      "     ------------ -------------------------- 4.0/12.8 MB 168.6 kB/s eta 0:00:53\n",
      "     ------------ -------------------------- 4.0/12.8 MB 168.5 kB/s eta 0:00:53\n",
      "     ------------ -------------------------- 4.0/12.8 MB 168.8 kB/s eta 0:00:53\n",
      "     ------------ -------------------------- 4.0/12.8 MB 168.8 kB/s eta 0:00:53\n",
      "     ------------ -------------------------- 4.0/12.8 MB 168.8 kB/s eta 0:00:53\n",
      "     ------------ -------------------------- 4.0/12.8 MB 168.8 kB/s eta 0:00:53\n",
      "     ------------ -------------------------- 4.0/12.8 MB 168.2 kB/s eta 0:00:53\n",
      "     ------------ -------------------------- 4.0/12.8 MB 168.2 kB/s eta 0:00:53\n",
      "     ------------ -------------------------- 4.0/12.8 MB 168.2 kB/s eta 0:00:53\n",
      "     ------------ -------------------------- 4.0/12.8 MB 168.2 kB/s eta 0:00:53\n",
      "     ------------ -------------------------- 4.0/12.8 MB 168.4 kB/s eta 0:00:53\n",
      "     ------------ -------------------------- 4.0/12.8 MB 168.4 kB/s eta 0:00:53\n",
      "     ------------ -------------------------- 4.0/12.8 MB 168.4 kB/s eta 0:00:53\n",
      "     ------------ -------------------------- 4.1/12.8 MB 167.9 kB/s eta 0:00:53\n",
      "     ------------ -------------------------- 4.1/12.8 MB 167.9 kB/s eta 0:00:53\n",
      "     ------------ -------------------------- 4.1/12.8 MB 168.1 kB/s eta 0:00:52\n",
      "     ------------ -------------------------- 4.1/12.8 MB 168.1 kB/s eta 0:00:52\n",
      "     ------------ -------------------------- 4.1/12.8 MB 168.4 kB/s eta 0:00:52\n",
      "     ------------ -------------------------- 4.1/12.8 MB 168.3 kB/s eta 0:00:52\n",
      "     ------------ -------------------------- 4.1/12.8 MB 168.3 kB/s eta 0:00:52\n",
      "     ------------ -------------------------- 4.1/12.8 MB 168.3 kB/s eta 0:00:52\n",
      "     ------------ -------------------------- 4.1/12.8 MB 168.0 kB/s eta 0:00:52\n",
      "     ------------ -------------------------- 4.1/12.8 MB 168.0 kB/s eta 0:00:52\n",
      "     ------------ -------------------------- 4.1/12.8 MB 167.9 kB/s eta 0:00:52\n",
      "     ------------ -------------------------- 4.1/12.8 MB 167.9 kB/s eta 0:00:52\n",
      "     ------------ -------------------------- 4.2/12.8 MB 168.2 kB/s eta 0:00:52\n",
      "     ------------ -------------------------- 4.2/12.8 MB 168.2 kB/s eta 0:00:52\n",
      "     ------------ -------------------------- 4.2/12.8 MB 168.5 kB/s eta 0:00:52\n",
      "     ------------ -------------------------- 4.2/12.8 MB 168.5 kB/s eta 0:00:52\n",
      "     ------------ -------------------------- 4.2/12.8 MB 168.1 kB/s eta 0:00:52\n",
      "     ------------ -------------------------- 4.2/12.8 MB 168.1 kB/s eta 0:00:52\n",
      "     ------------ -------------------------- 4.2/12.8 MB 168.4 kB/s eta 0:00:52\n",
      "     ------------ -------------------------- 4.2/12.8 MB 168.4 kB/s eta 0:00:52\n",
      "     ------------ -------------------------- 4.2/12.8 MB 168.2 kB/s eta 0:00:52\n",
      "     ------------ -------------------------- 4.2/12.8 MB 168.2 kB/s eta 0:00:52\n",
      "     ------------ -------------------------- 4.2/12.8 MB 168.2 kB/s eta 0:00:52\n",
      "     ------------ -------------------------- 4.2/12.8 MB 167.9 kB/s eta 0:00:52\n",
      "     ------------ -------------------------- 4.2/12.8 MB 167.9 kB/s eta 0:00:52\n",
      "     ------------ -------------------------- 4.3/12.8 MB 168.1 kB/s eta 0:00:51\n",
      "     ------------ -------------------------- 4.3/12.8 MB 168.1 kB/s eta 0:00:51\n",
      "     ------------- ------------------------- 4.3/12.8 MB 168.0 kB/s eta 0:00:51\n",
      "     ------------- ------------------------- 4.3/12.8 MB 168.3 kB/s eta 0:00:51\n",
      "     ------------- ------------------------- 4.3/12.8 MB 168.3 kB/s eta 0:00:51\n",
      "     ------------- ------------------------- 4.3/12.8 MB 168.3 kB/s eta 0:00:51\n",
      "     ------------- ------------------------- 4.3/12.8 MB 167.8 kB/s eta 0:00:51\n",
      "     ------------- ------------------------- 4.3/12.8 MB 167.8 kB/s eta 0:00:51\n",
      "     ------------- ------------------------- 4.3/12.8 MB 168.1 kB/s eta 0:00:51\n",
      "     ------------- ------------------------- 4.3/12.8 MB 168.1 kB/s eta 0:00:51\n",
      "     ------------- ------------------------- 4.3/12.8 MB 168.2 kB/s eta 0:00:51\n",
      "     ------------- ------------------------- 4.3/12.8 MB 168.2 kB/s eta 0:00:51\n",
      "     ------------- ------------------------- 4.4/12.8 MB 168.2 kB/s eta 0:00:51\n",
      "     ------------- ------------------------- 4.4/12.8 MB 168.2 kB/s eta 0:00:51\n",
      "     ------------- ------------------------- 4.4/12.8 MB 168.2 kB/s eta 0:00:51\n",
      "     ------------- ------------------------- 4.4/12.8 MB 168.2 kB/s eta 0:00:51\n",
      "     ------------- ------------------------- 4.4/12.8 MB 168.1 kB/s eta 0:00:51\n",
      "     ------------- ------------------------- 4.4/12.8 MB 168.1 kB/s eta 0:00:51\n",
      "     ------------- ------------------------- 4.4/12.8 MB 168.4 kB/s eta 0:00:50\n",
      "     ------------- ------------------------- 4.4/12.8 MB 168.6 kB/s eta 0:00:50\n",
      "     ------------- ------------------------- 4.4/12.8 MB 168.6 kB/s eta 0:00:50\n",
      "     ------------- ------------------------- 4.4/12.8 MB 168.6 kB/s eta 0:00:50\n",
      "     ------------- ------------------------- 4.4/12.8 MB 168.3 kB/s eta 0:00:50\n",
      "     ------------- ------------------------- 4.4/12.8 MB 168.3 kB/s eta 0:00:50\n",
      "     ------------- ------------------------- 4.5/12.8 MB 168.4 kB/s eta 0:00:50\n",
      "     ------------- ------------------------- 4.5/12.8 MB 168.4 kB/s eta 0:00:50\n",
      "     ------------- ------------------------- 4.5/12.8 MB 168.3 kB/s eta 0:00:50\n",
      "     ------------- ------------------------- 4.5/12.8 MB 168.3 kB/s eta 0:00:50\n",
      "     ------------- ------------------------- 4.5/12.8 MB 168.4 kB/s eta 0:00:50\n",
      "     ------------- ------------------------- 4.5/12.8 MB 168.4 kB/s eta 0:00:50\n",
      "     ------------- ------------------------- 4.5/12.8 MB 168.3 kB/s eta 0:00:50\n",
      "     ------------- ------------------------- 4.5/12.8 MB 168.3 kB/s eta 0:00:50\n",
      "     ------------- ------------------------- 4.5/12.8 MB 168.3 kB/s eta 0:00:50\n",
      "     ------------- ------------------------- 4.5/12.8 MB 168.1 kB/s eta 0:00:50\n",
      "     ------------- ------------------------- 4.5/12.8 MB 168.4 kB/s eta 0:00:50\n",
      "     ------------- ------------------------- 4.5/12.8 MB 168.4 kB/s eta 0:00:50\n",
      "     ------------- ------------------------- 4.5/12.8 MB 168.4 kB/s eta 0:00:50\n",
      "     ------------- ------------------------- 4.5/12.8 MB 168.4 kB/s eta 0:00:50\n",
      "     ------------- ------------------------- 4.5/12.8 MB 167.8 kB/s eta 0:00:50\n",
      "     ------------- ------------------------- 4.6/12.8 MB 168.0 kB/s eta 0:00:50\n",
      "     ------------- ------------------------- 4.6/12.8 MB 168.0 kB/s eta 0:00:50\n",
      "     ------------- ------------------------- 4.6/12.8 MB 168.3 kB/s eta 0:00:49\n",
      "     ------------- ------------------------- 4.6/12.8 MB 168.3 kB/s eta 0:00:49\n",
      "     -------------- ------------------------ 4.6/12.8 MB 168.2 kB/s eta 0:00:49\n",
      "     -------------- ------------------------ 4.6/12.8 MB 168.2 kB/s eta 0:00:49\n",
      "     -------------- ------------------------ 4.6/12.8 MB 168.2 kB/s eta 0:00:49\n",
      "     -------------- ------------------------ 4.6/12.8 MB 168.1 kB/s eta 0:00:49\n",
      "     -------------- ------------------------ 4.6/12.8 MB 168.0 kB/s eta 0:00:49\n",
      "     -------------- ------------------------ 4.6/12.8 MB 168.0 kB/s eta 0:00:49\n",
      "     -------------- ------------------------ 4.6/12.8 MB 168.3 kB/s eta 0:00:49\n",
      "     -------------- ------------------------ 4.6/12.8 MB 168.3 kB/s eta 0:00:49\n",
      "     -------------- ------------------------ 4.7/12.8 MB 168.5 kB/s eta 0:00:49\n",
      "     -------------- ------------------------ 4.7/12.8 MB 168.5 kB/s eta 0:00:49\n",
      "     -------------- ------------------------ 4.7/12.8 MB 168.5 kB/s eta 0:00:49\n",
      "     -------------- ------------------------ 4.7/12.8 MB 167.9 kB/s eta 0:00:49\n",
      "     -------------- ------------------------ 4.7/12.8 MB 167.9 kB/s eta 0:00:49\n",
      "     -------------- ------------------------ 4.7/12.8 MB 168.2 kB/s eta 0:00:49\n",
      "     -------------- ------------------------ 4.7/12.8 MB 168.2 kB/s eta 0:00:49\n",
      "     -------------- ------------------------ 4.7/12.8 MB 168.1 kB/s eta 0:00:49\n",
      "     -------------- ------------------------ 4.7/12.8 MB 168.4 kB/s eta 0:00:48\n",
      "     -------------- ------------------------ 4.7/12.8 MB 168.4 kB/s eta 0:00:48\n",
      "     -------------- ------------------------ 4.7/12.8 MB 168.4 kB/s eta 0:00:48\n",
      "     -------------- ------------------------ 4.8/12.8 MB 168.3 kB/s eta 0:00:48\n",
      "     -------------- ------------------------ 4.8/12.8 MB 168.3 kB/s eta 0:00:48\n",
      "     -------------- ------------------------ 4.8/12.8 MB 168.1 kB/s eta 0:00:48\n",
      "     -------------- ------------------------ 4.8/12.8 MB 168.1 kB/s eta 0:00:48\n",
      "     -------------- ------------------------ 4.8/12.8 MB 168.4 kB/s eta 0:00:48\n",
      "     -------------- ------------------------ 4.8/12.8 MB 168.4 kB/s eta 0:00:48\n",
      "     -------------- ------------------------ 4.8/12.8 MB 168.4 kB/s eta 0:00:48\n",
      "     -------------- ------------------------ 4.8/12.8 MB 168.0 kB/s eta 0:00:48\n",
      "     -------------- ------------------------ 4.8/12.8 MB 168.2 kB/s eta 0:00:48\n",
      "     -------------- ------------------------ 4.8/12.8 MB 168.2 kB/s eta 0:00:48\n",
      "     -------------- ------------------------ 4.8/12.8 MB 168.5 kB/s eta 0:00:48\n",
      "     -------------- ------------------------ 4.8/12.8 MB 168.4 kB/s eta 0:00:48\n",
      "     -------------- ------------------------ 4.8/12.8 MB 168.4 kB/s eta 0:00:48\n",
      "     -------------- ------------------------ 4.9/12.8 MB 168.7 kB/s eta 0:00:48\n",
      "     -------------- ------------------------ 4.9/12.8 MB 168.7 kB/s eta 0:00:48\n",
      "     -------------- ------------------------ 4.9/12.8 MB 168.7 kB/s eta 0:00:48\n",
      "     -------------- ------------------------ 4.9/12.8 MB 168.2 kB/s eta 0:00:48\n",
      "     -------------- ------------------------ 4.9/12.8 MB 168.2 kB/s eta 0:00:48\n",
      "     -------------- ------------------------ 4.9/12.8 MB 168.4 kB/s eta 0:00:47\n",
      "     -------------- ------------------------ 4.9/12.8 MB 168.4 kB/s eta 0:00:47\n",
      "     -------------- ------------------------ 4.9/12.8 MB 168.5 kB/s eta 0:00:47\n",
      "     -------------- ------------------------ 4.9/12.8 MB 168.5 kB/s eta 0:00:47\n",
      "     -------------- ------------------------ 4.9/12.8 MB 168.5 kB/s eta 0:00:47\n",
      "     --------------- ----------------------- 4.9/12.8 MB 168.1 kB/s eta 0:00:47\n",
      "     --------------- ----------------------- 4.9/12.8 MB 168.1 kB/s eta 0:00:47\n",
      "     --------------- ----------------------- 4.9/12.8 MB 168.4 kB/s eta 0:00:47\n",
      "     --------------- ----------------------- 5.0/12.8 MB 168.3 kB/s eta 0:00:47\n",
      "     --------------- ----------------------- 5.0/12.8 MB 168.3 kB/s eta 0:00:47\n",
      "     --------------- ----------------------- 5.0/12.8 MB 168.5 kB/s eta 0:00:47\n",
      "     --------------- ----------------------- 5.0/12.8 MB 168.5 kB/s eta 0:00:47\n",
      "     --------------- ----------------------- 5.0/12.8 MB 168.5 kB/s eta 0:00:47\n",
      "     --------------- ----------------------- 5.0/12.8 MB 168.3 kB/s eta 0:00:47\n",
      "     --------------- ----------------------- 5.0/12.8 MB 168.3 kB/s eta 0:00:47\n",
      "     --------------- ----------------------- 5.0/12.8 MB 168.2 kB/s eta 0:00:47\n",
      "     --------------- ----------------------- 5.0/12.8 MB 168.2 kB/s eta 0:00:47\n",
      "     --------------- ----------------------- 5.0/12.8 MB 168.5 kB/s eta 0:00:47\n",
      "     --------------- ----------------------- 5.0/12.8 MB 168.5 kB/s eta 0:00:47\n",
      "     --------------- ----------------------- 5.0/12.8 MB 168.5 kB/s eta 0:00:47\n",
      "     --------------- ----------------------- 5.0/12.8 MB 167.9 kB/s eta 0:00:47\n",
      "     --------------- ----------------------- 5.0/12.8 MB 167.9 kB/s eta 0:00:47\n",
      "     --------------- ----------------------- 5.1/12.8 MB 167.9 kB/s eta 0:00:47\n",
      "     --------------- ----------------------- 5.1/12.8 MB 168.1 kB/s eta 0:00:47\n",
      "     --------------- ----------------------- 5.1/12.8 MB 168.5 kB/s eta 0:00:46\n",
      "     --------------- ----------------------- 5.1/12.8 MB 168.5 kB/s eta 0:00:46\n",
      "     --------------- ----------------------- 5.1/12.8 MB 168.5 kB/s eta 0:00:46\n",
      "     --------------- ----------------------- 5.1/12.8 MB 168.5 kB/s eta 0:00:46\n",
      "     --------------- ----------------------- 5.1/12.8 MB 168.5 kB/s eta 0:00:46\n",
      "     --------------- ----------------------- 5.1/12.8 MB 168.2 kB/s eta 0:00:46\n",
      "     --------------- ----------------------- 5.1/12.8 MB 168.2 kB/s eta 0:00:46\n",
      "     --------------- ----------------------- 5.1/12.8 MB 168.2 kB/s eta 0:00:46\n",
      "     --------------- ----------------------- 5.1/12.8 MB 168.2 kB/s eta 0:00:46\n",
      "     --------------- ----------------------- 5.1/12.8 MB 167.5 kB/s eta 0:00:46\n",
      "     --------------- ----------------------- 5.1/12.8 MB 167.5 kB/s eta 0:00:46\n",
      "     --------------- ----------------------- 5.1/12.8 MB 167.5 kB/s eta 0:00:46\n",
      "     --------------- ----------------------- 5.1/12.8 MB 167.4 kB/s eta 0:00:46\n",
      "     --------------- ----------------------- 5.1/12.8 MB 167.4 kB/s eta 0:00:46\n",
      "     --------------- ----------------------- 5.2/12.8 MB 167.7 kB/s eta 0:00:46\n",
      "     --------------- ----------------------- 5.2/12.8 MB 167.7 kB/s eta 0:00:46\n",
      "     --------------- ----------------------- 5.2/12.8 MB 167.4 kB/s eta 0:00:46\n",
      "     --------------- ----------------------- 5.2/12.8 MB 167.6 kB/s eta 0:00:46\n",
      "     --------------- ----------------------- 5.2/12.8 MB 167.6 kB/s eta 0:00:46\n",
      "     --------------- ----------------------- 5.2/12.8 MB 167.6 kB/s eta 0:00:46\n",
      "     --------------- ----------------------- 5.2/12.8 MB 167.3 kB/s eta 0:00:46\n",
      "     --------------- ----------------------- 5.2/12.8 MB 167.3 kB/s eta 0:00:46\n",
      "     --------------- ----------------------- 5.2/12.8 MB 167.3 kB/s eta 0:00:46\n",
      "     --------------- ----------------------- 5.2/12.8 MB 167.8 kB/s eta 0:00:46\n",
      "     --------------- ----------------------- 5.2/12.8 MB 167.8 kB/s eta 0:00:46\n",
      "     ---------------- ---------------------- 5.3/12.8 MB 167.5 kB/s eta 0:00:46\n",
      "     ---------------- ---------------------- 5.3/12.8 MB 167.5 kB/s eta 0:00:46\n",
      "     ---------------- ---------------------- 5.3/12.8 MB 167.5 kB/s eta 0:00:46\n",
      "     ---------------- ---------------------- 5.3/12.8 MB 167.4 kB/s eta 0:00:45\n",
      "     ---------------- ---------------------- 5.3/12.8 MB 167.4 kB/s eta 0:00:45\n",
      "     ---------------- ---------------------- 5.3/12.8 MB 167.3 kB/s eta 0:00:45\n",
      "     ---------------- ---------------------- 5.3/12.8 MB 167.3 kB/s eta 0:00:45\n",
      "     ---------------- ---------------------- 5.3/12.8 MB 167.3 kB/s eta 0:00:45\n",
      "     ---------------- ---------------------- 5.3/12.8 MB 167.3 kB/s eta 0:00:45\n",
      "     ---------------- ---------------------- 5.3/12.8 MB 167.7 kB/s eta 0:00:45\n",
      "     ---------------- ---------------------- 5.3/12.8 MB 167.7 kB/s eta 0:00:45\n",
      "     ---------------- ---------------------- 5.3/12.8 MB 166.8 kB/s eta 0:00:45\n",
      "     ---------------- ---------------------- 5.3/12.8 MB 166.8 kB/s eta 0:00:45\n",
      "     ---------------- ---------------------- 5.4/12.8 MB 167.3 kB/s eta 0:00:45\n",
      "     ---------------- ---------------------- 5.4/12.8 MB 167.3 kB/s eta 0:00:45\n",
      "     ---------------- ---------------------- 5.4/12.8 MB 167.2 kB/s eta 0:00:45\n",
      "     ---------------- ---------------------- 5.4/12.8 MB 167.4 kB/s eta 0:00:45\n",
      "     ---------------- ---------------------- 5.4/12.8 MB 167.4 kB/s eta 0:00:45\n",
      "     ---------------- ---------------------- 5.4/12.8 MB 167.4 kB/s eta 0:00:45\n",
      "     ---------------- ---------------------- 5.4/12.8 MB 167.4 kB/s eta 0:00:45\n",
      "     ---------------- ---------------------- 5.4/12.8 MB 167.2 kB/s eta 0:00:45\n",
      "     ---------------- ---------------------- 5.4/12.8 MB 167.1 kB/s eta 0:00:45\n",
      "     ---------------- ---------------------- 5.4/12.8 MB 167.1 kB/s eta 0:00:45\n",
      "     ---------------- ---------------------- 5.4/12.8 MB 167.4 kB/s eta 0:00:44\n",
      "     ---------------- ---------------------- 5.4/12.8 MB 167.4 kB/s eta 0:00:44\n",
      "     ---------------- ---------------------- 5.4/12.8 MB 167.4 kB/s eta 0:00:44\n",
      "     ---------------- ---------------------- 5.4/12.8 MB 167.4 kB/s eta 0:00:44\n",
      "     ---------------- ---------------------- 5.5/12.8 MB 167.3 kB/s eta 0:00:44\n",
      "     ---------------- ---------------------- 5.5/12.8 MB 167.3 kB/s eta 0:00:44\n",
      "     ---------------- ---------------------- 5.5/12.8 MB 167.7 kB/s eta 0:00:44\n",
      "     ---------------- ---------------------- 5.5/12.8 MB 167.7 kB/s eta 0:00:44\n",
      "     ---------------- ---------------------- 5.5/12.8 MB 167.4 kB/s eta 0:00:44\n",
      "     ---------------- ---------------------- 5.5/12.8 MB 167.4 kB/s eta 0:00:44\n",
      "     ---------------- ---------------------- 5.5/12.8 MB 167.3 kB/s eta 0:00:44\n",
      "     ---------------- ---------------------- 5.5/12.8 MB 167.3 kB/s eta 0:00:44\n",
      "     ---------------- ---------------------- 5.5/12.8 MB 167.3 kB/s eta 0:00:44\n",
      "     ---------------- ---------------------- 5.5/12.8 MB 166.7 kB/s eta 0:00:44\n",
      "     ---------------- ---------------------- 5.6/12.8 MB 167.3 kB/s eta 0:00:44\n",
      "     ---------------- ---------------------- 5.6/12.8 MB 167.3 kB/s eta 0:00:44\n",
      "     ---------------- ---------------------- 5.6/12.8 MB 167.7 kB/s eta 0:00:44\n",
      "     ---------------- ---------------------- 5.6/12.8 MB 167.7 kB/s eta 0:00:44\n",
      "     ---------------- ---------------------- 5.6/12.8 MB 167.7 kB/s eta 0:00:44\n",
      "     ---------------- ---------------------- 5.6/12.8 MB 167.0 kB/s eta 0:00:44\n",
      "     ----------------- --------------------- 5.6/12.8 MB 167.3 kB/s eta 0:00:44\n",
      "     ----------------- --------------------- 5.6/12.8 MB 167.3 kB/s eta 0:00:44\n",
      "     ----------------- --------------------- 5.6/12.8 MB 167.1 kB/s eta 0:00:44\n",
      "     ----------------- --------------------- 5.6/12.8 MB 167.1 kB/s eta 0:00:44\n",
      "     ----------------- --------------------- 5.6/12.8 MB 167.3 kB/s eta 0:00:43\n",
      "     ----------------- --------------------- 5.6/12.8 MB 167.3 kB/s eta 0:00:43\n",
      "     ----------------- --------------------- 5.6/12.8 MB 167.3 kB/s eta 0:00:43\n",
      "     ----------------- --------------------- 5.7/12.8 MB 167.6 kB/s eta 0:00:43\n",
      "     ----------------- --------------------- 5.7/12.8 MB 166.9 kB/s eta 0:00:43\n",
      "     ----------------- --------------------- 5.7/12.8 MB 166.9 kB/s eta 0:00:43\n",
      "     ----------------- --------------------- 5.7/12.8 MB 167.6 kB/s eta 0:00:43\n",
      "     ----------------- --------------------- 5.7/12.8 MB 167.6 kB/s eta 0:00:43\n",
      "     ----------------- --------------------- 5.7/12.8 MB 167.5 kB/s eta 0:00:43\n",
      "     ----------------- --------------------- 5.7/12.8 MB 167.5 kB/s eta 0:00:43\n",
      "     ----------------- --------------------- 5.7/12.8 MB 167.3 kB/s eta 0:00:43\n",
      "     ----------------- --------------------- 5.7/12.8 MB 167.3 kB/s eta 0:00:43\n",
      "     ----------------- --------------------- 5.7/12.8 MB 167.3 kB/s eta 0:00:43\n",
      "     ----------------- --------------------- 5.7/12.8 MB 167.3 kB/s eta 0:00:43\n",
      "     ----------------- --------------------- 5.7/12.8 MB 167.2 kB/s eta 0:00:43\n",
      "     ----------------- --------------------- 5.7/12.8 MB 167.2 kB/s eta 0:00:43\n",
      "     ----------------- --------------------- 5.8/12.8 MB 167.3 kB/s eta 0:00:43\n",
      "     ----------------- --------------------- 5.8/12.8 MB 167.3 kB/s eta 0:00:43\n",
      "     ----------------- --------------------- 5.8/12.8 MB 167.3 kB/s eta 0:00:43\n",
      "     ----------------- --------------------- 5.8/12.8 MB 166.8 kB/s eta 0:00:43\n",
      "     ----------------- --------------------- 5.8/12.8 MB 167.3 kB/s eta 0:00:42\n",
      "     ----------------- --------------------- 5.8/12.8 MB 167.3 kB/s eta 0:00:42\n",
      "     ----------------- --------------------- 5.8/12.8 MB 167.7 kB/s eta 0:00:42\n",
      "     ----------------- --------------------- 5.8/12.8 MB 167.7 kB/s eta 0:00:42\n",
      "     ----------------- --------------------- 5.8/12.8 MB 167.6 kB/s eta 0:00:42\n",
      "     ----------------- --------------------- 5.8/12.8 MB 167.6 kB/s eta 0:00:42\n",
      "     ----------------- --------------------- 5.8/12.8 MB 167.6 kB/s eta 0:00:42\n",
      "     ----------------- --------------------- 5.8/12.8 MB 167.3 kB/s eta 0:00:42\n",
      "     ----------------- --------------------- 5.9/12.8 MB 167.3 kB/s eta 0:00:42\n",
      "     ----------------- --------------------- 5.9/12.8 MB 167.3 kB/s eta 0:00:42\n",
      "     ----------------- --------------------- 5.9/12.8 MB 167.5 kB/s eta 0:00:42\n",
      "     ----------------- --------------------- 5.9/12.8 MB 167.5 kB/s eta 0:00:42\n",
      "     ----------------- --------------------- 5.9/12.8 MB 167.9 kB/s eta 0:00:42\n",
      "     ----------------- --------------------- 5.9/12.8 MB 167.9 kB/s eta 0:00:42\n",
      "     ----------------- --------------------- 5.9/12.8 MB 167.9 kB/s eta 0:00:42\n",
      "     ----------------- --------------------- 5.9/12.8 MB 167.3 kB/s eta 0:00:42\n",
      "     ------------------ -------------------- 5.9/12.8 MB 167.4 kB/s eta 0:00:42\n",
      "     ------------------ -------------------- 5.9/12.8 MB 167.4 kB/s eta 0:00:42\n",
      "     ------------------ -------------------- 5.9/12.8 MB 167.8 kB/s eta 0:00:41\n",
      "     ------------------ -------------------- 5.9/12.8 MB 167.8 kB/s eta 0:00:41\n",
      "     ------------------ -------------------- 6.0/12.8 MB 167.6 kB/s eta 0:00:41\n",
      "     ------------------ -------------------- 6.0/12.8 MB 167.6 kB/s eta 0:00:41\n",
      "     ------------------ -------------------- 6.0/12.8 MB 167.6 kB/s eta 0:00:41\n",
      "     ------------------ -------------------- 6.0/12.8 MB 167.3 kB/s eta 0:00:41\n",
      "     ------------------ -------------------- 6.0/12.8 MB 167.3 kB/s eta 0:00:41\n",
      "     ------------------ -------------------- 6.0/12.8 MB 167.3 kB/s eta 0:00:41\n",
      "     ------------------ -------------------- 6.0/12.8 MB 167.5 kB/s eta 0:00:41\n",
      "     ------------------ -------------------- 6.0/12.8 MB 167.5 kB/s eta 0:00:41\n",
      "     ------------------ -------------------- 6.0/12.8 MB 167.5 kB/s eta 0:00:41\n",
      "     ------------------ -------------------- 6.0/12.8 MB 167.5 kB/s eta 0:00:41\n",
      "     ------------------ -------------------- 6.0/12.8 MB 167.0 kB/s eta 0:00:41\n",
      "     ------------------ -------------------- 6.0/12.8 MB 167.0 kB/s eta 0:00:41\n",
      "     ------------------ -------------------- 6.0/12.8 MB 167.6 kB/s eta 0:00:41\n",
      "     ------------------ -------------------- 6.0/12.8 MB 167.6 kB/s eta 0:00:41\n",
      "     ------------------ -------------------- 6.1/12.8 MB 167.9 kB/s eta 0:00:41\n",
      "     ------------------ -------------------- 6.1/12.8 MB 167.9 kB/s eta 0:00:41\n",
      "     ------------------ -------------------- 6.1/12.8 MB 167.5 kB/s eta 0:00:41\n",
      "     ------------------ -------------------- 6.1/12.8 MB 167.5 kB/s eta 0:00:41\n",
      "     ------------------ -------------------- 6.1/12.8 MB 167.3 kB/s eta 0:00:41\n",
      "     ------------------ -------------------- 6.1/12.8 MB 167.3 kB/s eta 0:00:41\n",
      "     ------------------ -------------------- 6.1/12.8 MB 167.3 kB/s eta 0:00:41\n",
      "     ------------------ -------------------- 6.1/12.8 MB 167.5 kB/s eta 0:00:40\n",
      "     ------------------ -------------------- 6.1/12.8 MB 167.5 kB/s eta 0:00:40\n",
      "     ------------------ -------------------- 6.1/12.8 MB 168.0 kB/s eta 0:00:40\n",
      "     ------------------ -------------------- 6.1/12.8 MB 168.0 kB/s eta 0:00:40\n",
      "     ------------------ -------------------- 6.1/12.8 MB 168.0 kB/s eta 0:00:40\n",
      "     ------------------ -------------------- 6.2/12.8 MB 167.3 kB/s eta 0:00:40\n",
      "     ------------------ -------------------- 6.2/12.8 MB 167.3 kB/s eta 0:00:40\n",
      "     ------------------ -------------------- 6.2/12.8 MB 167.3 kB/s eta 0:00:40\n",
      "     ------------------ -------------------- 6.2/12.8 MB 167.3 kB/s eta 0:00:40\n",
      "     ------------------ -------------------- 6.2/12.8 MB 167.4 kB/s eta 0:00:40\n",
      "     ------------------ -------------------- 6.2/12.8 MB 167.4 kB/s eta 0:00:40\n",
      "     ------------------ -------------------- 6.2/12.8 MB 167.4 kB/s eta 0:00:40\n",
      "     ------------------ -------------------- 6.2/12.8 MB 167.4 kB/s eta 0:00:40\n",
      "     ------------------ -------------------- 6.2/12.8 MB 167.2 kB/s eta 0:00:40\n",
      "     ------------------ -------------------- 6.2/12.8 MB 167.2 kB/s eta 0:00:40\n",
      "     ------------------ -------------------- 6.2/12.8 MB 167.4 kB/s eta 0:00:40\n",
      "     ------------------ -------------------- 6.2/12.8 MB 167.4 kB/s eta 0:00:40\n",
      "     ------------------- ------------------- 6.3/12.8 MB 167.6 kB/s eta 0:00:40\n",
      "     ------------------- ------------------- 6.3/12.8 MB 167.6 kB/s eta 0:00:40\n",
      "     ------------------- ------------------- 6.3/12.8 MB 167.6 kB/s eta 0:00:40\n",
      "     ------------------- ------------------- 6.3/12.8 MB 167.1 kB/s eta 0:00:40\n",
      "     ------------------- ------------------- 6.3/12.8 MB 167.1 kB/s eta 0:00:40\n",
      "     ------------------- ------------------- 6.3/12.8 MB 167.3 kB/s eta 0:00:39\n",
      "     ------------------- ------------------- 6.3/12.8 MB 167.6 kB/s eta 0:00:39\n",
      "     ------------------- ------------------- 6.3/12.8 MB 167.6 kB/s eta 0:00:39\n",
      "     ------------------- ------------------- 6.3/12.8 MB 167.7 kB/s eta 0:00:39\n",
      "     ------------------- ------------------- 6.3/12.8 MB 167.7 kB/s eta 0:00:39\n",
      "     ------------------- ------------------- 6.3/12.8 MB 167.5 kB/s eta 0:00:39\n",
      "     ------------------- ------------------- 6.3/12.8 MB 167.5 kB/s eta 0:00:39\n",
      "     ------------------- ------------------- 6.3/12.8 MB 167.4 kB/s eta 0:00:39\n",
      "     ------------------- ------------------- 6.3/12.8 MB 167.4 kB/s eta 0:00:39\n",
      "     ------------------- ------------------- 6.4/12.8 MB 167.8 kB/s eta 0:00:39\n",
      "     ------------------- ------------------- 6.4/12.8 MB 167.8 kB/s eta 0:00:39\n",
      "     ------------------- ------------------- 6.4/12.8 MB 167.9 kB/s eta 0:00:39\n",
      "     ------------------- ------------------- 6.4/12.8 MB 167.9 kB/s eta 0:00:39\n",
      "     ------------------- ------------------- 6.4/12.8 MB 167.9 kB/s eta 0:00:39\n",
      "     ------------------- ------------------- 6.4/12.8 MB 167.3 kB/s eta 0:00:39\n",
      "     ------------------- ------------------- 6.4/12.8 MB 167.3 kB/s eta 0:00:39\n",
      "     ------------------- ------------------- 6.4/12.8 MB 167.3 kB/s eta 0:00:39\n",
      "     ------------------- ------------------- 6.4/12.8 MB 167.3 kB/s eta 0:00:39\n",
      "     ------------------- ------------------- 6.4/12.8 MB 167.3 kB/s eta 0:00:39\n",
      "     ------------------- ------------------- 6.5/12.8 MB 167.6 kB/s eta 0:00:38\n",
      "     ------------------- ------------------- 6.5/12.8 MB 167.6 kB/s eta 0:00:38\n",
      "     ------------------- ------------------- 6.5/12.8 MB 167.6 kB/s eta 0:00:38\n",
      "     ------------------- ------------------- 6.5/12.8 MB 167.8 kB/s eta 0:00:38\n",
      "     ------------------- ------------------- 6.5/12.8 MB 167.8 kB/s eta 0:00:38\n",
      "     ------------------- ------------------- 6.5/12.8 MB 167.3 kB/s eta 0:00:38\n",
      "     ------------------- ------------------- 6.5/12.8 MB 167.3 kB/s eta 0:00:38\n",
      "     ------------------- ------------------- 6.5/12.8 MB 167.5 kB/s eta 0:00:38\n",
      "     ------------------- ------------------- 6.5/12.8 MB 167.5 kB/s eta 0:00:38\n",
      "     ------------------- ------------------- 6.5/12.8 MB 167.5 kB/s eta 0:00:38\n",
      "     ------------------- ------------------- 6.5/12.8 MB 167.5 kB/s eta 0:00:38\n",
      "     ------------------- ------------------- 6.5/12.8 MB 167.3 kB/s eta 0:00:38\n",
      "     ------------------- ------------------- 6.5/12.8 MB 167.3 kB/s eta 0:00:38\n",
      "     ------------------- ------------------- 6.6/12.8 MB 167.7 kB/s eta 0:00:38\n",
      "     ------------------- ------------------- 6.6/12.8 MB 167.6 kB/s eta 0:00:38\n",
      "     ------------------- ------------------- 6.6/12.8 MB 167.6 kB/s eta 0:00:38\n",
      "     -------------------- ------------------ 6.6/12.8 MB 167.7 kB/s eta 0:00:38\n",
      "     -------------------- ------------------ 6.6/12.8 MB 167.7 kB/s eta 0:00:38\n",
      "     -------------------- ------------------ 6.6/12.8 MB 167.7 kB/s eta 0:00:38\n",
      "     -------------------- ------------------ 6.6/12.8 MB 167.3 kB/s eta 0:00:38\n",
      "     -------------------- ------------------ 6.6/12.8 MB 167.3 kB/s eta 0:00:38\n",
      "     -------------------- ------------------ 6.6/12.8 MB 167.3 kB/s eta 0:00:37\n",
      "     -------------------- ------------------ 6.6/12.8 MB 167.3 kB/s eta 0:00:37\n",
      "     -------------------- ------------------ 6.6/12.8 MB 167.8 kB/s eta 0:00:37\n",
      "     -------------------- ------------------ 6.6/12.8 MB 167.8 kB/s eta 0:00:37\n",
      "     -------------------- ------------------ 6.6/12.8 MB 167.5 kB/s eta 0:00:37\n",
      "     -------------------- ------------------ 6.6/12.8 MB 167.5 kB/s eta 0:00:37\n",
      "     -------------------- ------------------ 6.7/12.8 MB 167.3 kB/s eta 0:00:37\n",
      "     -------------------- ------------------ 6.7/12.8 MB 167.3 kB/s eta 0:00:37\n",
      "     -------------------- ------------------ 6.7/12.8 MB 167.3 kB/s eta 0:00:37\n",
      "     -------------------- ------------------ 6.7/12.8 MB 167.3 kB/s eta 0:00:37\n",
      "     -------------------- ------------------ 6.7/12.8 MB 167.7 kB/s eta 0:00:37\n",
      "     -------------------- ------------------ 6.7/12.8 MB 167.7 kB/s eta 0:00:37\n",
      "     -------------------- ------------------ 6.7/12.8 MB 167.9 kB/s eta 0:00:37\n",
      "     -------------------- ------------------ 6.7/12.8 MB 167.9 kB/s eta 0:00:37\n",
      "     -------------------- ------------------ 6.7/12.8 MB 167.3 kB/s eta 0:00:37\n",
      "     -------------------- ------------------ 6.7/12.8 MB 167.3 kB/s eta 0:00:37\n",
      "     -------------------- ------------------ 6.7/12.8 MB 167.3 kB/s eta 0:00:37\n",
      "     -------------------- ------------------ 6.7/12.8 MB 167.3 kB/s eta 0:00:37\n",
      "     -------------------- ------------------ 6.7/12.8 MB 167.3 kB/s eta 0:00:37\n",
      "     -------------------- ------------------ 6.7/12.8 MB 167.3 kB/s eta 0:00:37\n",
      "     -------------------- ------------------ 6.7/12.8 MB 167.3 kB/s eta 0:00:37\n",
      "     -------------------- ------------------ 6.8/12.8 MB 166.4 kB/s eta 0:00:37\n",
      "     -------------------- ------------------ 6.8/12.8 MB 166.4 kB/s eta 0:00:37\n",
      "     -------------------- ------------------ 6.8/12.8 MB 166.8 kB/s eta 0:00:37\n",
      "     -------------------- ------------------ 6.8/12.8 MB 166.8 kB/s eta 0:00:37\n",
      "     -------------------- ------------------ 6.8/12.8 MB 166.8 kB/s eta 0:00:37\n",
      "     -------------------- ------------------ 6.8/12.8 MB 166.9 kB/s eta 0:00:36\n",
      "     -------------------- ------------------ 6.8/12.8 MB 166.6 kB/s eta 0:00:36\n",
      "     -------------------- ------------------ 6.8/12.8 MB 166.6 kB/s eta 0:00:36\n",
      "     -------------------- ------------------ 6.8/12.8 MB 166.6 kB/s eta 0:00:36\n",
      "     -------------------- ------------------ 6.8/12.8 MB 166.4 kB/s eta 0:00:36\n",
      "     -------------------- ------------------ 6.8/12.8 MB 166.4 kB/s eta 0:00:36\n",
      "     -------------------- ------------------ 6.8/12.8 MB 166.4 kB/s eta 0:00:36\n",
      "     -------------------- ------------------ 6.9/12.8 MB 166.6 kB/s eta 0:00:36\n",
      "     -------------------- ------------------ 6.9/12.8 MB 166.6 kB/s eta 0:00:36\n",
      "     -------------------- ------------------ 6.9/12.8 MB 166.8 kB/s eta 0:00:36\n",
      "     -------------------- ------------------ 6.9/12.8 MB 166.8 kB/s eta 0:00:36\n",
      "     -------------------- ------------------ 6.9/12.8 MB 166.5 kB/s eta 0:00:36\n",
      "     -------------------- ------------------ 6.9/12.8 MB 166.5 kB/s eta 0:00:36\n",
      "     -------------------- ------------------ 6.9/12.8 MB 166.5 kB/s eta 0:00:36\n",
      "     --------------------- ----------------- 6.9/12.8 MB 166.8 kB/s eta 0:00:36\n",
      "     --------------------- ----------------- 6.9/12.8 MB 166.7 kB/s eta 0:00:36\n",
      "     --------------------- ----------------- 6.9/12.8 MB 166.7 kB/s eta 0:00:36\n",
      "     --------------------- ----------------- 6.9/12.8 MB 167.0 kB/s eta 0:00:36\n",
      "     --------------------- ----------------- 6.9/12.8 MB 167.0 kB/s eta 0:00:36\n",
      "     --------------------- ----------------- 6.9/12.8 MB 167.0 kB/s eta 0:00:36\n",
      "     --------------------- ----------------- 7.0/12.8 MB 166.4 kB/s eta 0:00:36\n",
      "     --------------------- ----------------- 7.0/12.8 MB 166.6 kB/s eta 0:00:35\n",
      "     --------------------- ----------------- 7.0/12.8 MB 166.6 kB/s eta 0:00:35\n",
      "     --------------------- ----------------- 7.0/12.8 MB 166.8 kB/s eta 0:00:35\n",
      "     --------------------- ----------------- 7.0/12.8 MB 166.8 kB/s eta 0:00:35\n",
      "     --------------------- ----------------- 7.0/12.8 MB 166.7 kB/s eta 0:00:35\n",
      "     --------------------- ----------------- 7.0/12.8 MB 166.7 kB/s eta 0:00:35\n",
      "     --------------------- ----------------- 7.0/12.8 MB 166.7 kB/s eta 0:00:35\n",
      "     --------------------- ----------------- 7.0/12.8 MB 166.6 kB/s eta 0:00:35\n",
      "     --------------------- ----------------- 7.0/12.8 MB 166.6 kB/s eta 0:00:35\n",
      "     --------------------- ----------------- 7.0/12.8 MB 166.8 kB/s eta 0:00:35\n",
      "     --------------------- ----------------- 7.0/12.8 MB 166.8 kB/s eta 0:00:35\n",
      "     --------------------- ----------------- 7.1/12.8 MB 166.7 kB/s eta 0:00:35\n",
      "     --------------------- ----------------- 7.1/12.8 MB 166.7 kB/s eta 0:00:35\n",
      "     --------------------- ----------------- 7.1/12.8 MB 166.7 kB/s eta 0:00:35\n",
      "     --------------------- ----------------- 7.1/12.8 MB 166.5 kB/s eta 0:00:35\n",
      "     --------------------- ----------------- 7.1/12.8 MB 166.4 kB/s eta 0:00:35\n",
      "     --------------------- ----------------- 7.1/12.8 MB 166.4 kB/s eta 0:00:35\n",
      "     --------------------- ----------------- 7.1/12.8 MB 166.8 kB/s eta 0:00:35\n",
      "     --------------------- ----------------- 7.1/12.8 MB 166.8 kB/s eta 0:00:35\n",
      "     --------------------- ----------------- 7.1/12.8 MB 167.0 kB/s eta 0:00:34\n",
      "     --------------------- ----------------- 7.1/12.8 MB 167.0 kB/s eta 0:00:34\n",
      "     --------------------- ----------------- 7.1/12.8 MB 167.0 kB/s eta 0:00:34\n",
      "     --------------------- ----------------- 7.1/12.8 MB 166.5 kB/s eta 0:00:35\n",
      "     --------------------- ----------------- 7.1/12.8 MB 166.5 kB/s eta 0:00:35\n",
      "     --------------------- ----------------- 7.2/12.8 MB 166.6 kB/s eta 0:00:34\n",
      "     --------------------- ----------------- 7.2/12.8 MB 166.8 kB/s eta 0:00:34\n",
      "     --------------------- ----------------- 7.2/12.8 MB 166.8 kB/s eta 0:00:34\n",
      "     --------------------- ----------------- 7.2/12.8 MB 167.1 kB/s eta 0:00:34\n",
      "     --------------------- ----------------- 7.2/12.8 MB 167.1 kB/s eta 0:00:34\n",
      "     --------------------- ----------------- 7.2/12.8 MB 167.1 kB/s eta 0:00:34\n",
      "     --------------------- ----------------- 7.2/12.8 MB 166.7 kB/s eta 0:00:34\n",
      "     --------------------- ----------------- 7.2/12.8 MB 166.6 kB/s eta 0:00:34\n",
      "     --------------------- ----------------- 7.2/12.8 MB 166.6 kB/s eta 0:00:34\n",
      "     --------------------- ----------------- 7.2/12.8 MB 166.6 kB/s eta 0:00:34\n",
      "     ---------------------- ---------------- 7.2/12.8 MB 167.1 kB/s eta 0:00:34\n",
      "     ---------------------- ---------------- 7.2/12.8 MB 166.8 kB/s eta 0:00:34\n",
      "     ---------------------- ---------------- 7.2/12.8 MB 166.8 kB/s eta 0:00:34\n",
      "     ---------------------- ---------------- 7.2/12.8 MB 166.8 kB/s eta 0:00:34\n",
      "     ---------------------- ---------------- 7.3/12.8 MB 166.6 kB/s eta 0:00:34\n",
      "     ---------------------- ---------------- 7.3/12.8 MB 166.6 kB/s eta 0:00:34\n",
      "     ---------------------- ---------------- 7.3/12.8 MB 166.8 kB/s eta 0:00:34\n",
      "     ---------------------- ---------------- 7.3/12.8 MB 166.7 kB/s eta 0:00:33\n",
      "     ---------------------- ---------------- 7.3/12.8 MB 166.7 kB/s eta 0:00:33\n",
      "     ---------------------- ---------------- 7.3/12.8 MB 167.2 kB/s eta 0:00:33\n",
      "     ---------------------- ---------------- 7.3/12.8 MB 167.2 kB/s eta 0:00:33\n",
      "     ---------------------- ---------------- 7.3/12.8 MB 167.2 kB/s eta 0:00:33\n",
      "     ---------------------- ---------------- 7.3/12.8 MB 167.2 kB/s eta 0:00:33\n",
      "     ---------------------- ---------------- 7.3/12.8 MB 166.8 kB/s eta 0:00:33\n",
      "     ---------------------- ---------------- 7.4/12.8 MB 167.0 kB/s eta 0:00:33\n",
      "     ---------------------- ---------------- 7.4/12.8 MB 167.0 kB/s eta 0:00:33\n",
      "     ---------------------- ---------------- 7.4/12.8 MB 167.3 kB/s eta 0:00:33\n",
      "     ---------------------- ---------------- 7.4/12.8 MB 167.3 kB/s eta 0:00:33\n",
      "     ---------------------- ---------------- 7.4/12.8 MB 167.3 kB/s eta 0:00:33\n",
      "     ---------------------- ---------------- 7.4/12.8 MB 166.7 kB/s eta 0:00:33\n",
      "     ---------------------- ---------------- 7.4/12.8 MB 167.0 kB/s eta 0:00:33\n",
      "     ---------------------- ---------------- 7.4/12.8 MB 167.0 kB/s eta 0:00:33\n",
      "     ---------------------- ---------------- 7.4/12.8 MB 167.0 kB/s eta 0:00:33\n",
      "     ---------------------- ---------------- 7.4/12.8 MB 167.0 kB/s eta 0:00:33\n",
      "     ---------------------- ---------------- 7.4/12.8 MB 167.3 kB/s eta 0:00:33\n",
      "     ---------------------- ---------------- 7.4/12.8 MB 167.3 kB/s eta 0:00:33\n",
      "     ---------------------- ---------------- 7.4/12.8 MB 167.3 kB/s eta 0:00:33\n",
      "     ---------------------- ---------------- 7.5/12.8 MB 167.0 kB/s eta 0:00:33\n",
      "     ---------------------- ---------------- 7.5/12.8 MB 167.0 kB/s eta 0:00:33\n",
      "     ---------------------- ---------------- 7.5/12.8 MB 166.6 kB/s eta 0:00:33\n",
      "     ---------------------- ---------------- 7.5/12.8 MB 166.6 kB/s eta 0:00:33\n",
      "     ---------------------- ---------------- 7.5/12.8 MB 167.1 kB/s eta 0:00:32\n",
      "     ---------------------- ---------------- 7.5/12.8 MB 167.1 kB/s eta 0:00:32\n",
      "     ---------------------- ---------------- 7.5/12.8 MB 166.7 kB/s eta 0:00:32\n",
      "     ---------------------- ---------------- 7.5/12.8 MB 166.7 kB/s eta 0:00:32\n",
      "     ---------------------- ---------------- 7.5/12.8 MB 167.0 kB/s eta 0:00:32\n",
      "     ---------------------- ---------------- 7.5/12.8 MB 167.0 kB/s eta 0:00:32\n",
      "     ---------------------- ---------------- 7.5/12.8 MB 167.0 kB/s eta 0:00:32\n",
      "     ---------------------- ---------------- 7.5/12.8 MB 167.4 kB/s eta 0:00:32\n",
      "     ---------------------- ---------------- 7.5/12.8 MB 167.4 kB/s eta 0:00:32\n",
      "     ---------------------- ---------------- 7.5/12.8 MB 166.9 kB/s eta 0:00:32\n",
      "     ---------------------- ---------------- 7.5/12.8 MB 166.9 kB/s eta 0:00:32\n",
      "     ---------------------- ---------------- 7.5/12.8 MB 166.9 kB/s eta 0:00:32\n",
      "     ----------------------- --------------- 7.6/12.8 MB 167.0 kB/s eta 0:00:32\n",
      "     ----------------------- --------------- 7.6/12.8 MB 167.0 kB/s eta 0:00:32\n",
      "     ----------------------- --------------- 7.6/12.8 MB 166.7 kB/s eta 0:00:32\n",
      "     ----------------------- --------------- 7.6/12.8 MB 166.7 kB/s eta 0:00:32\n",
      "     ----------------------- --------------- 7.6/12.8 MB 167.3 kB/s eta 0:00:32\n",
      "     ----------------------- --------------- 7.6/12.8 MB 167.6 kB/s eta 0:00:31\n",
      "     ----------------------- --------------- 7.6/12.8 MB 167.6 kB/s eta 0:00:31\n",
      "     ----------------------- --------------- 7.6/12.8 MB 167.6 kB/s eta 0:00:31\n",
      "     ----------------------- --------------- 7.6/12.8 MB 166.7 kB/s eta 0:00:32\n",
      "     ----------------------- --------------- 7.6/12.8 MB 166.7 kB/s eta 0:00:32\n",
      "     ----------------------- --------------- 7.6/12.8 MB 167.3 kB/s eta 0:00:31\n",
      "     ----------------------- --------------- 7.6/12.8 MB 167.3 kB/s eta 0:00:31\n",
      "     ----------------------- --------------- 7.7/12.8 MB 166.9 kB/s eta 0:00:31\n",
      "     ----------------------- --------------- 7.7/12.8 MB 166.9 kB/s eta 0:00:31\n",
      "     ----------------------- --------------- 7.7/12.8 MB 166.9 kB/s eta 0:00:31\n",
      "     ----------------------- --------------- 7.7/12.8 MB 167.0 kB/s eta 0:00:31\n",
      "     ----------------------- --------------- 7.7/12.8 MB 167.0 kB/s eta 0:00:31\n",
      "     ----------------------- --------------- 7.7/12.8 MB 167.0 kB/s eta 0:00:31\n",
      "     ----------------------- --------------- 7.7/12.8 MB 166.6 kB/s eta 0:00:31\n",
      "     ----------------------- --------------- 7.7/12.8 MB 166.6 kB/s eta 0:00:31\n",
      "     ----------------------- --------------- 7.7/12.8 MB 167.3 kB/s eta 0:00:31\n",
      "     ----------------------- --------------- 7.7/12.8 MB 167.3 kB/s eta 0:00:31\n",
      "     ----------------------- --------------- 7.7/12.8 MB 166.8 kB/s eta 0:00:31\n",
      "     ----------------------- --------------- 7.7/12.8 MB 166.8 kB/s eta 0:00:31\n",
      "     ----------------------- --------------- 7.8/12.8 MB 167.1 kB/s eta 0:00:31\n",
      "     ----------------------- --------------- 7.8/12.8 MB 167.1 kB/s eta 0:00:31\n",
      "     ----------------------- --------------- 7.8/12.8 MB 167.5 kB/s eta 0:00:30\n",
      "     ----------------------- --------------- 7.8/12.8 MB 167.5 kB/s eta 0:00:30\n",
      "     ----------------------- --------------- 7.8/12.8 MB 167.4 kB/s eta 0:00:30\n",
      "     ----------------------- --------------- 7.8/12.8 MB 167.4 kB/s eta 0:00:30\n",
      "     ----------------------- --------------- 7.8/12.8 MB 167.3 kB/s eta 0:00:30\n",
      "     ----------------------- --------------- 7.8/12.8 MB 167.3 kB/s eta 0:00:30\n",
      "     ----------------------- --------------- 7.8/12.8 MB 166.9 kB/s eta 0:00:30\n",
      "     ----------------------- --------------- 7.8/12.8 MB 167.3 kB/s eta 0:00:30\n",
      "     ----------------------- --------------- 7.8/12.8 MB 167.3 kB/s eta 0:00:30\n",
      "     ----------------------- --------------- 7.9/12.8 MB 168.1 kB/s eta 0:00:30\n",
      "     ----------------------- --------------- 7.9/12.8 MB 168.1 kB/s eta 0:00:30\n",
      "     ----------------------- --------------- 7.9/12.8 MB 168.1 kB/s eta 0:00:30\n",
      "     ----------------------- --------------- 7.9/12.8 MB 167.3 kB/s eta 0:00:30\n",
      "     ----------------------- --------------- 7.9/12.8 MB 167.3 kB/s eta 0:00:30\n",
      "     ------------------------ -------------- 7.9/12.8 MB 167.3 kB/s eta 0:00:30\n",
      "     ------------------------ -------------- 7.9/12.8 MB 167.3 kB/s eta 0:00:30\n",
      "     ------------------------ -------------- 7.9/12.8 MB 167.3 kB/s eta 0:00:30\n",
      "     ------------------------ -------------- 7.9/12.8 MB 167.3 kB/s eta 0:00:30\n",
      "     ------------------------ -------------- 7.9/12.8 MB 167.9 kB/s eta 0:00:30\n",
      "     ------------------------ -------------- 7.9/12.8 MB 167.9 kB/s eta 0:00:30\n",
      "     ------------------------ -------------- 7.9/12.8 MB 167.9 kB/s eta 0:00:29\n",
      "     ------------------------ -------------- 7.9/12.8 MB 167.9 kB/s eta 0:00:29\n",
      "     ------------------------ -------------- 8.0/12.8 MB 168.0 kB/s eta 0:00:29\n",
      "     ------------------------ -------------- 8.0/12.8 MB 168.0 kB/s eta 0:00:29\n",
      "     ------------------------ -------------- 8.0/12.8 MB 168.2 kB/s eta 0:00:29\n",
      "     ------------------------ -------------- 8.0/12.8 MB 168.2 kB/s eta 0:00:29\n",
      "     ------------------------ -------------- 8.0/12.8 MB 167.9 kB/s eta 0:00:29\n",
      "     ------------------------ -------------- 8.0/12.8 MB 167.9 kB/s eta 0:00:29\n",
      "     ------------------------ -------------- 8.0/12.8 MB 167.9 kB/s eta 0:00:29\n",
      "     ------------------------ -------------- 8.0/12.8 MB 168.0 kB/s eta 0:00:29\n",
      "     ------------------------ -------------- 8.0/12.8 MB 168.4 kB/s eta 0:00:29\n",
      "     ------------------------ -------------- 8.0/12.8 MB 168.4 kB/s eta 0:00:29\n",
      "     ------------------------ -------------- 8.0/12.8 MB 168.4 kB/s eta 0:00:29\n",
      "     ------------------------ -------------- 8.0/12.8 MB 168.4 kB/s eta 0:00:29\n",
      "     ------------------------ -------------- 8.0/12.8 MB 168.4 kB/s eta 0:00:29\n",
      "     ------------------------ -------------- 8.1/12.8 MB 168.1 kB/s eta 0:00:29\n",
      "     ------------------------ -------------- 8.1/12.8 MB 168.1 kB/s eta 0:00:29\n",
      "     ------------------------ -------------- 8.1/12.8 MB 167.9 kB/s eta 0:00:29\n",
      "     ------------------------ -------------- 8.1/12.8 MB 167.9 kB/s eta 0:00:29\n",
      "     ------------------------ -------------- 8.1/12.8 MB 168.4 kB/s eta 0:00:28\n",
      "     ------------------------ -------------- 8.1/12.8 MB 168.4 kB/s eta 0:00:28\n",
      "     ------------------------ -------------- 8.1/12.8 MB 168.7 kB/s eta 0:00:28\n",
      "     ------------------------ -------------- 8.1/12.8 MB 168.7 kB/s eta 0:00:28\n",
      "     ------------------------ -------------- 8.1/12.8 MB 168.7 kB/s eta 0:00:28\n",
      "     ------------------------ -------------- 8.1/12.8 MB 168.1 kB/s eta 0:00:28\n",
      "     ------------------------ -------------- 8.1/12.8 MB 168.0 kB/s eta 0:00:28\n",
      "     ------------------------ -------------- 8.1/12.8 MB 168.0 kB/s eta 0:00:28\n",
      "     ------------------------ -------------- 8.2/12.8 MB 168.0 kB/s eta 0:00:28\n",
      "     ------------------------ -------------- 8.2/12.8 MB 168.0 kB/s eta 0:00:28\n",
      "     ------------------------ -------------- 8.2/12.8 MB 168.3 kB/s eta 0:00:28\n",
      "     ------------------------ -------------- 8.2/12.8 MB 168.3 kB/s eta 0:00:28\n",
      "     ------------------------ -------------- 8.2/12.8 MB 168.3 kB/s eta 0:00:28\n",
      "     ------------------------ -------------- 8.2/12.8 MB 168.2 kB/s eta 0:00:28\n",
      "     ------------------------ -------------- 8.2/12.8 MB 168.2 kB/s eta 0:00:28\n",
      "     ------------------------ -------------- 8.2/12.8 MB 168.3 kB/s eta 0:00:28\n",
      "     ------------------------- ------------- 8.2/12.8 MB 168.5 kB/s eta 0:00:28\n",
      "     ------------------------- ------------- 8.2/12.8 MB 168.5 kB/s eta 0:00:28\n",
      "     ------------------------- ------------- 8.2/12.8 MB 168.4 kB/s eta 0:00:28\n",
      "     ------------------------- ------------- 8.2/12.8 MB 168.4 kB/s eta 0:00:28\n",
      "     ------------------------- ------------- 8.2/12.8 MB 168.4 kB/s eta 0:00:28\n",
      "     ------------------------- ------------- 8.3/12.8 MB 168.2 kB/s eta 0:00:28\n",
      "     ------------------------- ------------- 8.3/12.8 MB 168.2 kB/s eta 0:00:27\n",
      "     ------------------------- ------------- 8.3/12.8 MB 168.2 kB/s eta 0:00:27\n",
      "     ------------------------- ------------- 8.3/12.8 MB 168.6 kB/s eta 0:00:27\n",
      "     ------------------------- ------------- 8.3/12.8 MB 168.6 kB/s eta 0:00:27\n",
      "     ------------------------- ------------- 8.3/12.8 MB 168.9 kB/s eta 0:00:27\n",
      "     ------------------------- ------------- 8.3/12.8 MB 168.9 kB/s eta 0:00:27\n",
      "     ------------------------- ------------- 8.3/12.8 MB 168.9 kB/s eta 0:00:27\n",
      "     ------------------------- ------------- 8.3/12.8 MB 167.8 kB/s eta 0:00:27\n",
      "     ------------------------- ------------- 8.3/12.8 MB 167.8 kB/s eta 0:00:27\n",
      "     ------------------------- ------------- 8.3/12.8 MB 168.4 kB/s eta 0:00:27\n",
      "     ------------------------- ------------- 8.3/12.8 MB 168.4 kB/s eta 0:00:27\n",
      "     ------------------------- ------------- 8.4/12.8 MB 168.6 kB/s eta 0:00:27\n",
      "     ------------------------- ------------- 8.4/12.8 MB 168.6 kB/s eta 0:00:27\n",
      "     ------------------------- ------------- 8.4/12.8 MB 168.2 kB/s eta 0:00:27\n",
      "     ------------------------- ------------- 8.4/12.8 MB 168.2 kB/s eta 0:00:27\n",
      "     ------------------------- ------------- 8.4/12.8 MB 168.0 kB/s eta 0:00:27\n",
      "     ------------------------- ------------- 8.4/12.8 MB 168.0 kB/s eta 0:00:27\n",
      "     ------------------------- ------------- 8.4/12.8 MB 168.1 kB/s eta 0:00:27\n",
      "     ------------------------- ------------- 8.4/12.8 MB 168.1 kB/s eta 0:00:27\n",
      "     ------------------------- ------------- 8.4/12.8 MB 168.4 kB/s eta 0:00:27\n",
      "     ------------------------- ------------- 8.4/12.8 MB 168.4 kB/s eta 0:00:27\n",
      "     ------------------------- ------------- 8.4/12.8 MB 168.4 kB/s eta 0:00:27\n",
      "     ------------------------- ------------- 8.4/12.8 MB 168.1 kB/s eta 0:00:26\n",
      "     ------------------------- ------------- 8.4/12.8 MB 168.1 kB/s eta 0:00:26\n",
      "     ------------------------- ------------- 8.4/12.8 MB 168.1 kB/s eta 0:00:26\n",
      "     ------------------------- ------------- 8.5/12.8 MB 168.3 kB/s eta 0:00:26\n",
      "     ------------------------- ------------- 8.5/12.8 MB 168.3 kB/s eta 0:00:26\n",
      "     ------------------------- ------------- 8.5/12.8 MB 167.9 kB/s eta 0:00:26\n",
      "     ------------------------- ------------- 8.5/12.8 MB 167.9 kB/s eta 0:00:26\n",
      "     ------------------------- ------------- 8.5/12.8 MB 167.9 kB/s eta 0:00:26\n",
      "     ------------------------- ------------- 8.5/12.8 MB 168.0 kB/s eta 0:00:26\n",
      "     ------------------------- ------------- 8.5/12.8 MB 168.2 kB/s eta 0:00:26\n",
      "     ------------------------- ------------- 8.5/12.8 MB 168.2 kB/s eta 0:00:26\n",
      "     ------------------------- ------------- 8.5/12.8 MB 168.4 kB/s eta 0:00:26\n",
      "     ------------------------- ------------- 8.5/12.8 MB 168.4 kB/s eta 0:00:26\n",
      "     ------------------------- ------------- 8.5/12.8 MB 168.4 kB/s eta 0:00:26\n",
      "     -------------------------- ------------ 8.6/12.8 MB 168.0 kB/s eta 0:00:26\n",
      "     -------------------------- ------------ 8.6/12.8 MB 168.0 kB/s eta 0:00:26\n",
      "     -------------------------- ------------ 8.6/12.8 MB 168.0 kB/s eta 0:00:26\n",
      "     -------------------------- ------------ 8.6/12.8 MB 167.5 kB/s eta 0:00:26\n",
      "     -------------------------- ------------ 8.6/12.8 MB 167.5 kB/s eta 0:00:26\n",
      "     -------------------------- ------------ 8.6/12.8 MB 167.8 kB/s eta 0:00:26\n",
      "     -------------------------- ------------ 8.6/12.8 MB 168.1 kB/s eta 0:00:25\n",
      "     -------------------------- ------------ 8.6/12.8 MB 168.1 kB/s eta 0:00:25\n",
      "     -------------------------- ------------ 8.6/12.8 MB 168.3 kB/s eta 0:00:25\n",
      "     -------------------------- ------------ 8.6/12.8 MB 168.3 kB/s eta 0:00:25\n",
      "     -------------------------- ------------ 8.6/12.8 MB 168.3 kB/s eta 0:00:25\n",
      "     -------------------------- ------------ 8.6/12.8 MB 167.7 kB/s eta 0:00:25\n",
      "     -------------------------- ------------ 8.6/12.8 MB 167.7 kB/s eta 0:00:25\n",
      "     -------------------------- ------------ 8.6/12.8 MB 167.6 kB/s eta 0:00:25\n",
      "     -------------------------- ------------ 8.7/12.8 MB 168.2 kB/s eta 0:00:25\n",
      "     -------------------------- ------------ 8.7/12.8 MB 168.2 kB/s eta 0:00:25\n",
      "     -------------------------- ------------ 8.7/12.8 MB 168.2 kB/s eta 0:00:25\n",
      "     -------------------------- ------------ 8.7/12.8 MB 167.9 kB/s eta 0:00:25\n",
      "     -------------------------- ------------ 8.7/12.8 MB 167.9 kB/s eta 0:00:25\n",
      "     -------------------------- ------------ 8.7/12.8 MB 167.9 kB/s eta 0:00:25\n",
      "     -------------------------- ------------ 8.7/12.8 MB 167.9 kB/s eta 0:00:25\n",
      "     -------------------------- ------------ 8.7/12.8 MB 167.9 kB/s eta 0:00:25\n",
      "     -------------------------- ------------ 8.7/12.8 MB 167.9 kB/s eta 0:00:25\n",
      "     -------------------------- ------------ 8.7/12.8 MB 167.9 kB/s eta 0:00:25\n",
      "     -------------------------- ------------ 8.7/12.8 MB 167.9 kB/s eta 0:00:25\n",
      "     -------------------------- ------------ 8.7/12.8 MB 168.0 kB/s eta 0:00:25\n",
      "     -------------------------- ------------ 8.7/12.8 MB 168.0 kB/s eta 0:00:25\n",
      "     -------------------------- ------------ 8.8/12.8 MB 167.9 kB/s eta 0:00:25\n",
      "     -------------------------- ------------ 8.8/12.8 MB 167.9 kB/s eta 0:00:25\n",
      "     -------------------------- ------------ 8.8/12.8 MB 167.8 kB/s eta 0:00:25\n",
      "     -------------------------- ------------ 8.8/12.8 MB 167.8 kB/s eta 0:00:25\n",
      "     -------------------------- ------------ 8.8/12.8 MB 168.0 kB/s eta 0:00:24\n",
      "     -------------------------- ------------ 8.8/12.8 MB 168.0 kB/s eta 0:00:24\n",
      "     -------------------------- ------------ 8.8/12.8 MB 168.0 kB/s eta 0:00:24\n",
      "     -------------------------- ------------ 8.8/12.8 MB 167.5 kB/s eta 0:00:24\n",
      "     -------------------------- ------------ 8.8/12.8 MB 168.0 kB/s eta 0:00:24\n",
      "     -------------------------- ------------ 8.8/12.8 MB 168.0 kB/s eta 0:00:24\n",
      "     -------------------------- ------------ 8.8/12.8 MB 168.2 kB/s eta 0:00:24\n",
      "     -------------------------- ------------ 8.8/12.8 MB 168.2 kB/s eta 0:00:24\n",
      "     -------------------------- ------------ 8.9/12.8 MB 168.2 kB/s eta 0:00:24\n",
      "     -------------------------- ------------ 8.9/12.8 MB 168.2 kB/s eta 0:00:24\n",
      "     -------------------------- ------------ 8.9/12.8 MB 168.2 kB/s eta 0:00:24\n",
      "     --------------------------- ----------- 8.9/12.8 MB 167.6 kB/s eta 0:00:24\n",
      "     --------------------------- ----------- 8.9/12.8 MB 167.6 kB/s eta 0:00:24\n",
      "     --------------------------- ----------- 8.9/12.8 MB 168.0 kB/s eta 0:00:24\n",
      "     --------------------------- ----------- 8.9/12.8 MB 168.2 kB/s eta 0:00:24\n",
      "     --------------------------- ----------- 8.9/12.8 MB 168.2 kB/s eta 0:00:24\n",
      "     --------------------------- ----------- 8.9/12.8 MB 168.2 kB/s eta 0:00:24\n",
      "     --------------------------- ----------- 8.9/12.8 MB 168.2 kB/s eta 0:00:24\n",
      "     --------------------------- ----------- 8.9/12.8 MB 168.0 kB/s eta 0:00:23\n",
      "     --------------------------- ----------- 8.9/12.8 MB 168.0 kB/s eta 0:00:23\n",
      "     --------------------------- ----------- 8.9/12.8 MB 168.0 kB/s eta 0:00:23\n",
      "     --------------------------- ----------- 9.0/12.8 MB 167.9 kB/s eta 0:00:23\n",
      "     --------------------------- ----------- 9.0/12.8 MB 167.9 kB/s eta 0:00:23\n",
      "     --------------------------- ----------- 9.0/12.8 MB 167.9 kB/s eta 0:00:23\n",
      "     --------------------------- ----------- 9.0/12.8 MB 167.9 kB/s eta 0:00:23\n",
      "     --------------------------- ----------- 9.0/12.8 MB 167.5 kB/s eta 0:00:23\n",
      "     --------------------------- ----------- 9.0/12.8 MB 167.5 kB/s eta 0:00:23\n",
      "     --------------------------- ----------- 9.0/12.8 MB 167.9 kB/s eta 0:00:23\n",
      "     --------------------------- ----------- 9.0/12.8 MB 167.9 kB/s eta 0:00:23\n",
      "     --------------------------- ----------- 9.0/12.8 MB 168.3 kB/s eta 0:00:23\n",
      "     --------------------------- ----------- 9.0/12.8 MB 168.5 kB/s eta 0:00:23\n",
      "     --------------------------- ----------- 9.0/12.8 MB 168.5 kB/s eta 0:00:23\n",
      "     --------------------------- ----------- 9.0/12.8 MB 168.5 kB/s eta 0:00:23\n",
      "     --------------------------- ----------- 9.0/12.8 MB 168.5 kB/s eta 0:00:23\n",
      "     --------------------------- ----------- 9.1/12.8 MB 167.6 kB/s eta 0:00:23\n",
      "     --------------------------- ----------- 9.1/12.8 MB 167.6 kB/s eta 0:00:23\n",
      "     --------------------------- ----------- 9.1/12.8 MB 168.0 kB/s eta 0:00:23\n",
      "     --------------------------- ----------- 9.1/12.8 MB 168.0 kB/s eta 0:00:23\n",
      "     --------------------------- ----------- 9.1/12.8 MB 168.3 kB/s eta 0:00:23\n",
      "     --------------------------- ----------- 9.1/12.8 MB 168.4 kB/s eta 0:00:22\n",
      "     --------------------------- ----------- 9.1/12.8 MB 168.4 kB/s eta 0:00:22\n",
      "     --------------------------- ----------- 9.1/12.8 MB 168.4 kB/s eta 0:00:22\n",
      "     --------------------------- ----------- 9.1/12.8 MB 168.1 kB/s eta 0:00:22\n",
      "     --------------------------- ----------- 9.1/12.8 MB 168.1 kB/s eta 0:00:22\n",
      "     --------------------------- ----------- 9.1/12.8 MB 167.8 kB/s eta 0:00:22\n",
      "     --------------------------- ----------- 9.2/12.8 MB 168.5 kB/s eta 0:00:22\n",
      "     --------------------------- ----------- 9.2/12.8 MB 168.5 kB/s eta 0:00:22\n",
      "     --------------------------- ----------- 9.2/12.8 MB 168.8 kB/s eta 0:00:22\n",
      "     --------------------------- ----------- 9.2/12.8 MB 168.8 kB/s eta 0:00:22\n",
      "     --------------------------- ----------- 9.2/12.8 MB 168.8 kB/s eta 0:00:22\n",
      "     --------------------------- ----------- 9.2/12.8 MB 168.1 kB/s eta 0:00:22\n",
      "     --------------------------- ----------- 9.2/12.8 MB 168.1 kB/s eta 0:00:22\n",
      "     --------------------------- ----------- 9.2/12.8 MB 168.1 kB/s eta 0:00:22\n",
      "     ---------------------------- ---------- 9.2/12.8 MB 167.9 kB/s eta 0:00:22\n",
      "     ---------------------------- ---------- 9.2/12.8 MB 167.9 kB/s eta 0:00:22\n",
      "     ---------------------------- ---------- 9.2/12.8 MB 167.9 kB/s eta 0:00:22\n",
      "     ---------------------------- ---------- 9.2/12.8 MB 168.1 kB/s eta 0:00:22\n",
      "     ---------------------------- ---------- 9.2/12.8 MB 168.1 kB/s eta 0:00:22\n",
      "     ---------------------------- ---------- 9.2/12.8 MB 168.1 kB/s eta 0:00:22\n",
      "     ---------------------------- ---------- 9.3/12.8 MB 167.9 kB/s eta 0:00:22\n",
      "     ---------------------------- ---------- 9.3/12.8 MB 168.5 kB/s eta 0:00:21\n",
      "     ---------------------------- ---------- 9.3/12.8 MB 168.5 kB/s eta 0:00:21\n",
      "     ---------------------------- ---------- 9.3/12.8 MB 168.6 kB/s eta 0:00:21\n",
      "     ---------------------------- ---------- 9.3/12.8 MB 168.6 kB/s eta 0:00:21\n",
      "     ---------------------------- ---------- 9.3/12.8 MB 168.6 kB/s eta 0:00:21\n",
      "     ---------------------------- ---------- 9.3/12.8 MB 167.9 kB/s eta 0:00:21\n",
      "     ---------------------------- ---------- 9.3/12.8 MB 167.9 kB/s eta 0:00:21\n",
      "     ---------------------------- ---------- 9.3/12.8 MB 168.2 kB/s eta 0:00:21\n",
      "     ---------------------------- ---------- 9.3/12.8 MB 168.5 kB/s eta 0:00:21\n",
      "     ---------------------------- ---------- 9.3/12.8 MB 168.5 kB/s eta 0:00:21\n",
      "     ---------------------------- ---------- 9.3/12.8 MB 168.5 kB/s eta 0:00:21\n",
      "     ---------------------------- ---------- 9.3/12.8 MB 168.5 kB/s eta 0:00:21\n",
      "     ---------------------------- ---------- 9.4/12.8 MB 168.5 kB/s eta 0:00:21\n",
      "     ---------------------------- ---------- 9.4/12.8 MB 168.5 kB/s eta 0:00:21\n",
      "     ---------------------------- ---------- 9.4/12.8 MB 168.4 kB/s eta 0:00:21\n",
      "     ---------------------------- ---------- 9.4/12.8 MB 168.4 kB/s eta 0:00:21\n",
      "     ---------------------------- ---------- 9.4/12.8 MB 168.5 kB/s eta 0:00:21\n",
      "     ---------------------------- ---------- 9.4/12.8 MB 168.5 kB/s eta 0:00:21\n",
      "     ---------------------------- ---------- 9.4/12.8 MB 168.7 kB/s eta 0:00:21\n",
      "     ---------------------------- ---------- 9.4/12.8 MB 168.7 kB/s eta 0:00:21\n",
      "     ---------------------------- ---------- 9.4/12.8 MB 168.7 kB/s eta 0:00:21\n",
      "     ---------------------------- ---------- 9.4/12.8 MB 168.0 kB/s eta 0:00:21\n",
      "     ---------------------------- ---------- 9.4/12.8 MB 168.0 kB/s eta 0:00:21\n",
      "     ---------------------------- ---------- 9.5/12.8 MB 168.1 kB/s eta 0:00:20\n",
      "     ---------------------------- ---------- 9.5/12.8 MB 168.1 kB/s eta 0:00:20\n",
      "     ---------------------------- ---------- 9.5/12.8 MB 167.9 kB/s eta 0:00:20\n",
      "     ---------------------------- ---------- 9.5/12.8 MB 168.5 kB/s eta 0:00:20\n",
      "     ---------------------------- ---------- 9.5/12.8 MB 168.5 kB/s eta 0:00:20\n",
      "     ---------------------------- ---------- 9.5/12.8 MB 168.5 kB/s eta 0:00:20\n",
      "     ---------------------------- ---------- 9.5/12.8 MB 168.0 kB/s eta 0:00:20\n",
      "     ---------------------------- ---------- 9.5/12.8 MB 168.0 kB/s eta 0:00:20\n",
      "     ---------------------------- ---------- 9.5/12.8 MB 168.2 kB/s eta 0:00:20\n",
      "     ---------------------------- ---------- 9.5/12.8 MB 168.2 kB/s eta 0:00:20\n",
      "     ----------------------------- --------- 9.5/12.8 MB 168.5 kB/s eta 0:00:20\n",
      "     ----------------------------- --------- 9.5/12.8 MB 168.4 kB/s eta 0:00:20\n",
      "     ----------------------------- --------- 9.5/12.8 MB 168.4 kB/s eta 0:00:20\n",
      "     ----------------------------- --------- 9.5/12.8 MB 168.4 kB/s eta 0:00:20\n",
      "     ----------------------------- --------- 9.5/12.8 MB 168.4 kB/s eta 0:00:20\n",
      "     ----------------------------- --------- 9.6/12.8 MB 168.2 kB/s eta 0:00:20\n",
      "     ----------------------------- --------- 9.6/12.8 MB 168.6 kB/s eta 0:00:20\n",
      "     ----------------------------- --------- 9.6/12.8 MB 168.6 kB/s eta 0:00:20\n",
      "     ----------------------------- --------- 9.6/12.8 MB 168.5 kB/s eta 0:00:20\n",
      "     ----------------------------- --------- 9.6/12.8 MB 168.5 kB/s eta 0:00:20\n",
      "     ----------------------------- --------- 9.6/12.8 MB 168.5 kB/s eta 0:00:20\n",
      "     ----------------------------- --------- 9.6/12.8 MB 168.3 kB/s eta 0:00:19\n",
      "     ----------------------------- --------- 9.6/12.8 MB 168.3 kB/s eta 0:00:19\n",
      "     ----------------------------- --------- 9.6/12.8 MB 167.8 kB/s eta 0:00:19\n",
      "     ----------------------------- --------- 9.6/12.8 MB 167.8 kB/s eta 0:00:19\n",
      "     ----------------------------- --------- 9.6/12.8 MB 168.4 kB/s eta 0:00:19\n",
      "     ----------------------------- --------- 9.7/12.8 MB 168.6 kB/s eta 0:00:19\n",
      "     ----------------------------- --------- 9.7/12.8 MB 168.6 kB/s eta 0:00:19\n",
      "     ----------------------------- --------- 9.7/12.8 MB 168.1 kB/s eta 0:00:19\n",
      "     ----------------------------- --------- 9.7/12.8 MB 168.1 kB/s eta 0:00:19\n",
      "     ----------------------------- --------- 9.7/12.8 MB 168.3 kB/s eta 0:00:19\n",
      "     ----------------------------- --------- 9.7/12.8 MB 168.3 kB/s eta 0:00:19\n",
      "     ----------------------------- --------- 9.7/12.8 MB 168.2 kB/s eta 0:00:19\n",
      "     ----------------------------- --------- 9.7/12.8 MB 168.2 kB/s eta 0:00:19\n",
      "     ----------------------------- --------- 9.7/12.8 MB 168.5 kB/s eta 0:00:19\n",
      "     ----------------------------- --------- 9.7/12.8 MB 168.5 kB/s eta 0:00:19\n",
      "     ----------------------------- --------- 9.7/12.8 MB 168.5 kB/s eta 0:00:19\n",
      "     ----------------------------- --------- 9.7/12.8 MB 168.2 kB/s eta 0:00:19\n",
      "     ----------------------------- --------- 9.8/12.8 MB 168.2 kB/s eta 0:00:19\n",
      "     ----------------------------- --------- 9.8/12.8 MB 168.2 kB/s eta 0:00:19\n",
      "     ----------------------------- --------- 9.8/12.8 MB 168.5 kB/s eta 0:00:18\n",
      "     ----------------------------- --------- 9.8/12.8 MB 168.5 kB/s eta 0:00:18\n",
      "     ----------------------------- --------- 9.8/12.8 MB 168.5 kB/s eta 0:00:18\n",
      "     ----------------------------- --------- 9.8/12.8 MB 168.5 kB/s eta 0:00:18\n",
      "     ----------------------------- --------- 9.8/12.8 MB 168.3 kB/s eta 0:00:18\n",
      "     ----------------------------- --------- 9.8/12.8 MB 168.3 kB/s eta 0:00:18\n",
      "     ----------------------------- --------- 9.8/12.8 MB 168.5 kB/s eta 0:00:18\n",
      "     ----------------------------- --------- 9.8/12.8 MB 168.5 kB/s eta 0:00:18\n",
      "     ----------------------------- --------- 9.8/12.8 MB 168.5 kB/s eta 0:00:18\n",
      "     ----------------------------- --------- 9.8/12.8 MB 168.5 kB/s eta 0:00:18\n",
      "     ------------------------------ -------- 9.9/12.8 MB 168.6 kB/s eta 0:00:18\n",
      "     ------------------------------ -------- 9.9/12.8 MB 168.6 kB/s eta 0:00:18\n",
      "     ------------------------------ -------- 9.9/12.8 MB 168.6 kB/s eta 0:00:18\n",
      "     ------------------------------ -------- 9.9/12.8 MB 167.8 kB/s eta 0:00:18\n",
      "     ------------------------------ -------- 9.9/12.8 MB 168.1 kB/s eta 0:00:18\n",
      "     ------------------------------ -------- 9.9/12.8 MB 168.1 kB/s eta 0:00:18\n",
      "     ------------------------------ -------- 9.9/12.8 MB 168.5 kB/s eta 0:00:18\n",
      "     ------------------------------ -------- 9.9/12.8 MB 168.5 kB/s eta 0:00:18\n",
      "     ------------------------------ -------- 9.9/12.8 MB 168.5 kB/s eta 0:00:18\n",
      "     ------------------------------ -------- 9.9/12.8 MB 168.5 kB/s eta 0:00:18\n",
      "     ------------------------------ -------- 9.9/12.8 MB 168.5 kB/s eta 0:00:18\n",
      "     ------------------------------ -------- 9.9/12.8 MB 168.3 kB/s eta 0:00:17\n",
      "     ------------------------------ -------- 9.9/12.8 MB 168.3 kB/s eta 0:00:17\n",
      "     ----------------------------- -------- 10.0/12.8 MB 168.2 kB/s eta 0:00:17\n",
      "     ----------------------------- -------- 10.0/12.8 MB 168.5 kB/s eta 0:00:17\n",
      "     ----------------------------- -------- 10.0/12.8 MB 168.5 kB/s eta 0:00:17\n",
      "     ----------------------------- -------- 10.0/12.8 MB 168.5 kB/s eta 0:00:17\n",
      "     ----------------------------- -------- 10.0/12.8 MB 168.6 kB/s eta 0:00:17\n",
      "     ----------------------------- -------- 10.0/12.8 MB 168.6 kB/s eta 0:00:17\n",
      "     ----------------------------- -------- 10.0/12.8 MB 168.3 kB/s eta 0:00:17\n",
      "     ----------------------------- -------- 10.0/12.8 MB 168.7 kB/s eta 0:00:17\n",
      "     ----------------------------- -------- 10.0/12.8 MB 168.7 kB/s eta 0:00:17\n",
      "     ----------------------------- -------- 10.0/12.8 MB 168.6 kB/s eta 0:00:17\n",
      "     ----------------------------- -------- 10.0/12.8 MB 168.6 kB/s eta 0:00:17\n",
      "     ----------------------------- -------- 10.0/12.8 MB 168.6 kB/s eta 0:00:17\n",
      "     ----------------------------- -------- 10.1/12.8 MB 168.3 kB/s eta 0:00:17\n",
      "     ----------------------------- -------- 10.1/12.8 MB 168.3 kB/s eta 0:00:17\n",
      "     ----------------------------- -------- 10.1/12.8 MB 168.3 kB/s eta 0:00:17\n",
      "     ----------------------------- -------- 10.1/12.8 MB 168.5 kB/s eta 0:00:17\n",
      "     ----------------------------- -------- 10.1/12.8 MB 168.5 kB/s eta 0:00:17\n",
      "     ----------------------------- -------- 10.1/12.8 MB 168.5 kB/s eta 0:00:17\n",
      "     ----------------------------- -------- 10.1/12.8 MB 168.8 kB/s eta 0:00:16\n",
      "     ----------------------------- -------- 10.1/12.8 MB 168.8 kB/s eta 0:00:16\n",
      "     ----------------------------- -------- 10.1/12.8 MB 168.8 kB/s eta 0:00:16\n",
      "     ------------------------------ ------- 10.1/12.8 MB 168.0 kB/s eta 0:00:16\n",
      "     ------------------------------ ------- 10.1/12.8 MB 168.0 kB/s eta 0:00:16\n",
      "     ------------------------------ ------- 10.1/12.8 MB 168.3 kB/s eta 0:00:16\n",
      "     ------------------------------ ------- 10.1/12.8 MB 168.3 kB/s eta 0:00:16\n",
      "     ------------------------------ ------- 10.2/12.8 MB 168.9 kB/s eta 0:00:16\n",
      "     ------------------------------ ------- 10.2/12.8 MB 168.9 kB/s eta 0:00:16\n",
      "     ------------------------------ ------- 10.2/12.8 MB 169.2 kB/s eta 0:00:16\n",
      "     ------------------------------ ------- 10.2/12.8 MB 169.2 kB/s eta 0:00:16\n",
      "     ------------------------------ ------- 10.2/12.8 MB 169.2 kB/s eta 0:00:16\n",
      "     ------------------------------ ------- 10.2/12.8 MB 169.2 kB/s eta 0:00:16\n",
      "     ------------------------------ ------- 10.2/12.8 MB 169.5 kB/s eta 0:00:16\n",
      "     ------------------------------ ------- 10.2/12.8 MB 169.5 kB/s eta 0:00:16\n",
      "     ------------------------------ ------- 10.2/12.8 MB 169.7 kB/s eta 0:00:16\n",
      "     ------------------------------ ------- 10.2/12.8 MB 169.7 kB/s eta 0:00:16\n",
      "     ------------------------------ ------- 10.2/12.8 MB 169.5 kB/s eta 0:00:16\n",
      "     ------------------------------ ------- 10.2/12.8 MB 169.5 kB/s eta 0:00:16\n",
      "     ------------------------------ ------- 10.3/12.8 MB 169.3 kB/s eta 0:00:16\n",
      "     ------------------------------ ------- 10.3/12.8 MB 169.3 kB/s eta 0:00:16\n",
      "     ------------------------------ ------- 10.3/12.8 MB 169.4 kB/s eta 0:00:15\n",
      "     ------------------------------ ------- 10.3/12.8 MB 169.4 kB/s eta 0:00:15\n",
      "     ------------------------------ ------- 10.3/12.8 MB 169.3 kB/s eta 0:00:15\n",
      "     ------------------------------ ------- 10.3/12.8 MB 169.3 kB/s eta 0:00:15\n",
      "     ------------------------------ ------- 10.3/12.8 MB 169.3 kB/s eta 0:00:15\n",
      "     ------------------------------ ------- 10.3/12.8 MB 169.3 kB/s eta 0:00:15\n",
      "     ------------------------------ ------- 10.3/12.8 MB 169.3 kB/s eta 0:00:15\n",
      "     ------------------------------ ------- 10.3/12.8 MB 168.5 kB/s eta 0:00:15\n",
      "     ------------------------------ ------- 10.3/12.8 MB 168.5 kB/s eta 0:00:15\n",
      "     ------------------------------ ------- 10.3/12.8 MB 168.5 kB/s eta 0:00:15\n",
      "     ------------------------------ ------- 10.3/12.8 MB 168.5 kB/s eta 0:00:15\n",
      "     ------------------------------ ------- 10.3/12.8 MB 168.5 kB/s eta 0:00:15\n",
      "     ------------------------------ ------- 10.3/12.8 MB 168.5 kB/s eta 0:00:15\n",
      "     ------------------------------ ------- 10.3/12.8 MB 167.7 kB/s eta 0:00:15\n",
      "     ------------------------------ ------- 10.3/12.8 MB 167.7 kB/s eta 0:00:15\n",
      "     ------------------------------ ------- 10.3/12.8 MB 167.3 kB/s eta 0:00:15\n",
      "     ------------------------------ ------- 10.3/12.8 MB 167.3 kB/s eta 0:00:15\n",
      "     ------------------------------ ------- 10.4/12.8 MB 167.7 kB/s eta 0:00:15\n",
      "     ------------------------------ ------- 10.4/12.8 MB 167.7 kB/s eta 0:00:15\n",
      "     ------------------------------ ------- 10.4/12.8 MB 167.7 kB/s eta 0:00:15\n",
      "     ------------------------------ ------- 10.4/12.8 MB 166.8 kB/s eta 0:00:15\n",
      "     ------------------------------ ------- 10.4/12.8 MB 166.8 kB/s eta 0:00:15\n",
      "     ------------------------------ ------- 10.4/12.8 MB 167.3 kB/s eta 0:00:15\n",
      "     ------------------------------ ------- 10.4/12.8 MB 167.7 kB/s eta 0:00:15\n",
      "     ------------------------------ ------- 10.4/12.8 MB 167.7 kB/s eta 0:00:15\n",
      "     ------------------------------ ------- 10.4/12.8 MB 167.7 kB/s eta 0:00:15\n",
      "     ------------------------------ ------- 10.4/12.8 MB 167.7 kB/s eta 0:00:15\n",
      "     ------------------------------ ------- 10.4/12.8 MB 166.7 kB/s eta 0:00:15\n",
      "     ------------------------------ ------- 10.4/12.8 MB 166.7 kB/s eta 0:00:15\n",
      "     ------------------------------ ------- 10.4/12.8 MB 166.7 kB/s eta 0:00:15\n",
      "     ------------------------------ ------- 10.4/12.8 MB 166.6 kB/s eta 0:00:15\n",
      "     ------------------------------ ------- 10.4/12.8 MB 166.6 kB/s eta 0:00:15\n",
      "     ------------------------------ ------- 10.4/12.8 MB 166.6 kB/s eta 0:00:15\n",
      "     ------------------------------ ------- 10.4/12.8 MB 166.6 kB/s eta 0:00:15\n",
      "     ------------------------------ ------- 10.4/12.8 MB 166.6 kB/s eta 0:00:15\n",
      "     ------------------------------- ------ 10.5/12.8 MB 166.3 kB/s eta 0:00:15\n",
      "     ------------------------------- ------ 10.5/12.8 MB 166.3 kB/s eta 0:00:15\n",
      "     ------------------------------- ------ 10.5/12.8 MB 166.3 kB/s eta 0:00:14\n",
      "     ------------------------------- ------ 10.5/12.8 MB 166.3 kB/s eta 0:00:14\n",
      "     ------------------------------- ------ 10.5/12.8 MB 166.3 kB/s eta 0:00:14\n",
      "     ------------------------------- ------ 10.5/12.8 MB 166.2 kB/s eta 0:00:14\n",
      "     ------------------------------- ------ 10.5/12.8 MB 166.2 kB/s eta 0:00:14\n",
      "     ------------------------------- ------ 10.5/12.8 MB 166.5 kB/s eta 0:00:14\n",
      "     ------------------------------- ------ 10.5/12.8 MB 166.5 kB/s eta 0:00:14\n",
      "     ------------------------------- ------ 10.5/12.8 MB 166.5 kB/s eta 0:00:14\n",
      "     ------------------------------- ------ 10.5/12.8 MB 166.5 kB/s eta 0:00:14\n",
      "     ------------------------------- ------ 10.5/12.8 MB 166.5 kB/s eta 0:00:14\n",
      "     ------------------------------- ------ 10.5/12.8 MB 166.5 kB/s eta 0:00:14\n",
      "     ------------------------------- ------ 10.5/12.8 MB 165.0 kB/s eta 0:00:14\n",
      "     ------------------------------- ------ 10.5/12.8 MB 165.0 kB/s eta 0:00:14\n",
      "     ------------------------------- ------ 10.5/12.8 MB 165.0 kB/s eta 0:00:14\n",
      "     ------------------------------- ------ 10.5/12.8 MB 165.0 kB/s eta 0:00:14\n",
      "     ------------------------------- ------ 10.5/12.8 MB 165.0 kB/s eta 0:00:14\n",
      "     ------------------------------- ------ 10.5/12.8 MB 165.0 kB/s eta 0:00:14\n",
      "     ------------------------------- ------ 10.5/12.8 MB 165.0 kB/s eta 0:00:14\n",
      "     ------------------------------- ------ 10.5/12.8 MB 165.0 kB/s eta 0:00:14\n",
      "     ------------------------------- ------ 10.5/12.8 MB 165.0 kB/s eta 0:00:14\n",
      "     ------------------------------- ------ 10.5/12.8 MB 163.2 kB/s eta 0:00:14\n",
      "     ------------------------------- ------ 10.5/12.8 MB 163.2 kB/s eta 0:00:14\n",
      "     ------------------------------- ------ 10.6/12.8 MB 163.2 kB/s eta 0:00:14\n",
      "     ------------------------------- ------ 10.6/12.8 MB 163.2 kB/s eta 0:00:14\n",
      "     ------------------------------- ------ 10.6/12.8 MB 162.8 kB/s eta 0:00:14\n",
      "     ------------------------------- ------ 10.6/12.8 MB 162.8 kB/s eta 0:00:14\n",
      "     ------------------------------- ------ 10.6/12.8 MB 162.8 kB/s eta 0:00:14\n",
      "     ------------------------------- ------ 10.6/12.8 MB 163.0 kB/s eta 0:00:14\n",
      "     ------------------------------- ------ 10.6/12.8 MB 163.0 kB/s eta 0:00:14\n",
      "     ------------------------------- ------ 10.6/12.8 MB 163.0 kB/s eta 0:00:14\n",
      "     ------------------------------- ------ 10.6/12.8 MB 163.0 kB/s eta 0:00:14\n",
      "     ------------------------------- ------ 10.6/12.8 MB 162.2 kB/s eta 0:00:14\n",
      "     ------------------------------- ------ 10.6/12.8 MB 162.2 kB/s eta 0:00:14\n",
      "     ------------------------------- ------ 10.6/12.8 MB 162.2 kB/s eta 0:00:14\n",
      "     ------------------------------- ------ 10.6/12.8 MB 162.3 kB/s eta 0:00:14\n",
      "     ------------------------------- ------ 10.6/12.8 MB 162.5 kB/s eta 0:00:14\n",
      "     ------------------------------- ------ 10.6/12.8 MB 162.5 kB/s eta 0:00:14\n",
      "     ------------------------------- ------ 10.6/12.8 MB 162.5 kB/s eta 0:00:14\n",
      "     ------------------------------- ------ 10.6/12.8 MB 162.5 kB/s eta 0:00:14\n",
      "     ------------------------------- ------ 10.7/12.8 MB 161.4 kB/s eta 0:00:14\n",
      "     ------------------------------- ------ 10.7/12.8 MB 161.4 kB/s eta 0:00:14\n",
      "     ------------------------------- ------ 10.7/12.8 MB 162.1 kB/s eta 0:00:14\n",
      "     ------------------------------- ------ 10.7/12.8 MB 162.1 kB/s eta 0:00:14\n",
      "     ------------------------------- ------ 10.7/12.8 MB 162.0 kB/s eta 0:00:14\n",
      "     ------------------------------- ------ 10.7/12.8 MB 162.0 kB/s eta 0:00:14\n",
      "     ------------------------------- ------ 10.7/12.8 MB 162.0 kB/s eta 0:00:14\n",
      "     ------------------------------- ------ 10.7/12.8 MB 162.0 kB/s eta 0:00:14\n",
      "     ------------------------------- ------ 10.7/12.8 MB 161.4 kB/s eta 0:00:13\n",
      "     ------------------------------- ------ 10.7/12.8 MB 161.4 kB/s eta 0:00:13\n",
      "     ------------------------------- ------ 10.7/12.8 MB 161.3 kB/s eta 0:00:13\n",
      "     ------------------------------- ------ 10.7/12.8 MB 161.3 kB/s eta 0:00:13\n",
      "     ------------------------------- ------ 10.7/12.8 MB 161.1 kB/s eta 0:00:13\n",
      "     ------------------------------- ------ 10.7/12.8 MB 161.1 kB/s eta 0:00:13\n",
      "     ------------------------------- ------ 10.7/12.8 MB 161.1 kB/s eta 0:00:13\n",
      "     ------------------------------- ------ 10.7/12.8 MB 161.1 kB/s eta 0:00:13\n",
      "     ------------------------------- ------ 10.8/12.8 MB 160.9 kB/s eta 0:00:13\n",
      "     ------------------------------- ------ 10.8/12.8 MB 160.9 kB/s eta 0:00:13\n",
      "     ------------------------------- ------ 10.8/12.8 MB 160.9 kB/s eta 0:00:13\n",
      "     ------------------------------- ------ 10.8/12.8 MB 160.6 kB/s eta 0:00:13\n",
      "     ------------------------------- ------ 10.8/12.8 MB 160.6 kB/s eta 0:00:13\n",
      "     ------------------------------- ------ 10.8/12.8 MB 160.6 kB/s eta 0:00:13\n",
      "     ------------------------------- ------ 10.8/12.8 MB 160.6 kB/s eta 0:00:13\n",
      "     ------------------------------- ------ 10.8/12.8 MB 160.6 kB/s eta 0:00:13\n",
      "     -------------------------------- ----- 10.8/12.8 MB 159.7 kB/s eta 0:00:13\n",
      "     -------------------------------- ----- 10.8/12.8 MB 159.7 kB/s eta 0:00:13\n",
      "     -------------------------------- ----- 10.8/12.8 MB 160.2 kB/s eta 0:00:13\n",
      "     -------------------------------- ----- 10.8/12.8 MB 160.2 kB/s eta 0:00:13\n",
      "     -------------------------------- ----- 10.8/12.8 MB 160.2 kB/s eta 0:00:13\n",
      "     -------------------------------- ----- 10.8/12.8 MB 160.2 kB/s eta 0:00:13\n",
      "     -------------------------------- ----- 10.8/12.8 MB 160.2 kB/s eta 0:00:13\n",
      "     -------------------------------- ----- 10.8/12.8 MB 159.2 kB/s eta 0:00:13\n",
      "     -------------------------------- ----- 10.8/12.8 MB 159.2 kB/s eta 0:00:13\n",
      "     -------------------------------- ----- 10.8/12.8 MB 159.2 kB/s eta 0:00:13\n",
      "     -------------------------------- ----- 10.8/12.8 MB 159.3 kB/s eta 0:00:13\n",
      "     -------------------------------- ----- 10.8/12.8 MB 159.3 kB/s eta 0:00:13\n",
      "     -------------------------------- ----- 10.8/12.8 MB 159.3 kB/s eta 0:00:13\n",
      "     -------------------------------- ----- 10.9/12.8 MB 158.5 kB/s eta 0:00:13\n",
      "     -------------------------------- ----- 10.9/12.8 MB 158.5 kB/s eta 0:00:13\n",
      "     -------------------------------- ----- 10.9/12.8 MB 158.5 kB/s eta 0:00:13\n",
      "     -------------------------------- ----- 10.9/12.8 MB 158.2 kB/s eta 0:00:13\n",
      "     -------------------------------- ----- 10.9/12.8 MB 158.2 kB/s eta 0:00:13\n",
      "     -------------------------------- ----- 10.9/12.8 MB 158.2 kB/s eta 0:00:13\n",
      "     -------------------------------- ----- 10.9/12.8 MB 158.4 kB/s eta 0:00:13\n",
      "     -------------------------------- ----- 10.9/12.8 MB 158.4 kB/s eta 0:00:12\n",
      "     -------------------------------- ----- 10.9/12.8 MB 158.4 kB/s eta 0:00:12\n",
      "     -------------------------------- ----- 10.9/12.8 MB 158.4 kB/s eta 0:00:12\n",
      "     -------------------------------- ----- 10.9/12.8 MB 158.4 kB/s eta 0:00:12\n",
      "     -------------------------------- ----- 10.9/12.8 MB 158.0 kB/s eta 0:00:12\n",
      "     -------------------------------- ----- 10.9/12.8 MB 158.0 kB/s eta 0:00:12\n",
      "     -------------------------------- ----- 10.9/12.8 MB 157.9 kB/s eta 0:00:12\n",
      "     -------------------------------- ----- 11.0/12.8 MB 158.2 kB/s eta 0:00:12\n",
      "     -------------------------------- ----- 11.0/12.8 MB 158.2 kB/s eta 0:00:12\n",
      "     -------------------------------- ----- 11.0/12.8 MB 158.2 kB/s eta 0:00:12\n",
      "     -------------------------------- ----- 11.0/12.8 MB 158.2 kB/s eta 0:00:12\n",
      "     -------------------------------- ----- 11.0/12.8 MB 157.8 kB/s eta 0:00:12\n",
      "     -------------------------------- ----- 11.0/12.8 MB 157.8 kB/s eta 0:00:12\n",
      "     -------------------------------- ----- 11.0/12.8 MB 157.8 kB/s eta 0:00:12\n",
      "     -------------------------------- ----- 11.0/12.8 MB 158.2 kB/s eta 0:00:12\n",
      "     -------------------------------- ----- 11.0/12.8 MB 158.2 kB/s eta 0:00:12\n",
      "     -------------------------------- ----- 11.0/12.8 MB 158.2 kB/s eta 0:00:12\n",
      "     -------------------------------- ----- 11.0/12.8 MB 158.2 kB/s eta 0:00:12\n",
      "     -------------------------------- ----- 11.0/12.8 MB 158.2 kB/s eta 0:00:12\n",
      "     -------------------------------- ----- 11.0/12.8 MB 156.8 kB/s eta 0:00:12\n",
      "     -------------------------------- ----- 11.0/12.8 MB 156.8 kB/s eta 0:00:12\n",
      "     -------------------------------- ----- 11.0/12.8 MB 157.3 kB/s eta 0:00:12\n",
      "     -------------------------------- ----- 11.0/12.8 MB 157.3 kB/s eta 0:00:12\n",
      "     -------------------------------- ----- 11.0/12.8 MB 157.3 kB/s eta 0:00:12\n",
      "     -------------------------------- ----- 11.1/12.8 MB 157.0 kB/s eta 0:00:12\n",
      "     -------------------------------- ----- 11.1/12.8 MB 157.0 kB/s eta 0:00:12\n",
      "     -------------------------------- ----- 11.1/12.8 MB 157.0 kB/s eta 0:00:12\n",
      "     -------------------------------- ----- 11.1/12.8 MB 157.0 kB/s eta 0:00:12\n",
      "     -------------------------------- ----- 11.1/12.8 MB 157.0 kB/s eta 0:00:12\n",
      "     -------------------------------- ----- 11.1/12.8 MB 157.0 kB/s eta 0:00:12\n",
      "     -------------------------------- ----- 11.1/12.8 MB 157.0 kB/s eta 0:00:12\n",
      "     -------------------------------- ----- 11.1/12.8 MB 155.6 kB/s eta 0:00:12\n",
      "     -------------------------------- ----- 11.1/12.8 MB 155.6 kB/s eta 0:00:12\n",
      "     -------------------------------- ----- 11.1/12.8 MB 155.6 kB/s eta 0:00:12\n",
      "     -------------------------------- ----- 11.1/12.8 MB 155.6 kB/s eta 0:00:12\n",
      "     -------------------------------- ----- 11.1/12.8 MB 155.6 kB/s eta 0:00:12\n",
      "     -------------------------------- ----- 11.1/12.8 MB 155.6 kB/s eta 0:00:12\n",
      "     -------------------------------- ----- 11.1/12.8 MB 155.6 kB/s eta 0:00:12\n",
      "     -------------------------------- ----- 11.1/12.8 MB 155.6 kB/s eta 0:00:12\n",
      "     -------------------------------- ----- 11.1/12.8 MB 154.1 kB/s eta 0:00:12\n",
      "     -------------------------------- ----- 11.1/12.8 MB 154.1 kB/s eta 0:00:12\n",
      "     -------------------------------- ----- 11.1/12.8 MB 154.1 kB/s eta 0:00:12\n",
      "     -------------------------------- ----- 11.1/12.8 MB 154.1 kB/s eta 0:00:12\n",
      "     -------------------------------- ----- 11.1/12.8 MB 153.1 kB/s eta 0:00:12\n",
      "     -------------------------------- ----- 11.1/12.8 MB 153.1 kB/s eta 0:00:12\n",
      "     --------------------------------- ---- 11.1/12.8 MB 153.7 kB/s eta 0:00:11\n",
      "     --------------------------------- ---- 11.1/12.8 MB 153.7 kB/s eta 0:00:11\n",
      "     --------------------------------- ---- 11.1/12.8 MB 153.7 kB/s eta 0:00:11\n",
      "     --------------------------------- ---- 11.1/12.8 MB 153.7 kB/s eta 0:00:11\n",
      "     --------------------------------- ---- 11.1/12.8 MB 152.9 kB/s eta 0:00:11\n",
      "     --------------------------------- ---- 11.1/12.8 MB 152.9 kB/s eta 0:00:11\n",
      "     --------------------------------- ---- 11.1/12.8 MB 152.9 kB/s eta 0:00:11\n",
      "     --------------------------------- ---- 11.2/12.8 MB 152.7 kB/s eta 0:00:11\n",
      "     --------------------------------- ---- 11.2/12.8 MB 153.0 kB/s eta 0:00:11\n",
      "     --------------------------------- ---- 11.2/12.8 MB 153.0 kB/s eta 0:00:11\n",
      "     --------------------------------- ---- 11.2/12.8 MB 153.0 kB/s eta 0:00:11\n",
      "     --------------------------------- ---- 11.2/12.8 MB 153.0 kB/s eta 0:00:11\n",
      "     --------------------------------- ---- 11.2/12.8 MB 152.3 kB/s eta 0:00:11\n",
      "     --------------------------------- ---- 11.2/12.8 MB 152.3 kB/s eta 0:00:11\n",
      "     --------------------------------- ---- 11.2/12.8 MB 152.3 kB/s eta 0:00:11\n",
      "     --------------------------------- ---- 11.2/12.8 MB 152.3 kB/s eta 0:00:11\n",
      "     --------------------------------- ---- 11.2/12.8 MB 152.1 kB/s eta 0:00:11\n",
      "     --------------------------------- ---- 11.2/12.8 MB 152.1 kB/s eta 0:00:11\n",
      "     --------------------------------- ---- 11.2/12.8 MB 152.3 kB/s eta 0:00:11\n",
      "     --------------------------------- ---- 11.2/12.8 MB 152.3 kB/s eta 0:00:11\n",
      "     --------------------------------- ---- 11.2/12.8 MB 152.3 kB/s eta 0:00:11\n",
      "     --------------------------------- ---- 11.2/12.8 MB 151.6 kB/s eta 0:00:11\n",
      "     --------------------------------- ---- 11.2/12.8 MB 151.6 kB/s eta 0:00:11\n",
      "     --------------------------------- ---- 11.2/12.8 MB 151.6 kB/s eta 0:00:11\n",
      "     --------------------------------- ---- 11.3/12.8 MB 151.6 kB/s eta 0:00:11\n",
      "     --------------------------------- ---- 11.3/12.8 MB 151.6 kB/s eta 0:00:11\n",
      "     --------------------------------- ---- 11.3/12.8 MB 151.3 kB/s eta 0:00:11\n",
      "     --------------------------------- ---- 11.3/12.8 MB 151.3 kB/s eta 0:00:11\n",
      "     --------------------------------- ---- 11.3/12.8 MB 151.3 kB/s eta 0:00:11\n",
      "     --------------------------------- ---- 11.3/12.8 MB 151.3 kB/s eta 0:00:11\n",
      "     --------------------------------- ---- 11.3/12.8 MB 151.3 kB/s eta 0:00:11\n",
      "     --------------------------------- ---- 11.3/12.8 MB 151.6 kB/s eta 0:00:11\n",
      "     --------------------------------- ---- 11.3/12.8 MB 151.8 kB/s eta 0:00:10\n",
      "     --------------------------------- ---- 11.3/12.8 MB 151.8 kB/s eta 0:00:10\n",
      "     --------------------------------- ---- 11.3/12.8 MB 151.8 kB/s eta 0:00:10\n",
      "     --------------------------------- ---- 11.3/12.8 MB 151.8 kB/s eta 0:00:10\n",
      "     --------------------------------- ---- 11.3/12.8 MB 151.1 kB/s eta 0:00:10\n",
      "     --------------------------------- ---- 11.3/12.8 MB 151.1 kB/s eta 0:00:10\n",
      "     --------------------------------- ---- 11.3/12.8 MB 151.2 kB/s eta 0:00:10\n",
      "     --------------------------------- ---- 11.3/12.8 MB 151.2 kB/s eta 0:00:10\n",
      "     --------------------------------- ---- 11.3/12.8 MB 151.3 kB/s eta 0:00:10\n",
      "     --------------------------------- ---- 11.3/12.8 MB 151.3 kB/s eta 0:00:10\n",
      "     --------------------------------- ---- 11.3/12.8 MB 151.3 kB/s eta 0:00:10\n",
      "     --------------------------------- ---- 11.3/12.8 MB 151.3 kB/s eta 0:00:10\n",
      "     --------------------------------- ---- 11.4/12.8 MB 150.8 kB/s eta 0:00:10\n",
      "     --------------------------------- ---- 11.4/12.8 MB 150.8 kB/s eta 0:00:10\n",
      "     --------------------------------- ---- 11.4/12.8 MB 150.8 kB/s eta 0:00:10\n",
      "     --------------------------------- ---- 11.4/12.8 MB 150.8 kB/s eta 0:00:10\n",
      "     --------------------------------- ---- 11.4/12.8 MB 150.4 kB/s eta 0:00:10\n",
      "     --------------------------------- ---- 11.4/12.8 MB 150.4 kB/s eta 0:00:10\n",
      "     --------------------------------- ---- 11.4/12.8 MB 150.4 kB/s eta 0:00:10\n",
      "     --------------------------------- ---- 11.4/12.8 MB 150.4 kB/s eta 0:00:10\n",
      "     --------------------------------- ---- 11.4/12.8 MB 150.4 kB/s eta 0:00:10\n",
      "     --------------------------------- ---- 11.4/12.8 MB 150.0 kB/s eta 0:00:10\n",
      "     --------------------------------- ---- 11.4/12.8 MB 150.0 kB/s eta 0:00:10\n",
      "     --------------------------------- ---- 11.4/12.8 MB 149.7 kB/s eta 0:00:10\n",
      "     --------------------------------- ---- 11.4/12.8 MB 149.7 kB/s eta 0:00:10\n",
      "     --------------------------------- ---- 11.4/12.8 MB 149.7 kB/s eta 0:00:10\n",
      "     --------------------------------- ---- 11.4/12.8 MB 149.8 kB/s eta 0:00:10\n",
      "     --------------------------------- ---- 11.4/12.8 MB 149.8 kB/s eta 0:00:10\n",
      "     --------------------------------- ---- 11.4/12.8 MB 149.8 kB/s eta 0:00:10\n",
      "     ---------------------------------- --- 11.5/12.8 MB 149.0 kB/s eta 0:00:09\n",
      "     ---------------------------------- --- 11.5/12.8 MB 149.0 kB/s eta 0:00:09\n",
      "     ---------------------------------- --- 11.5/12.8 MB 149.5 kB/s eta 0:00:09\n",
      "     ---------------------------------- --- 11.5/12.8 MB 149.5 kB/s eta 0:00:09\n",
      "     ---------------------------------- --- 11.5/12.8 MB 149.5 kB/s eta 0:00:09\n",
      "     ---------------------------------- --- 11.5/12.8 MB 149.6 kB/s eta 0:00:09\n",
      "     ---------------------------------- --- 11.5/12.8 MB 149.6 kB/s eta 0:00:09\n",
      "     ---------------------------------- --- 11.5/12.8 MB 149.6 kB/s eta 0:00:09\n",
      "     ---------------------------------- --- 11.5/12.8 MB 148.6 kB/s eta 0:00:09\n",
      "     ---------------------------------- --- 11.5/12.8 MB 148.6 kB/s eta 0:00:09\n",
      "     ---------------------------------- --- 11.5/12.8 MB 149.2 kB/s eta 0:00:09\n",
      "     ---------------------------------- --- 11.5/12.8 MB 149.2 kB/s eta 0:00:09\n",
      "     ---------------------------------- --- 11.6/12.8 MB 149.0 kB/s eta 0:00:09\n",
      "     ---------------------------------- --- 11.6/12.8 MB 149.0 kB/s eta 0:00:09\n",
      "     ---------------------------------- --- 11.6/12.8 MB 149.0 kB/s eta 0:00:09\n",
      "     ---------------------------------- --- 11.6/12.8 MB 148.5 kB/s eta 0:00:09\n",
      "     ---------------------------------- --- 11.6/12.8 MB 148.5 kB/s eta 0:00:09\n",
      "     ---------------------------------- --- 11.6/12.8 MB 148.8 kB/s eta 0:00:09\n",
      "     ---------------------------------- --- 11.6/12.8 MB 148.8 kB/s eta 0:00:09\n",
      "     ---------------------------------- --- 11.6/12.8 MB 148.8 kB/s eta 0:00:09\n",
      "     ---------------------------------- --- 11.6/12.8 MB 148.5 kB/s eta 0:00:09\n",
      "     ---------------------------------- --- 11.6/12.8 MB 148.5 kB/s eta 0:00:09\n",
      "     ---------------------------------- --- 11.6/12.8 MB 148.5 kB/s eta 0:00:09\n",
      "     ---------------------------------- --- 11.6/12.8 MB 148.1 kB/s eta 0:00:09\n",
      "     ---------------------------------- --- 11.6/12.8 MB 148.1 kB/s eta 0:00:09\n",
      "     ---------------------------------- --- 11.6/12.8 MB 148.1 kB/s eta 0:00:09\n",
      "     ---------------------------------- --- 11.6/12.8 MB 148.2 kB/s eta 0:00:08\n",
      "     ---------------------------------- --- 11.6/12.8 MB 148.2 kB/s eta 0:00:08\n",
      "     ---------------------------------- --- 11.6/12.8 MB 147.8 kB/s eta 0:00:08\n",
      "     ---------------------------------- --- 11.6/12.8 MB 147.8 kB/s eta 0:00:08\n",
      "     ---------------------------------- --- 11.7/12.8 MB 147.9 kB/s eta 0:00:08\n",
      "     ---------------------------------- --- 11.7/12.8 MB 147.9 kB/s eta 0:00:08\n",
      "     ---------------------------------- --- 11.7/12.8 MB 147.9 kB/s eta 0:00:08\n",
      "     ---------------------------------- --- 11.7/12.8 MB 147.5 kB/s eta 0:00:08\n",
      "     ---------------------------------- --- 11.7/12.8 MB 147.5 kB/s eta 0:00:08\n",
      "     ---------------------------------- --- 11.7/12.8 MB 147.9 kB/s eta 0:00:08\n",
      "     ---------------------------------- --- 11.7/12.8 MB 147.9 kB/s eta 0:00:08\n",
      "     ---------------------------------- --- 11.7/12.8 MB 147.9 kB/s eta 0:00:08\n",
      "     ---------------------------------- --- 11.7/12.8 MB 147.3 kB/s eta 0:00:08\n",
      "     ---------------------------------- --- 11.7/12.8 MB 147.3 kB/s eta 0:00:08\n",
      "     ---------------------------------- --- 11.7/12.8 MB 147.3 kB/s eta 0:00:08\n",
      "     ---------------------------------- --- 11.7/12.8 MB 147.3 kB/s eta 0:00:08\n",
      "     ---------------------------------- --- 11.7/12.8 MB 147.6 kB/s eta 0:00:08\n",
      "     ---------------------------------- --- 11.7/12.8 MB 147.6 kB/s eta 0:00:08\n",
      "     ---------------------------------- --- 11.7/12.8 MB 147.6 kB/s eta 0:00:08\n",
      "     ---------------------------------- --- 11.7/12.8 MB 147.6 kB/s eta 0:00:08\n",
      "     ---------------------------------- --- 11.7/12.8 MB 147.6 kB/s eta 0:00:08\n",
      "     ---------------------------------- --- 11.8/12.8 MB 146.7 kB/s eta 0:00:08\n",
      "     ---------------------------------- --- 11.8/12.8 MB 146.9 kB/s eta 0:00:07\n",
      "     ---------------------------------- --- 11.8/12.8 MB 146.9 kB/s eta 0:00:07\n",
      "     ---------------------------------- --- 11.8/12.8 MB 146.9 kB/s eta 0:00:07\n",
      "     ---------------------------------- --- 11.8/12.8 MB 146.9 kB/s eta 0:00:07\n",
      "     ----------------------------------- -- 11.8/12.8 MB 146.9 kB/s eta 0:00:07\n",
      "     ----------------------------------- -- 11.8/12.8 MB 146.9 kB/s eta 0:00:07\n",
      "     ----------------------------------- -- 11.8/12.8 MB 146.2 kB/s eta 0:00:07\n",
      "     ----------------------------------- -- 11.8/12.8 MB 146.2 kB/s eta 0:00:07\n",
      "     ----------------------------------- -- 11.8/12.8 MB 146.6 kB/s eta 0:00:07\n",
      "     ----------------------------------- -- 11.8/12.8 MB 146.6 kB/s eta 0:00:07\n",
      "     ----------------------------------- -- 11.8/12.8 MB 146.6 kB/s eta 0:00:07\n",
      "     ----------------------------------- -- 11.8/12.8 MB 146.4 kB/s eta 0:00:07\n",
      "     ----------------------------------- -- 11.8/12.8 MB 146.4 kB/s eta 0:00:07\n",
      "     ----------------------------------- -- 11.8/12.8 MB 146.4 kB/s eta 0:00:07\n",
      "     ----------------------------------- -- 11.8/12.8 MB 146.4 kB/s eta 0:00:07\n",
      "     ----------------------------------- -- 11.9/12.8 MB 145.7 kB/s eta 0:00:07\n",
      "     ----------------------------------- -- 11.9/12.8 MB 145.7 kB/s eta 0:00:07\n",
      "     ----------------------------------- -- 11.9/12.8 MB 146.3 kB/s eta 0:00:07\n",
      "     ----------------------------------- -- 11.9/12.8 MB 146.2 kB/s eta 0:00:07\n",
      "     ----------------------------------- -- 11.9/12.8 MB 146.2 kB/s eta 0:00:07\n",
      "     ----------------------------------- -- 11.9/12.8 MB 146.2 kB/s eta 0:00:07\n",
      "     ----------------------------------- -- 11.9/12.8 MB 146.2 kB/s eta 0:00:07\n",
      "     ----------------------------------- -- 11.9/12.8 MB 146.2 kB/s eta 0:00:07\n",
      "     ----------------------------------- -- 11.9/12.8 MB 146.2 kB/s eta 0:00:07\n",
      "     ----------------------------------- -- 11.9/12.8 MB 145.9 kB/s eta 0:00:07\n",
      "     ----------------------------------- -- 11.9/12.8 MB 145.9 kB/s eta 0:00:07\n",
      "     ----------------------------------- -- 11.9/12.8 MB 146.3 kB/s eta 0:00:06\n",
      "     ----------------------------------- -- 11.9/12.8 MB 146.3 kB/s eta 0:00:06\n",
      "     ----------------------------------- -- 12.0/12.8 MB 146.2 kB/s eta 0:00:06\n",
      "     ----------------------------------- -- 12.0/12.8 MB 146.2 kB/s eta 0:00:06\n",
      "     ----------------------------------- -- 12.0/12.8 MB 146.2 kB/s eta 0:00:06\n",
      "     ----------------------------------- -- 12.0/12.8 MB 145.7 kB/s eta 0:00:06\n",
      "     ----------------------------------- -- 12.0/12.8 MB 145.7 kB/s eta 0:00:06\n",
      "     ----------------------------------- -- 12.0/12.8 MB 145.7 kB/s eta 0:00:06\n",
      "     ----------------------------------- -- 12.0/12.8 MB 145.6 kB/s eta 0:00:06\n",
      "     ----------------------------------- -- 12.0/12.8 MB 145.6 kB/s eta 0:00:06\n",
      "     ----------------------------------- -- 12.0/12.8 MB 145.6 kB/s eta 0:00:06\n",
      "     ----------------------------------- -- 12.0/12.8 MB 145.6 kB/s eta 0:00:06\n",
      "     ----------------------------------- -- 12.0/12.8 MB 145.0 kB/s eta 0:00:06\n",
      "     ----------------------------------- -- 12.0/12.8 MB 145.0 kB/s eta 0:00:06\n",
      "     ----------------------------------- -- 12.0/12.8 MB 145.5 kB/s eta 0:00:06\n",
      "     ----------------------------------- -- 12.0/12.8 MB 145.7 kB/s eta 0:00:06\n",
      "     ----------------------------------- -- 12.0/12.8 MB 145.7 kB/s eta 0:00:06\n",
      "     ----------------------------------- -- 12.0/12.8 MB 145.7 kB/s eta 0:00:06\n",
      "     ----------------------------------- -- 12.0/12.8 MB 145.7 kB/s eta 0:00:06\n",
      "     ----------------------------------- -- 12.0/12.8 MB 145.7 kB/s eta 0:00:06\n",
      "     ----------------------------------- -- 12.1/12.8 MB 144.6 kB/s eta 0:00:06\n",
      "     ----------------------------------- -- 12.1/12.8 MB 144.6 kB/s eta 0:00:06\n",
      "     ----------------------------------- -- 12.1/12.8 MB 144.8 kB/s eta 0:00:06\n",
      "     ----------------------------------- -- 12.1/12.8 MB 144.8 kB/s eta 0:00:06\n",
      "     ----------------------------------- -- 12.1/12.8 MB 144.7 kB/s eta 0:00:05\n",
      "     ----------------------------------- -- 12.1/12.8 MB 144.7 kB/s eta 0:00:05\n",
      "     ----------------------------------- -- 12.1/12.8 MB 144.7 kB/s eta 0:00:05\n",
      "     ----------------------------------- -- 12.1/12.8 MB 144.0 kB/s eta 0:00:05\n",
      "     ----------------------------------- -- 12.1/12.8 MB 144.0 kB/s eta 0:00:05\n",
      "     ----------------------------------- -- 12.1/12.8 MB 144.6 kB/s eta 0:00:05\n",
      "     ----------------------------------- -- 12.1/12.8 MB 144.6 kB/s eta 0:00:05\n",
      "     ----------------------------------- -- 12.1/12.8 MB 144.6 kB/s eta 0:00:05\n",
      "     ------------------------------------ - 12.1/12.8 MB 143.9 kB/s eta 0:00:05\n",
      "     ------------------------------------ - 12.1/12.8 MB 143.9 kB/s eta 0:00:05\n",
      "     ------------------------------------ - 12.1/12.8 MB 143.9 kB/s eta 0:00:05\n",
      "     ------------------------------------ - 12.2/12.8 MB 143.5 kB/s eta 0:00:05\n",
      "     ------------------------------------ - 12.2/12.8 MB 143.5 kB/s eta 0:00:05\n",
      "     ------------------------------------ - 12.2/12.8 MB 143.5 kB/s eta 0:00:05\n",
      "     ------------------------------------ - 12.2/12.8 MB 143.5 kB/s eta 0:00:05\n",
      "     ------------------------------------ - 12.2/12.8 MB 143.8 kB/s eta 0:00:05\n",
      "     ------------------------------------ - 12.2/12.8 MB 143.8 kB/s eta 0:00:05\n",
      "     ------------------------------------ - 12.2/12.8 MB 143.8 kB/s eta 0:00:05\n",
      "     ------------------------------------ - 12.2/12.8 MB 143.7 kB/s eta 0:00:05\n",
      "     ------------------------------------ - 12.2/12.8 MB 143.7 kB/s eta 0:00:05\n",
      "     ------------------------------------ - 12.2/12.8 MB 143.6 kB/s eta 0:00:05\n",
      "     ------------------------------------ - 12.2/12.8 MB 143.6 kB/s eta 0:00:05\n",
      "     ------------------------------------ - 12.2/12.8 MB 143.9 kB/s eta 0:00:04\n",
      "     ------------------------------------ - 12.2/12.8 MB 143.8 kB/s eta 0:00:04\n",
      "     ------------------------------------ - 12.2/12.8 MB 143.8 kB/s eta 0:00:04\n",
      "     ------------------------------------ - 12.2/12.8 MB 143.8 kB/s eta 0:00:04\n",
      "     ------------------------------------ - 12.3/12.8 MB 143.6 kB/s eta 0:00:04\n",
      "     ------------------------------------ - 12.3/12.8 MB 143.6 kB/s eta 0:00:04\n",
      "     ------------------------------------ - 12.3/12.8 MB 143.7 kB/s eta 0:00:04\n",
      "     ------------------------------------ - 12.3/12.8 MB 143.7 kB/s eta 0:00:04\n",
      "     ------------------------------------ - 12.3/12.8 MB 143.8 kB/s eta 0:00:04\n",
      "     ------------------------------------ - 12.3/12.8 MB 143.8 kB/s eta 0:00:04\n",
      "     ------------------------------------ - 12.3/12.8 MB 144.1 kB/s eta 0:00:04\n",
      "     ------------------------------------ - 12.3/12.8 MB 144.1 kB/s eta 0:00:04\n",
      "     ------------------------------------ - 12.3/12.8 MB 143.2 kB/s eta 0:00:04\n",
      "     ------------------------------------ - 12.3/12.8 MB 143.2 kB/s eta 0:00:04\n",
      "     ------------------------------------ - 12.3/12.8 MB 143.9 kB/s eta 0:00:04\n",
      "     ------------------------------------ - 12.3/12.8 MB 143.9 kB/s eta 0:00:04\n",
      "     ------------------------------------ - 12.4/12.8 MB 144.2 kB/s eta 0:00:04\n",
      "     ------------------------------------ - 12.4/12.8 MB 143.9 kB/s eta 0:00:03\n",
      "     ------------------------------------ - 12.4/12.8 MB 143.9 kB/s eta 0:00:03\n",
      "     ------------------------------------ - 12.4/12.8 MB 143.9 kB/s eta 0:00:03\n",
      "     ------------------------------------ - 12.4/12.8 MB 144.1 kB/s eta 0:00:03\n",
      "     ------------------------------------ - 12.4/12.8 MB 144.1 kB/s eta 0:00:03\n",
      "     ------------------------------------ - 12.4/12.8 MB 144.1 kB/s eta 0:00:03\n",
      "     ------------------------------------ - 12.4/12.8 MB 143.5 kB/s eta 0:00:03\n",
      "     ------------------------------------ - 12.4/12.8 MB 143.9 kB/s eta 0:00:03\n",
      "     ------------------------------------ - 12.4/12.8 MB 143.9 kB/s eta 0:00:03\n",
      "     ------------------------------------ - 12.5/12.8 MB 144.2 kB/s eta 0:00:03\n",
      "     ------------------------------------ - 12.5/12.8 MB 144.2 kB/s eta 0:00:03\n",
      "     ------------------------------------ - 12.5/12.8 MB 144.2 kB/s eta 0:00:03\n",
      "     ------------------------------------ - 12.5/12.8 MB 143.7 kB/s eta 0:00:03\n",
      "     -------------------------------------  12.5/12.8 MB 143.9 kB/s eta 0:00:03\n",
      "     -------------------------------------  12.5/12.8 MB 143.9 kB/s eta 0:00:03\n",
      "     -------------------------------------  12.5/12.8 MB 143.9 kB/s eta 0:00:03\n",
      "     -------------------------------------  12.5/12.8 MB 143.9 kB/s eta 0:00:03\n",
      "     -------------------------------------  12.5/12.8 MB 144.0 kB/s eta 0:00:03\n",
      "     -------------------------------------  12.5/12.8 MB 144.0 kB/s eta 0:00:03\n",
      "     -------------------------------------  12.5/12.8 MB 144.0 kB/s eta 0:00:03\n",
      "     -------------------------------------  12.5/12.8 MB 144.0 kB/s eta 0:00:03\n",
      "     -------------------------------------  12.5/12.8 MB 144.0 kB/s eta 0:00:03\n",
      "     -------------------------------------  12.5/12.8 MB 144.0 kB/s eta 0:00:03\n",
      "     -------------------------------------  12.5/12.8 MB 144.0 kB/s eta 0:00:03\n",
      "     -------------------------------------  12.5/12.8 MB 143.1 kB/s eta 0:00:02\n",
      "     -------------------------------------  12.5/12.8 MB 143.1 kB/s eta 0:00:02\n",
      "     -------------------------------------  12.5/12.8 MB 143.1 kB/s eta 0:00:02\n",
      "     -------------------------------------  12.5/12.8 MB 143.1 kB/s eta 0:00:02\n",
      "     -------------------------------------  12.5/12.8 MB 142.0 kB/s eta 0:00:02\n",
      "     -------------------------------------  12.6/12.8 MB 142.3 kB/s eta 0:00:02\n",
      "     -------------------------------------  12.6/12.8 MB 142.3 kB/s eta 0:00:02\n",
      "     -------------------------------------  12.6/12.8 MB 142.3 kB/s eta 0:00:02\n",
      "     -------------------------------------  12.6/12.8 MB 142.3 kB/s eta 0:00:02\n",
      "     -------------------------------------  12.6/12.8 MB 142.3 kB/s eta 0:00:02\n",
      "     -------------------------------------  12.6/12.8 MB 142.3 kB/s eta 0:00:02\n",
      "     -------------------------------------  12.6/12.8 MB 142.3 kB/s eta 0:00:02\n",
      "     -------------------------------------  12.6/12.8 MB 142.3 kB/s eta 0:00:02\n",
      "     -------------------------------------  12.6/12.8 MB 142.3 kB/s eta 0:00:02\n",
      "     -------------------------------------  12.6/12.8 MB 142.3 kB/s eta 0:00:02\n",
      "     -------------------------------------  12.6/12.8 MB 142.1 kB/s eta 0:00:02\n",
      "     -------------------------------------  12.6/12.8 MB 142.4 kB/s eta 0:00:02\n",
      "     -------------------------------------  12.6/12.8 MB 142.4 kB/s eta 0:00:02\n",
      "     -------------------------------------  12.6/12.8 MB 142.4 kB/s eta 0:00:02\n",
      "     -------------------------------------  12.7/12.8 MB 141.9 kB/s eta 0:00:02\n",
      "     -------------------------------------  12.7/12.8 MB 141.9 kB/s eta 0:00:02\n",
      "     -------------------------------------  12.7/12.8 MB 142.3 kB/s eta 0:00:01\n",
      "     -------------------------------------  12.7/12.8 MB 142.3 kB/s eta 0:00:01\n",
      "     -------------------------------------  12.7/12.8 MB 142.4 kB/s eta 0:00:01\n",
      "     -------------------------------------  12.7/12.8 MB 142.4 kB/s eta 0:00:01\n",
      "     -------------------------------------  12.7/12.8 MB 142.4 kB/s eta 0:00:01\n",
      "     -------------------------------------  12.7/12.8 MB 141.7 kB/s eta 0:00:01\n",
      "     -------------------------------------  12.7/12.8 MB 141.7 kB/s eta 0:00:01\n",
      "     -------------------------------------  12.7/12.8 MB 141.7 kB/s eta 0:00:01\n",
      "     -------------------------------------  12.7/12.8 MB 141.7 kB/s eta 0:00:01\n",
      "     -------------------------------------  12.7/12.8 MB 141.9 kB/s eta 0:00:01\n",
      "     -------------------------------------  12.7/12.8 MB 141.9 kB/s eta 0:00:01\n",
      "     -------------------------------------  12.8/12.8 MB 141.8 kB/s eta 0:00:01\n",
      "     -------------------------------------  12.8/12.8 MB 141.8 kB/s eta 0:00:01\n",
      "     -------------------------------------  12.8/12.8 MB 141.7 kB/s eta 0:00:01\n",
      "     -------------------------------------  12.8/12.8 MB 141.7 kB/s eta 0:00:01\n",
      "     -------------------------------------  12.8/12.8 MB 141.7 kB/s eta 0:00:01\n",
      "     -------------------------------------  12.8/12.8 MB 141.8 kB/s eta 0:00:01\n",
      "     -------------------------------------- 12.8/12.8 MB 141.9 kB/s eta 0:00:00\n",
      "Requirement already satisfied: spacy<3.8.0,>=3.7.2 in c:\\users\\gueid\\anaconda3\\envs\\tftextgenmodelexample\\lib\\site-packages (from en-core-web-sm==3.7.1) (3.7.4)\n",
      "Requirement already satisfied: spacy-legacy<3.1.0,>=3.0.11 in c:\\users\\gueid\\anaconda3\\envs\\tftextgenmodelexample\\lib\\site-packages (from spacy<3.8.0,>=3.7.2->en-core-web-sm==3.7.1) (3.0.12)\n",
      "Requirement already satisfied: spacy-loggers<2.0.0,>=1.0.0 in c:\\users\\gueid\\anaconda3\\envs\\tftextgenmodelexample\\lib\\site-packages (from spacy<3.8.0,>=3.7.2->en-core-web-sm==3.7.1) (1.0.5)\n",
      "Requirement already satisfied: murmurhash<1.1.0,>=0.28.0 in c:\\users\\gueid\\anaconda3\\envs\\tftextgenmodelexample\\lib\\site-packages (from spacy<3.8.0,>=3.7.2->en-core-web-sm==3.7.1) (1.0.10)\n",
      "Requirement already satisfied: cymem<2.1.0,>=2.0.2 in c:\\users\\gueid\\anaconda3\\envs\\tftextgenmodelexample\\lib\\site-packages (from spacy<3.8.0,>=3.7.2->en-core-web-sm==3.7.1) (2.0.8)\n",
      "Requirement already satisfied: preshed<3.1.0,>=3.0.2 in c:\\users\\gueid\\anaconda3\\envs\\tftextgenmodelexample\\lib\\site-packages (from spacy<3.8.0,>=3.7.2->en-core-web-sm==3.7.1) (3.0.9)\n",
      "Requirement already satisfied: thinc<8.3.0,>=8.2.2 in c:\\users\\gueid\\anaconda3\\envs\\tftextgenmodelexample\\lib\\site-packages (from spacy<3.8.0,>=3.7.2->en-core-web-sm==3.7.1) (8.2.3)\n",
      "Requirement already satisfied: wasabi<1.2.0,>=0.9.1 in c:\\users\\gueid\\anaconda3\\envs\\tftextgenmodelexample\\lib\\site-packages (from spacy<3.8.0,>=3.7.2->en-core-web-sm==3.7.1) (1.1.3)\n",
      "Requirement already satisfied: srsly<3.0.0,>=2.4.3 in c:\\users\\gueid\\anaconda3\\envs\\tftextgenmodelexample\\lib\\site-packages (from spacy<3.8.0,>=3.7.2->en-core-web-sm==3.7.1) (2.4.8)\n",
      "Requirement already satisfied: catalogue<2.1.0,>=2.0.6 in c:\\users\\gueid\\anaconda3\\envs\\tftextgenmodelexample\\lib\\site-packages (from spacy<3.8.0,>=3.7.2->en-core-web-sm==3.7.1) (2.0.10)\n",
      "Requirement already satisfied: weasel<0.4.0,>=0.1.0 in c:\\users\\gueid\\anaconda3\\envs\\tftextgenmodelexample\\lib\\site-packages (from spacy<3.8.0,>=3.7.2->en-core-web-sm==3.7.1) (0.3.4)\n",
      "Requirement already satisfied: typer<0.10.0,>=0.3.0 in c:\\users\\gueid\\anaconda3\\envs\\tftextgenmodelexample\\lib\\site-packages (from spacy<3.8.0,>=3.7.2->en-core-web-sm==3.7.1) (0.9.4)\n",
      "Requirement already satisfied: smart-open<7.0.0,>=5.2.1 in c:\\users\\gueid\\anaconda3\\envs\\tftextgenmodelexample\\lib\\site-packages (from spacy<3.8.0,>=3.7.2->en-core-web-sm==3.7.1) (6.4.0)\n",
      "Requirement already satisfied: tqdm<5.0.0,>=4.38.0 in c:\\users\\gueid\\anaconda3\\envs\\tftextgenmodelexample\\lib\\site-packages (from spacy<3.8.0,>=3.7.2->en-core-web-sm==3.7.1) (4.66.4)\n",
      "Requirement already satisfied: requests<3.0.0,>=2.13.0 in c:\\users\\gueid\\anaconda3\\envs\\tftextgenmodelexample\\lib\\site-packages (from spacy<3.8.0,>=3.7.2->en-core-web-sm==3.7.1) (2.31.0)\n",
      "Requirement already satisfied: pydantic!=1.8,!=1.8.1,<3.0.0,>=1.7.4 in c:\\users\\gueid\\anaconda3\\envs\\tftextgenmodelexample\\lib\\site-packages (from spacy<3.8.0,>=3.7.2->en-core-web-sm==3.7.1) (2.7.3)\n",
      "Requirement already satisfied: jinja2 in c:\\users\\gueid\\anaconda3\\envs\\tftextgenmodelexample\\lib\\site-packages (from spacy<3.8.0,>=3.7.2->en-core-web-sm==3.7.1) (3.1.4)\n",
      "Requirement already satisfied: setuptools in c:\\users\\gueid\\anaconda3\\envs\\tftextgenmodelexample\\lib\\site-packages (from spacy<3.8.0,>=3.7.2->en-core-web-sm==3.7.1) (69.5.1)\n",
      "Requirement already satisfied: packaging>=20.0 in c:\\users\\gueid\\anaconda3\\envs\\tftextgenmodelexample\\lib\\site-packages (from spacy<3.8.0,>=3.7.2->en-core-web-sm==3.7.1) (23.2)\n",
      "Requirement already satisfied: langcodes<4.0.0,>=3.2.0 in c:\\users\\gueid\\anaconda3\\envs\\tftextgenmodelexample\\lib\\site-packages (from spacy<3.8.0,>=3.7.2->en-core-web-sm==3.7.1) (3.4.0)\n",
      "Requirement already satisfied: numpy>=1.19.0 in c:\\users\\gueid\\anaconda3\\envs\\tftextgenmodelexample\\lib\\site-packages (from spacy<3.8.0,>=3.7.2->en-core-web-sm==3.7.1) (1.26.4)\n",
      "Requirement already satisfied: language-data>=1.2 in c:\\users\\gueid\\anaconda3\\envs\\tftextgenmodelexample\\lib\\site-packages (from langcodes<4.0.0,>=3.2.0->spacy<3.8.0,>=3.7.2->en-core-web-sm==3.7.1) (1.2.0)\n",
      "Requirement already satisfied: annotated-types>=0.4.0 in c:\\users\\gueid\\anaconda3\\envs\\tftextgenmodelexample\\lib\\site-packages (from pydantic!=1.8,!=1.8.1,<3.0.0,>=1.7.4->spacy<3.8.0,>=3.7.2->en-core-web-sm==3.7.1) (0.7.0)\n",
      "Requirement already satisfied: pydantic-core==2.18.4 in c:\\users\\gueid\\anaconda3\\envs\\tftextgenmodelexample\\lib\\site-packages (from pydantic!=1.8,!=1.8.1,<3.0.0,>=1.7.4->spacy<3.8.0,>=3.7.2->en-core-web-sm==3.7.1) (2.18.4)\n",
      "Requirement already satisfied: typing-extensions>=4.6.1 in c:\\users\\gueid\\anaconda3\\envs\\tftextgenmodelexample\\lib\\site-packages (from pydantic!=1.8,!=1.8.1,<3.0.0,>=1.7.4->spacy<3.8.0,>=3.7.2->en-core-web-sm==3.7.1) (4.9.0)\n",
      "Requirement already satisfied: charset-normalizer<4,>=2 in c:\\users\\gueid\\anaconda3\\envs\\tftextgenmodelexample\\lib\\site-packages (from requests<3.0.0,>=2.13.0->spacy<3.8.0,>=3.7.2->en-core-web-sm==3.7.1) (3.3.2)\n",
      "Requirement already satisfied: idna<4,>=2.5 in c:\\users\\gueid\\anaconda3\\envs\\tftextgenmodelexample\\lib\\site-packages (from requests<3.0.0,>=2.13.0->spacy<3.8.0,>=3.7.2->en-core-web-sm==3.7.1) (3.7)\n",
      "Requirement already satisfied: urllib3<3,>=1.21.1 in c:\\users\\gueid\\anaconda3\\envs\\tftextgenmodelexample\\lib\\site-packages (from requests<3.0.0,>=2.13.0->spacy<3.8.0,>=3.7.2->en-core-web-sm==3.7.1) (2.2.1)\n",
      "Requirement already satisfied: certifi>=2017.4.17 in c:\\users\\gueid\\anaconda3\\envs\\tftextgenmodelexample\\lib\\site-packages (from requests<3.0.0,>=2.13.0->spacy<3.8.0,>=3.7.2->en-core-web-sm==3.7.1) (2024.2.2)\n",
      "Requirement already satisfied: blis<0.8.0,>=0.7.8 in c:\\users\\gueid\\anaconda3\\envs\\tftextgenmodelexample\\lib\\site-packages (from thinc<8.3.0,>=8.2.2->spacy<3.8.0,>=3.7.2->en-core-web-sm==3.7.1) (0.7.11)\n",
      "Requirement already satisfied: confection<1.0.0,>=0.0.1 in c:\\users\\gueid\\anaconda3\\envs\\tftextgenmodelexample\\lib\\site-packages (from thinc<8.3.0,>=8.2.2->spacy<3.8.0,>=3.7.2->en-core-web-sm==3.7.1) (0.1.5)\n",
      "Requirement already satisfied: colorama in c:\\users\\gueid\\anaconda3\\envs\\tftextgenmodelexample\\lib\\site-packages (from tqdm<5.0.0,>=4.38.0->spacy<3.8.0,>=3.7.2->en-core-web-sm==3.7.1) (0.4.6)\n",
      "Requirement already satisfied: click<9.0.0,>=7.1.1 in c:\\users\\gueid\\anaconda3\\envs\\tftextgenmodelexample\\lib\\site-packages (from typer<0.10.0,>=0.3.0->spacy<3.8.0,>=3.7.2->en-core-web-sm==3.7.1) (8.1.7)\n",
      "Requirement already satisfied: cloudpathlib<0.17.0,>=0.7.0 in c:\\users\\gueid\\anaconda3\\envs\\tftextgenmodelexample\\lib\\site-packages (from weasel<0.4.0,>=0.1.0->spacy<3.8.0,>=3.7.2->en-core-web-sm==3.7.1) (0.16.0)\n",
      "Requirement already satisfied: MarkupSafe>=2.0 in c:\\users\\gueid\\anaconda3\\envs\\tftextgenmodelexample\\lib\\site-packages (from jinja2->spacy<3.8.0,>=3.7.2->en-core-web-sm==3.7.1) (2.1.5)\n",
      "Requirement already satisfied: marisa-trie>=0.7.7 in c:\\users\\gueid\\anaconda3\\envs\\tftextgenmodelexample\\lib\\site-packages (from language-data>=1.2->langcodes<4.0.0,>=3.2.0->spacy<3.8.0,>=3.7.2->en-core-web-sm==3.7.1) (1.1.1)\n",
      "\u001b[38;5;2m✔ Download and installation successful\u001b[0m\n",
      "You can now load the package via spacy.load('en_core_web_sm')\n"
     ]
    }
   ],
   "source": [
    "!python -m spacy download en_core_web_sm"
   ]
  },
  {
   "cell_type": "code",
   "execution_count": 5,
   "metadata": {},
   "outputs": [
    {
     "data": {
      "text/html": [
       "<div>\n",
       "<style scoped>\n",
       "    .dataframe tbody tr th:only-of-type {\n",
       "        vertical-align: middle;\n",
       "    }\n",
       "\n",
       "    .dataframe tbody tr th {\n",
       "        vertical-align: top;\n",
       "    }\n",
       "\n",
       "    .dataframe thead th {\n",
       "        text-align: right;\n",
       "    }\n",
       "</style>\n",
       "<table border=\"1\" class=\"dataframe\">\n",
       "  <thead>\n",
       "    <tr style=\"text-align: right;\">\n",
       "      <th></th>\n",
       "      <th>Article</th>\n",
       "      <th>Title</th>\n",
       "    </tr>\n",
       "  </thead>\n",
       "  <tbody>\n",
       "    <tr>\n",
       "      <th>0</th>\n",
       "      <td>Data analysis is the process of inspecting and...</td>\n",
       "      <td>Best Books to Learn Data Analysis</td>\n",
       "    </tr>\n",
       "    <tr>\n",
       "      <th>1</th>\n",
       "      <td>The performance of a machine learning algorith...</td>\n",
       "      <td>Assumptions of Machine Learning Algorithms</td>\n",
       "    </tr>\n",
       "    <tr>\n",
       "      <th>2</th>\n",
       "      <td>You must have seen the news divided into categ...</td>\n",
       "      <td>News Classification with Machine Learning</td>\n",
       "    </tr>\n",
       "    <tr>\n",
       "      <th>3</th>\n",
       "      <td>When there are only two classes in a classific...</td>\n",
       "      <td>Multiclass Classification Algorithms in Machin...</td>\n",
       "    </tr>\n",
       "    <tr>\n",
       "      <th>4</th>\n",
       "      <td>The Multinomial Naive Bayes is one of the vari...</td>\n",
       "      <td>Multinomial Naive Bayes in Machine Learning</td>\n",
       "    </tr>\n",
       "  </tbody>\n",
       "</table>\n",
       "</div>"
      ],
      "text/plain": [
       "                                             Article  \\\n",
       "0  Data analysis is the process of inspecting and...   \n",
       "1  The performance of a machine learning algorith...   \n",
       "2  You must have seen the news divided into categ...   \n",
       "3  When there are only two classes in a classific...   \n",
       "4  The Multinomial Naive Bayes is one of the vari...   \n",
       "\n",
       "                                               Title  \n",
       "0                  Best Books to Learn Data Analysis  \n",
       "1         Assumptions of Machine Learning Algorithms  \n",
       "2          News Classification with Machine Learning  \n",
       "3  Multiclass Classification Algorithms in Machin...  \n",
       "4        Multinomial Naive Bayes in Machine Learning  "
      ]
     },
     "execution_count": 5,
     "metadata": {},
     "output_type": "execute_result"
    }
   ],
   "source": [
    "nlp = spacy.load('en_core_web_sm')\n",
    "data = pd.read_csv(\"articles.csv\" , encoding='latin-1')\n",
    "data.head()"
   ]
  },
  {
   "cell_type": "markdown",
   "metadata": {},
   "source": [
    "1-Create word clouds to visualize the most frequent words in the titles.\n",
    "2-Analyze the sentiment expressed in the articles to understand the overall tone or sentiment of the content.\n",
    "3-Extract named entities such as organizations, locations, and other relevant information from the articles.\n",
    "4-Apply topic modelling techniques to uncover latent topics within the articles."
   ]
  },
  {
   "cell_type": "markdown",
   "metadata": {},
   "source": [
    "### visualizing the word cloud of the titles"
   ]
  },
  {
   "cell_type": "code",
   "execution_count": 6,
   "metadata": {},
   "outputs": [
    {
     "data": {
      "application/vnd.plotly.v1+json": {
       "config": {
        "plotlyServerURL": "https://plot.ly"
       },
       "data": [
        {
         "hovertemplate": "x: %{x}<br>y: %{y}<br>color: [%{z[0]}, %{z[1]}, %{z[2]}]<extra></extra>",
         "name": "0",
         "source": "data:image/png;base64,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",
         "type": "image",
         "xaxis": "x",
         "yaxis": "y"
        }
       ],
       "layout": {
        "showlegend": false,
        "template": {
         "data": {
          "bar": [
           {
            "error_x": {
             "color": "#2a3f5f"
            },
            "error_y": {
             "color": "#2a3f5f"
            },
            "marker": {
             "line": {
              "color": "#E5ECF6",
              "width": 0.5
             },
             "pattern": {
              "fillmode": "overlay",
              "size": 10,
              "solidity": 0.2
             }
            },
            "type": "bar"
           }
          ],
          "barpolar": [
           {
            "marker": {
             "line": {
              "color": "#E5ECF6",
              "width": 0.5
             },
             "pattern": {
              "fillmode": "overlay",
              "size": 10,
              "solidity": 0.2
             }
            },
            "type": "barpolar"
           }
          ],
          "carpet": [
           {
            "aaxis": {
             "endlinecolor": "#2a3f5f",
             "gridcolor": "white",
             "linecolor": "white",
             "minorgridcolor": "white",
             "startlinecolor": "#2a3f5f"
            },
            "baxis": {
             "endlinecolor": "#2a3f5f",
             "gridcolor": "white",
             "linecolor": "white",
             "minorgridcolor": "white",
             "startlinecolor": "#2a3f5f"
            },
            "type": "carpet"
           }
          ],
          "choropleth": [
           {
            "colorbar": {
             "outlinewidth": 0,
             "ticks": ""
            },
            "type": "choropleth"
           }
          ],
          "contour": [
           {
            "colorbar": {
             "outlinewidth": 0,
             "ticks": ""
            },
            "colorscale": [
             [
              0,
              "#0d0887"
             ],
             [
              0.1111111111111111,
              "#46039f"
             ],
             [
              0.2222222222222222,
              "#7201a8"
             ],
             [
              0.3333333333333333,
              "#9c179e"
             ],
             [
              0.4444444444444444,
              "#bd3786"
             ],
             [
              0.5555555555555556,
              "#d8576b"
             ],
             [
              0.6666666666666666,
              "#ed7953"
             ],
             [
              0.7777777777777778,
              "#fb9f3a"
             ],
             [
              0.8888888888888888,
              "#fdca26"
             ],
             [
              1,
              "#f0f921"
             ]
            ],
            "type": "contour"
           }
          ],
          "contourcarpet": [
           {
            "colorbar": {
             "outlinewidth": 0,
             "ticks": ""
            },
            "type": "contourcarpet"
           }
          ],
          "heatmap": [
           {
            "colorbar": {
             "outlinewidth": 0,
             "ticks": ""
            },
            "colorscale": [
             [
              0,
              "#0d0887"
             ],
             [
              0.1111111111111111,
              "#46039f"
             ],
             [
              0.2222222222222222,
              "#7201a8"
             ],
             [
              0.3333333333333333,
              "#9c179e"
             ],
             [
              0.4444444444444444,
              "#bd3786"
             ],
             [
              0.5555555555555556,
              "#d8576b"
             ],
             [
              0.6666666666666666,
              "#ed7953"
             ],
             [
              0.7777777777777778,
              "#fb9f3a"
             ],
             [
              0.8888888888888888,
              "#fdca26"
             ],
             [
              1,
              "#f0f921"
             ]
            ],
            "type": "heatmap"
           }
          ],
          "heatmapgl": [
           {
            "colorbar": {
             "outlinewidth": 0,
             "ticks": ""
            },
            "colorscale": [
             [
              0,
              "#0d0887"
             ],
             [
              0.1111111111111111,
              "#46039f"
             ],
             [
              0.2222222222222222,
              "#7201a8"
             ],
             [
              0.3333333333333333,
              "#9c179e"
             ],
             [
              0.4444444444444444,
              "#bd3786"
             ],
             [
              0.5555555555555556,
              "#d8576b"
             ],
             [
              0.6666666666666666,
              "#ed7953"
             ],
             [
              0.7777777777777778,
              "#fb9f3a"
             ],
             [
              0.8888888888888888,
              "#fdca26"
             ],
             [
              1,
              "#f0f921"
             ]
            ],
            "type": "heatmapgl"
           }
          ],
          "histogram": [
           {
            "marker": {
             "pattern": {
              "fillmode": "overlay",
              "size": 10,
              "solidity": 0.2
             }
            },
            "type": "histogram"
           }
          ],
          "histogram2d": [
           {
            "colorbar": {
             "outlinewidth": 0,
             "ticks": ""
            },
            "colorscale": [
             [
              0,
              "#0d0887"
             ],
             [
              0.1111111111111111,
              "#46039f"
             ],
             [
              0.2222222222222222,
              "#7201a8"
             ],
             [
              0.3333333333333333,
              "#9c179e"
             ],
             [
              0.4444444444444444,
              "#bd3786"
             ],
             [
              0.5555555555555556,
              "#d8576b"
             ],
             [
              0.6666666666666666,
              "#ed7953"
             ],
             [
              0.7777777777777778,
              "#fb9f3a"
             ],
             [
              0.8888888888888888,
              "#fdca26"
             ],
             [
              1,
              "#f0f921"
             ]
            ],
            "type": "histogram2d"
           }
          ],
          "histogram2dcontour": [
           {
            "colorbar": {
             "outlinewidth": 0,
             "ticks": ""
            },
            "colorscale": [
             [
              0,
              "#0d0887"
             ],
             [
              0.1111111111111111,
              "#46039f"
             ],
             [
              0.2222222222222222,
              "#7201a8"
             ],
             [
              0.3333333333333333,
              "#9c179e"
             ],
             [
              0.4444444444444444,
              "#bd3786"
             ],
             [
              0.5555555555555556,
              "#d8576b"
             ],
             [
              0.6666666666666666,
              "#ed7953"
             ],
             [
              0.7777777777777778,
              "#fb9f3a"
             ],
             [
              0.8888888888888888,
              "#fdca26"
             ],
             [
              1,
              "#f0f921"
             ]
            ],
            "type": "histogram2dcontour"
           }
          ],
          "mesh3d": [
           {
            "colorbar": {
             "outlinewidth": 0,
             "ticks": ""
            },
            "type": "mesh3d"
           }
          ],
          "parcoords": [
           {
            "line": {
             "colorbar": {
              "outlinewidth": 0,
              "ticks": ""
             }
            },
            "type": "parcoords"
           }
          ],
          "pie": [
           {
            "automargin": true,
            "type": "pie"
           }
          ],
          "scatter": [
           {
            "fillpattern": {
             "fillmode": "overlay",
             "size": 10,
             "solidity": 0.2
            },
            "type": "scatter"
           }
          ],
          "scatter3d": [
           {
            "line": {
             "colorbar": {
              "outlinewidth": 0,
              "ticks": ""
             }
            },
            "marker": {
             "colorbar": {
              "outlinewidth": 0,
              "ticks": ""
             }
            },
            "type": "scatter3d"
           }
          ],
          "scattercarpet": [
           {
            "marker": {
             "colorbar": {
              "outlinewidth": 0,
              "ticks": ""
             }
            },
            "type": "scattercarpet"
           }
          ],
          "scattergeo": [
           {
            "marker": {
             "colorbar": {
              "outlinewidth": 0,
              "ticks": ""
             }
            },
            "type": "scattergeo"
           }
          ],
          "scattergl": [
           {
            "marker": {
             "colorbar": {
              "outlinewidth": 0,
              "ticks": ""
             }
            },
            "type": "scattergl"
           }
          ],
          "scattermapbox": [
           {
            "marker": {
             "colorbar": {
              "outlinewidth": 0,
              "ticks": ""
             }
            },
            "type": "scattermapbox"
           }
          ],
          "scatterpolar": [
           {
            "marker": {
             "colorbar": {
              "outlinewidth": 0,
              "ticks": ""
             }
            },
            "type": "scatterpolar"
           }
          ],
          "scatterpolargl": [
           {
            "marker": {
             "colorbar": {
              "outlinewidth": 0,
              "ticks": ""
             }
            },
            "type": "scatterpolargl"
           }
          ],
          "scatterternary": [
           {
            "marker": {
             "colorbar": {
              "outlinewidth": 0,
              "ticks": ""
             }
            },
            "type": "scatterternary"
           }
          ],
          "surface": [
           {
            "colorbar": {
             "outlinewidth": 0,
             "ticks": ""
            },
            "colorscale": [
             [
              0,
              "#0d0887"
             ],
             [
              0.1111111111111111,
              "#46039f"
             ],
             [
              0.2222222222222222,
              "#7201a8"
             ],
             [
              0.3333333333333333,
              "#9c179e"
             ],
             [
              0.4444444444444444,
              "#bd3786"
             ],
             [
              0.5555555555555556,
              "#d8576b"
             ],
             [
              0.6666666666666666,
              "#ed7953"
             ],
             [
              0.7777777777777778,
              "#fb9f3a"
             ],
             [
              0.8888888888888888,
              "#fdca26"
             ],
             [
              1,
              "#f0f921"
             ]
            ],
            "type": "surface"
           }
          ],
          "table": [
           {
            "cells": {
             "fill": {
              "color": "#EBF0F8"
             },
             "line": {
              "color": "white"
             }
            },
            "header": {
             "fill": {
              "color": "#C8D4E3"
             },
             "line": {
              "color": "white"
             }
            },
            "type": "table"
           }
          ]
         },
         "layout": {
          "annotationdefaults": {
           "arrowcolor": "#2a3f5f",
           "arrowhead": 0,
           "arrowwidth": 1
          },
          "autotypenumbers": "strict",
          "coloraxis": {
           "colorbar": {
            "outlinewidth": 0,
            "ticks": ""
           }
          },
          "colorscale": {
           "diverging": [
            [
             0,
             "#8e0152"
            ],
            [
             0.1,
             "#c51b7d"
            ],
            [
             0.2,
             "#de77ae"
            ],
            [
             0.3,
             "#f1b6da"
            ],
            [
             0.4,
             "#fde0ef"
            ],
            [
             0.5,
             "#f7f7f7"
            ],
            [
             0.6,
             "#e6f5d0"
            ],
            [
             0.7,
             "#b8e186"
            ],
            [
             0.8,
             "#7fbc41"
            ],
            [
             0.9,
             "#4d9221"
            ],
            [
             1,
             "#276419"
            ]
           ],
           "sequential": [
            [
             0,
             "#0d0887"
            ],
            [
             0.1111111111111111,
             "#46039f"
            ],
            [
             0.2222222222222222,
             "#7201a8"
            ],
            [
             0.3333333333333333,
             "#9c179e"
            ],
            [
             0.4444444444444444,
             "#bd3786"
            ],
            [
             0.5555555555555556,
             "#d8576b"
            ],
            [
             0.6666666666666666,
             "#ed7953"
            ],
            [
             0.7777777777777778,
             "#fb9f3a"
            ],
            [
             0.8888888888888888,
             "#fdca26"
            ],
            [
             1,
             "#f0f921"
            ]
           ],
           "sequentialminus": [
            [
             0,
             "#0d0887"
            ],
            [
             0.1111111111111111,
             "#46039f"
            ],
            [
             0.2222222222222222,
             "#7201a8"
            ],
            [
             0.3333333333333333,
             "#9c179e"
            ],
            [
             0.4444444444444444,
             "#bd3786"
            ],
            [
             0.5555555555555556,
             "#d8576b"
            ],
            [
             0.6666666666666666,
             "#ed7953"
            ],
            [
             0.7777777777777778,
             "#fb9f3a"
            ],
            [
             0.8888888888888888,
             "#fdca26"
            ],
            [
             1,
             "#f0f921"
            ]
           ]
          },
          "colorway": [
           "#636efa",
           "#EF553B",
           "#00cc96",
           "#ab63fa",
           "#FFA15A",
           "#19d3f3",
           "#FF6692",
           "#B6E880",
           "#FF97FF",
           "#FECB52"
          ],
          "font": {
           "color": "#2a3f5f"
          },
          "geo": {
           "bgcolor": "white",
           "lakecolor": "white",
           "landcolor": "#E5ECF6",
           "showlakes": true,
           "showland": true,
           "subunitcolor": "white"
          },
          "hoverlabel": {
           "align": "left"
          },
          "hovermode": "closest",
          "mapbox": {
           "style": "light"
          },
          "paper_bgcolor": "white",
          "plot_bgcolor": "#E5ECF6",
          "polar": {
           "angularaxis": {
            "gridcolor": "white",
            "linecolor": "white",
            "ticks": ""
           },
           "bgcolor": "#E5ECF6",
           "radialaxis": {
            "gridcolor": "white",
            "linecolor": "white",
            "ticks": ""
           }
          },
          "scene": {
           "xaxis": {
            "backgroundcolor": "#E5ECF6",
            "gridcolor": "white",
            "gridwidth": 2,
            "linecolor": "white",
            "showbackground": true,
            "ticks": "",
            "zerolinecolor": "white"
           },
           "yaxis": {
            "backgroundcolor": "#E5ECF6",
            "gridcolor": "white",
            "gridwidth": 2,
            "linecolor": "white",
            "showbackground": true,
            "ticks": "",
            "zerolinecolor": "white"
           },
           "zaxis": {
            "backgroundcolor": "#E5ECF6",
            "gridcolor": "white",
            "gridwidth": 2,
            "linecolor": "white",
            "showbackground": true,
            "ticks": "",
            "zerolinecolor": "white"
           }
          },
          "shapedefaults": {
           "line": {
            "color": "#2a3f5f"
           }
          },
          "ternary": {
           "aaxis": {
            "gridcolor": "white",
            "linecolor": "white",
            "ticks": ""
           },
           "baxis": {
            "gridcolor": "white",
            "linecolor": "white",
            "ticks": ""
           },
           "bgcolor": "#E5ECF6",
           "caxis": {
            "gridcolor": "white",
            "linecolor": "white",
            "ticks": ""
           }
          },
          "title": {
           "x": 0.05
          },
          "xaxis": {
           "automargin": true,
           "gridcolor": "white",
           "linecolor": "white",
           "ticks": "",
           "title": {
            "standoff": 15
           },
           "zerolinecolor": "white",
           "zerolinewidth": 2
          },
          "yaxis": {
           "automargin": true,
           "gridcolor": "white",
           "linecolor": "white",
           "ticks": "",
           "title": {
            "standoff": 15
           },
           "zerolinecolor": "white",
           "zerolinewidth": 2
          }
         }
        },
        "title": {
         "text": "Word Cloud of Titles"
        },
        "xaxis": {
         "anchor": "y",
         "domain": [
          0,
          1
         ]
        },
        "yaxis": {
         "anchor": "x",
         "domain": [
          0,
          1
         ]
        }
       }
      }
     },
     "metadata": {},
     "output_type": "display_data"
    }
   ],
   "source": [
    "# Combine all titles into a single string\n",
    "titles_text = ' '.join(data['Title'])\n",
    "\n",
    "# Create a WordCloud object\n",
    "wordcloud = WordCloud(width=800, height=400, background_color='white').generate(titles_text)\n",
    "\n",
    "# Plot the Word Cloud\n",
    "fig = px.imshow(wordcloud, title='Word Cloud of Titles')\n",
    "\n",
    "fig.update_layout(showlegend=False)\n",
    "\n",
    "fig.show()"
   ]
  },
  {
   "cell_type": "markdown",
   "metadata": {},
   "source": [
    "In the above code, we are generating a word cloud based on the titles of the articles. First, we concatenated all the titles into a single continuous string called titles_text using the join method.\n",
    "\n",
    "Next, we created a WordCloud object with specific parameters, including the width, height, and background colour, which determine the appearance of the word cloud. Then, we used this WordCloud object to generate the word cloud itself, where the size of each word is proportional to its frequency in the titles."
   ]
  },
  {
   "cell_type": "markdown",
   "metadata": {},
   "source": [
    "### let’s analyze the distribution of sentiments in the data:"
   ]
  },
  {
   "cell_type": "code",
   "execution_count": 12,
   "metadata": {},
   "outputs": [
    {
     "data": {
      "application/vnd.plotly.v1+json": {
       "config": {
        "plotlyServerURL": "https://plot.ly"
       },
       "data": [
        {
         "alignmentgroup": "True",
         "bingroup": "x",
         "hovertemplate": "Sentiment=%{x}<br>count=%{y}<extra></extra>",
         "legendgroup": "",
         "marker": {
          "color": "#636efa",
          "pattern": {
           "shape": ""
          }
         },
         "name": "",
         "offsetgroup": "",
         "orientation": "v",
         "showlegend": false,
         "type": "histogram",
         "x": [
          0.6666666666666666,
          0.02083333333333333,
          0.6,
          0.625,
          -0.10142857142857142,
          0.6,
          0.2833333333333333,
          0.05,
          0.40666666666666673,
          -0.10833333333333334,
          0.346875,
          0.5800000000000001,
          0.4791666666666667,
          0.2,
          0.016666666666666653,
          0,
          -0.075,
          0,
          0.15,
          0.08333333333333333,
          -0.234375,
          0,
          0.1576923076923077,
          -0.8,
          0.0911111111111111,
          0.4,
          0.175,
          0.24545454545454545,
          0.11892857142857145,
          0.08979591836734693,
          0.26999999999999996,
          0.2885714285714286,
          -0.18125,
          0
         ],
         "xaxis": "x",
         "yaxis": "y"
        }
       ],
       "layout": {
        "barmode": "relative",
        "legend": {
         "tracegroupgap": 0
        },
        "template": {
         "data": {
          "bar": [
           {
            "error_x": {
             "color": "#2a3f5f"
            },
            "error_y": {
             "color": "#2a3f5f"
            },
            "marker": {
             "line": {
              "color": "#E5ECF6",
              "width": 0.5
             },
             "pattern": {
              "fillmode": "overlay",
              "size": 10,
              "solidity": 0.2
             }
            },
            "type": "bar"
           }
          ],
          "barpolar": [
           {
            "marker": {
             "line": {
              "color": "#E5ECF6",
              "width": 0.5
             },
             "pattern": {
              "fillmode": "overlay",
              "size": 10,
              "solidity": 0.2
             }
            },
            "type": "barpolar"
           }
          ],
          "carpet": [
           {
            "aaxis": {
             "endlinecolor": "#2a3f5f",
             "gridcolor": "white",
             "linecolor": "white",
             "minorgridcolor": "white",
             "startlinecolor": "#2a3f5f"
            },
            "baxis": {
             "endlinecolor": "#2a3f5f",
             "gridcolor": "white",
             "linecolor": "white",
             "minorgridcolor": "white",
             "startlinecolor": "#2a3f5f"
            },
            "type": "carpet"
           }
          ],
          "choropleth": [
           {
            "colorbar": {
             "outlinewidth": 0,
             "ticks": ""
            },
            "type": "choropleth"
           }
          ],
          "contour": [
           {
            "colorbar": {
             "outlinewidth": 0,
             "ticks": ""
            },
            "colorscale": [
             [
              0,
              "#0d0887"
             ],
             [
              0.1111111111111111,
              "#46039f"
             ],
             [
              0.2222222222222222,
              "#7201a8"
             ],
             [
              0.3333333333333333,
              "#9c179e"
             ],
             [
              0.4444444444444444,
              "#bd3786"
             ],
             [
              0.5555555555555556,
              "#d8576b"
             ],
             [
              0.6666666666666666,
              "#ed7953"
             ],
             [
              0.7777777777777778,
              "#fb9f3a"
             ],
             [
              0.8888888888888888,
              "#fdca26"
             ],
             [
              1,
              "#f0f921"
             ]
            ],
            "type": "contour"
           }
          ],
          "contourcarpet": [
           {
            "colorbar": {
             "outlinewidth": 0,
             "ticks": ""
            },
            "type": "contourcarpet"
           }
          ],
          "heatmap": [
           {
            "colorbar": {
             "outlinewidth": 0,
             "ticks": ""
            },
            "colorscale": [
             [
              0,
              "#0d0887"
             ],
             [
              0.1111111111111111,
              "#46039f"
             ],
             [
              0.2222222222222222,
              "#7201a8"
             ],
             [
              0.3333333333333333,
              "#9c179e"
             ],
             [
              0.4444444444444444,
              "#bd3786"
             ],
             [
              0.5555555555555556,
              "#d8576b"
             ],
             [
              0.6666666666666666,
              "#ed7953"
             ],
             [
              0.7777777777777778,
              "#fb9f3a"
             ],
             [
              0.8888888888888888,
              "#fdca26"
             ],
             [
              1,
              "#f0f921"
             ]
            ],
            "type": "heatmap"
           }
          ],
          "heatmapgl": [
           {
            "colorbar": {
             "outlinewidth": 0,
             "ticks": ""
            },
            "colorscale": [
             [
              0,
              "#0d0887"
             ],
             [
              0.1111111111111111,
              "#46039f"
             ],
             [
              0.2222222222222222,
              "#7201a8"
             ],
             [
              0.3333333333333333,
              "#9c179e"
             ],
             [
              0.4444444444444444,
              "#bd3786"
             ],
             [
              0.5555555555555556,
              "#d8576b"
             ],
             [
              0.6666666666666666,
              "#ed7953"
             ],
             [
              0.7777777777777778,
              "#fb9f3a"
             ],
             [
              0.8888888888888888,
              "#fdca26"
             ],
             [
              1,
              "#f0f921"
             ]
            ],
            "type": "heatmapgl"
           }
          ],
          "histogram": [
           {
            "marker": {
             "pattern": {
              "fillmode": "overlay",
              "size": 10,
              "solidity": 0.2
             }
            },
            "type": "histogram"
           }
          ],
          "histogram2d": [
           {
            "colorbar": {
             "outlinewidth": 0,
             "ticks": ""
            },
            "colorscale": [
             [
              0,
              "#0d0887"
             ],
             [
              0.1111111111111111,
              "#46039f"
             ],
             [
              0.2222222222222222,
              "#7201a8"
             ],
             [
              0.3333333333333333,
              "#9c179e"
             ],
             [
              0.4444444444444444,
              "#bd3786"
             ],
             [
              0.5555555555555556,
              "#d8576b"
             ],
             [
              0.6666666666666666,
              "#ed7953"
             ],
             [
              0.7777777777777778,
              "#fb9f3a"
             ],
             [
              0.8888888888888888,
              "#fdca26"
             ],
             [
              1,
              "#f0f921"
             ]
            ],
            "type": "histogram2d"
           }
          ],
          "histogram2dcontour": [
           {
            "colorbar": {
             "outlinewidth": 0,
             "ticks": ""
            },
            "colorscale": [
             [
              0,
              "#0d0887"
             ],
             [
              0.1111111111111111,
              "#46039f"
             ],
             [
              0.2222222222222222,
              "#7201a8"
             ],
             [
              0.3333333333333333,
              "#9c179e"
             ],
             [
              0.4444444444444444,
              "#bd3786"
             ],
             [
              0.5555555555555556,
              "#d8576b"
             ],
             [
              0.6666666666666666,
              "#ed7953"
             ],
             [
              0.7777777777777778,
              "#fb9f3a"
             ],
             [
              0.8888888888888888,
              "#fdca26"
             ],
             [
              1,
              "#f0f921"
             ]
            ],
            "type": "histogram2dcontour"
           }
          ],
          "mesh3d": [
           {
            "colorbar": {
             "outlinewidth": 0,
             "ticks": ""
            },
            "type": "mesh3d"
           }
          ],
          "parcoords": [
           {
            "line": {
             "colorbar": {
              "outlinewidth": 0,
              "ticks": ""
             }
            },
            "type": "parcoords"
           }
          ],
          "pie": [
           {
            "automargin": true,
            "type": "pie"
           }
          ],
          "scatter": [
           {
            "fillpattern": {
             "fillmode": "overlay",
             "size": 10,
             "solidity": 0.2
            },
            "type": "scatter"
           }
          ],
          "scatter3d": [
           {
            "line": {
             "colorbar": {
              "outlinewidth": 0,
              "ticks": ""
             }
            },
            "marker": {
             "colorbar": {
              "outlinewidth": 0,
              "ticks": ""
             }
            },
            "type": "scatter3d"
           }
          ],
          "scattercarpet": [
           {
            "marker": {
             "colorbar": {
              "outlinewidth": 0,
              "ticks": ""
             }
            },
            "type": "scattercarpet"
           }
          ],
          "scattergeo": [
           {
            "marker": {
             "colorbar": {
              "outlinewidth": 0,
              "ticks": ""
             }
            },
            "type": "scattergeo"
           }
          ],
          "scattergl": [
           {
            "marker": {
             "colorbar": {
              "outlinewidth": 0,
              "ticks": ""
             }
            },
            "type": "scattergl"
           }
          ],
          "scattermapbox": [
           {
            "marker": {
             "colorbar": {
              "outlinewidth": 0,
              "ticks": ""
             }
            },
            "type": "scattermapbox"
           }
          ],
          "scatterpolar": [
           {
            "marker": {
             "colorbar": {
              "outlinewidth": 0,
              "ticks": ""
             }
            },
            "type": "scatterpolar"
           }
          ],
          "scatterpolargl": [
           {
            "marker": {
             "colorbar": {
              "outlinewidth": 0,
              "ticks": ""
             }
            },
            "type": "scatterpolargl"
           }
          ],
          "scatterternary": [
           {
            "marker": {
             "colorbar": {
              "outlinewidth": 0,
              "ticks": ""
             }
            },
            "type": "scatterternary"
           }
          ],
          "surface": [
           {
            "colorbar": {
             "outlinewidth": 0,
             "ticks": ""
            },
            "colorscale": [
             [
              0,
              "#0d0887"
             ],
             [
              0.1111111111111111,
              "#46039f"
             ],
             [
              0.2222222222222222,
              "#7201a8"
             ],
             [
              0.3333333333333333,
              "#9c179e"
             ],
             [
              0.4444444444444444,
              "#bd3786"
             ],
             [
              0.5555555555555556,
              "#d8576b"
             ],
             [
              0.6666666666666666,
              "#ed7953"
             ],
             [
              0.7777777777777778,
              "#fb9f3a"
             ],
             [
              0.8888888888888888,
              "#fdca26"
             ],
             [
              1,
              "#f0f921"
             ]
            ],
            "type": "surface"
           }
          ],
          "table": [
           {
            "cells": {
             "fill": {
              "color": "#EBF0F8"
             },
             "line": {
              "color": "white"
             }
            },
            "header": {
             "fill": {
              "color": "#C8D4E3"
             },
             "line": {
              "color": "white"
             }
            },
            "type": "table"
           }
          ]
         },
         "layout": {
          "annotationdefaults": {
           "arrowcolor": "#2a3f5f",
           "arrowhead": 0,
           "arrowwidth": 1
          },
          "autotypenumbers": "strict",
          "coloraxis": {
           "colorbar": {
            "outlinewidth": 0,
            "ticks": ""
           }
          },
          "colorscale": {
           "diverging": [
            [
             0,
             "#8e0152"
            ],
            [
             0.1,
             "#c51b7d"
            ],
            [
             0.2,
             "#de77ae"
            ],
            [
             0.3,
             "#f1b6da"
            ],
            [
             0.4,
             "#fde0ef"
            ],
            [
             0.5,
             "#f7f7f7"
            ],
            [
             0.6,
             "#e6f5d0"
            ],
            [
             0.7,
             "#b8e186"
            ],
            [
             0.8,
             "#7fbc41"
            ],
            [
             0.9,
             "#4d9221"
            ],
            [
             1,
             "#276419"
            ]
           ],
           "sequential": [
            [
             0,
             "#0d0887"
            ],
            [
             0.1111111111111111,
             "#46039f"
            ],
            [
             0.2222222222222222,
             "#7201a8"
            ],
            [
             0.3333333333333333,
             "#9c179e"
            ],
            [
             0.4444444444444444,
             "#bd3786"
            ],
            [
             0.5555555555555556,
             "#d8576b"
            ],
            [
             0.6666666666666666,
             "#ed7953"
            ],
            [
             0.7777777777777778,
             "#fb9f3a"
            ],
            [
             0.8888888888888888,
             "#fdca26"
            ],
            [
             1,
             "#f0f921"
            ]
           ],
           "sequentialminus": [
            [
             0,
             "#0d0887"
            ],
            [
             0.1111111111111111,
             "#46039f"
            ],
            [
             0.2222222222222222,
             "#7201a8"
            ],
            [
             0.3333333333333333,
             "#9c179e"
            ],
            [
             0.4444444444444444,
             "#bd3786"
            ],
            [
             0.5555555555555556,
             "#d8576b"
            ],
            [
             0.6666666666666666,
             "#ed7953"
            ],
            [
             0.7777777777777778,
             "#fb9f3a"
            ],
            [
             0.8888888888888888,
             "#fdca26"
            ],
            [
             1,
             "#f0f921"
            ]
           ]
          },
          "colorway": [
           "#636efa",
           "#EF553B",
           "#00cc96",
           "#ab63fa",
           "#FFA15A",
           "#19d3f3",
           "#FF6692",
           "#B6E880",
           "#FF97FF",
           "#FECB52"
          ],
          "font": {
           "color": "#2a3f5f"
          },
          "geo": {
           "bgcolor": "white",
           "lakecolor": "white",
           "landcolor": "#E5ECF6",
           "showlakes": true,
           "showland": true,
           "subunitcolor": "white"
          },
          "hoverlabel": {
           "align": "left"
          },
          "hovermode": "closest",
          "mapbox": {
           "style": "light"
          },
          "paper_bgcolor": "white",
          "plot_bgcolor": "#E5ECF6",
          "polar": {
           "angularaxis": {
            "gridcolor": "white",
            "linecolor": "white",
            "ticks": ""
           },
           "bgcolor": "#E5ECF6",
           "radialaxis": {
            "gridcolor": "white",
            "linecolor": "white",
            "ticks": ""
           }
          },
          "scene": {
           "xaxis": {
            "backgroundcolor": "#E5ECF6",
            "gridcolor": "white",
            "gridwidth": 2,
            "linecolor": "white",
            "showbackground": true,
            "ticks": "",
            "zerolinecolor": "white"
           },
           "yaxis": {
            "backgroundcolor": "#E5ECF6",
            "gridcolor": "white",
            "gridwidth": 2,
            "linecolor": "white",
            "showbackground": true,
            "ticks": "",
            "zerolinecolor": "white"
           },
           "zaxis": {
            "backgroundcolor": "#E5ECF6",
            "gridcolor": "white",
            "gridwidth": 2,
            "linecolor": "white",
            "showbackground": true,
            "ticks": "",
            "zerolinecolor": "white"
           }
          },
          "shapedefaults": {
           "line": {
            "color": "#2a3f5f"
           }
          },
          "ternary": {
           "aaxis": {
            "gridcolor": "white",
            "linecolor": "white",
            "ticks": ""
           },
           "baxis": {
            "gridcolor": "white",
            "linecolor": "white",
            "ticks": ""
           },
           "bgcolor": "#E5ECF6",
           "caxis": {
            "gridcolor": "white",
            "linecolor": "white",
            "ticks": ""
           }
          },
          "title": {
           "x": 0.05
          },
          "xaxis": {
           "automargin": true,
           "gridcolor": "white",
           "linecolor": "white",
           "ticks": "",
           "title": {
            "standoff": 15
           },
           "zerolinecolor": "white",
           "zerolinewidth": 2
          },
          "yaxis": {
           "automargin": true,
           "gridcolor": "white",
           "linecolor": "white",
           "ticks": "",
           "title": {
            "standoff": 15
           },
           "zerolinecolor": "white",
           "zerolinewidth": 2
          }
         }
        },
        "title": {
         "text": "Sentiment Distribution"
        },
        "xaxis": {
         "anchor": "y",
         "domain": [
          0,
          1
         ],
         "title": {
          "text": "Sentiment"
         }
        },
        "yaxis": {
         "anchor": "x",
         "domain": [
          0,
          1
         ],
         "title": {
          "text": "count"
         }
        }
       }
      }
     },
     "metadata": {},
     "output_type": "display_data"
    }
   ],
   "source": [
    "# Sentiment Analysis\n",
    "data['Sentiment'] = data['Article'].apply(lambda x : TextBlob(x).sentiment.polarity)\n",
    "\n",
    "# Sentiment Distribution\n",
    "fig = px.histogram(data , x='Sentiment' , title='Sentiment Distribution')\n",
    "fig.show()"
   ]
  },
  {
   "cell_type": "markdown",
   "metadata": {},
   "source": [
    "In the above code, sentiment analysis is performed on the articles in the dataset to assess the overall sentiment or emotional tone of the articles. The TextBlob library is used here to analyze the sentiment polarity, which quantifies whether the text expresses positive, negative, or neutral sentiment.\n",
    "\n",
    "The sentiment.polarity method of TextBlob calculates a sentiment polarity score for each article, where positive values indicate positive sentiment, negative values indicate negative sentiment and values close to zero suggest a more neutral tone. After calculating the sentiment polarities, a histogram is created to visualize the distribution of sentiment scores across the articles."
   ]
  },
  {
   "cell_type": "markdown",
   "metadata": {},
   "source": [
    "### let’s perform Named Entity Recognition"
   ]
  },
  {
   "cell_type": "code",
   "execution_count": 8,
   "metadata": {},
   "outputs": [
    {
     "data": {
      "application/vnd.plotly.v1+json": {
       "config": {
        "plotlyServerURL": "https://plot.ly"
       },
       "data": [
        {
         "alignmentgroup": "True",
         "hovertemplate": "Entity=%{x}<br>Count=%{y}<extra></extra>",
         "legendgroup": "",
         "marker": {
          "color": "#636efa",
          "pattern": {
           "shape": ""
          }
         },
         "name": "",
         "offsetgroup": "",
         "orientation": "v",
         "showlegend": false,
         "textposition": "auto",
         "type": "bar",
         "x": [
          "DATE",
          "CARDINAL",
          "ORG",
          "ORDINAL",
          "LOC",
          "PRODUCT",
          "PERSON",
          "GPE",
          "FAC"
         ],
         "xaxis": "x",
         "y": [
          8,
          9,
          20,
          1,
          1,
          1,
          3,
          4,
          1
         ],
         "yaxis": "y"
        }
       ],
       "layout": {
        "barmode": "relative",
        "legend": {
         "tracegroupgap": 0
        },
        "template": {
         "data": {
          "bar": [
           {
            "error_x": {
             "color": "#2a3f5f"
            },
            "error_y": {
             "color": "#2a3f5f"
            },
            "marker": {
             "line": {
              "color": "#E5ECF6",
              "width": 0.5
             },
             "pattern": {
              "fillmode": "overlay",
              "size": 10,
              "solidity": 0.2
             }
            },
            "type": "bar"
           }
          ],
          "barpolar": [
           {
            "marker": {
             "line": {
              "color": "#E5ECF6",
              "width": 0.5
             },
             "pattern": {
              "fillmode": "overlay",
              "size": 10,
              "solidity": 0.2
             }
            },
            "type": "barpolar"
           }
          ],
          "carpet": [
           {
            "aaxis": {
             "endlinecolor": "#2a3f5f",
             "gridcolor": "white",
             "linecolor": "white",
             "minorgridcolor": "white",
             "startlinecolor": "#2a3f5f"
            },
            "baxis": {
             "endlinecolor": "#2a3f5f",
             "gridcolor": "white",
             "linecolor": "white",
             "minorgridcolor": "white",
             "startlinecolor": "#2a3f5f"
            },
            "type": "carpet"
           }
          ],
          "choropleth": [
           {
            "colorbar": {
             "outlinewidth": 0,
             "ticks": ""
            },
            "type": "choropleth"
           }
          ],
          "contour": [
           {
            "colorbar": {
             "outlinewidth": 0,
             "ticks": ""
            },
            "colorscale": [
             [
              0,
              "#0d0887"
             ],
             [
              0.1111111111111111,
              "#46039f"
             ],
             [
              0.2222222222222222,
              "#7201a8"
             ],
             [
              0.3333333333333333,
              "#9c179e"
             ],
             [
              0.4444444444444444,
              "#bd3786"
             ],
             [
              0.5555555555555556,
              "#d8576b"
             ],
             [
              0.6666666666666666,
              "#ed7953"
             ],
             [
              0.7777777777777778,
              "#fb9f3a"
             ],
             [
              0.8888888888888888,
              "#fdca26"
             ],
             [
              1,
              "#f0f921"
             ]
            ],
            "type": "contour"
           }
          ],
          "contourcarpet": [
           {
            "colorbar": {
             "outlinewidth": 0,
             "ticks": ""
            },
            "type": "contourcarpet"
           }
          ],
          "heatmap": [
           {
            "colorbar": {
             "outlinewidth": 0,
             "ticks": ""
            },
            "colorscale": [
             [
              0,
              "#0d0887"
             ],
             [
              0.1111111111111111,
              "#46039f"
             ],
             [
              0.2222222222222222,
              "#7201a8"
             ],
             [
              0.3333333333333333,
              "#9c179e"
             ],
             [
              0.4444444444444444,
              "#bd3786"
             ],
             [
              0.5555555555555556,
              "#d8576b"
             ],
             [
              0.6666666666666666,
              "#ed7953"
             ],
             [
              0.7777777777777778,
              "#fb9f3a"
             ],
             [
              0.8888888888888888,
              "#fdca26"
             ],
             [
              1,
              "#f0f921"
             ]
            ],
            "type": "heatmap"
           }
          ],
          "heatmapgl": [
           {
            "colorbar": {
             "outlinewidth": 0,
             "ticks": ""
            },
            "colorscale": [
             [
              0,
              "#0d0887"
             ],
             [
              0.1111111111111111,
              "#46039f"
             ],
             [
              0.2222222222222222,
              "#7201a8"
             ],
             [
              0.3333333333333333,
              "#9c179e"
             ],
             [
              0.4444444444444444,
              "#bd3786"
             ],
             [
              0.5555555555555556,
              "#d8576b"
             ],
             [
              0.6666666666666666,
              "#ed7953"
             ],
             [
              0.7777777777777778,
              "#fb9f3a"
             ],
             [
              0.8888888888888888,
              "#fdca26"
             ],
             [
              1,
              "#f0f921"
             ]
            ],
            "type": "heatmapgl"
           }
          ],
          "histogram": [
           {
            "marker": {
             "pattern": {
              "fillmode": "overlay",
              "size": 10,
              "solidity": 0.2
             }
            },
            "type": "histogram"
           }
          ],
          "histogram2d": [
           {
            "colorbar": {
             "outlinewidth": 0,
             "ticks": ""
            },
            "colorscale": [
             [
              0,
              "#0d0887"
             ],
             [
              0.1111111111111111,
              "#46039f"
             ],
             [
              0.2222222222222222,
              "#7201a8"
             ],
             [
              0.3333333333333333,
              "#9c179e"
             ],
             [
              0.4444444444444444,
              "#bd3786"
             ],
             [
              0.5555555555555556,
              "#d8576b"
             ],
             [
              0.6666666666666666,
              "#ed7953"
             ],
             [
              0.7777777777777778,
              "#fb9f3a"
             ],
             [
              0.8888888888888888,
              "#fdca26"
             ],
             [
              1,
              "#f0f921"
             ]
            ],
            "type": "histogram2d"
           }
          ],
          "histogram2dcontour": [
           {
            "colorbar": {
             "outlinewidth": 0,
             "ticks": ""
            },
            "colorscale": [
             [
              0,
              "#0d0887"
             ],
             [
              0.1111111111111111,
              "#46039f"
             ],
             [
              0.2222222222222222,
              "#7201a8"
             ],
             [
              0.3333333333333333,
              "#9c179e"
             ],
             [
              0.4444444444444444,
              "#bd3786"
             ],
             [
              0.5555555555555556,
              "#d8576b"
             ],
             [
              0.6666666666666666,
              "#ed7953"
             ],
             [
              0.7777777777777778,
              "#fb9f3a"
             ],
             [
              0.8888888888888888,
              "#fdca26"
             ],
             [
              1,
              "#f0f921"
             ]
            ],
            "type": "histogram2dcontour"
           }
          ],
          "mesh3d": [
           {
            "colorbar": {
             "outlinewidth": 0,
             "ticks": ""
            },
            "type": "mesh3d"
           }
          ],
          "parcoords": [
           {
            "line": {
             "colorbar": {
              "outlinewidth": 0,
              "ticks": ""
             }
            },
            "type": "parcoords"
           }
          ],
          "pie": [
           {
            "automargin": true,
            "type": "pie"
           }
          ],
          "scatter": [
           {
            "fillpattern": {
             "fillmode": "overlay",
             "size": 10,
             "solidity": 0.2
            },
            "type": "scatter"
           }
          ],
          "scatter3d": [
           {
            "line": {
             "colorbar": {
              "outlinewidth": 0,
              "ticks": ""
             }
            },
            "marker": {
             "colorbar": {
              "outlinewidth": 0,
              "ticks": ""
             }
            },
            "type": "scatter3d"
           }
          ],
          "scattercarpet": [
           {
            "marker": {
             "colorbar": {
              "outlinewidth": 0,
              "ticks": ""
             }
            },
            "type": "scattercarpet"
           }
          ],
          "scattergeo": [
           {
            "marker": {
             "colorbar": {
              "outlinewidth": 0,
              "ticks": ""
             }
            },
            "type": "scattergeo"
           }
          ],
          "scattergl": [
           {
            "marker": {
             "colorbar": {
              "outlinewidth": 0,
              "ticks": ""
             }
            },
            "type": "scattergl"
           }
          ],
          "scattermapbox": [
           {
            "marker": {
             "colorbar": {
              "outlinewidth": 0,
              "ticks": ""
             }
            },
            "type": "scattermapbox"
           }
          ],
          "scatterpolar": [
           {
            "marker": {
             "colorbar": {
              "outlinewidth": 0,
              "ticks": ""
             }
            },
            "type": "scatterpolar"
           }
          ],
          "scatterpolargl": [
           {
            "marker": {
             "colorbar": {
              "outlinewidth": 0,
              "ticks": ""
             }
            },
            "type": "scatterpolargl"
           }
          ],
          "scatterternary": [
           {
            "marker": {
             "colorbar": {
              "outlinewidth": 0,
              "ticks": ""
             }
            },
            "type": "scatterternary"
           }
          ],
          "surface": [
           {
            "colorbar": {
             "outlinewidth": 0,
             "ticks": ""
            },
            "colorscale": [
             [
              0,
              "#0d0887"
             ],
             [
              0.1111111111111111,
              "#46039f"
             ],
             [
              0.2222222222222222,
              "#7201a8"
             ],
             [
              0.3333333333333333,
              "#9c179e"
             ],
             [
              0.4444444444444444,
              "#bd3786"
             ],
             [
              0.5555555555555556,
              "#d8576b"
             ],
             [
              0.6666666666666666,
              "#ed7953"
             ],
             [
              0.7777777777777778,
              "#fb9f3a"
             ],
             [
              0.8888888888888888,
              "#fdca26"
             ],
             [
              1,
              "#f0f921"
             ]
            ],
            "type": "surface"
           }
          ],
          "table": [
           {
            "cells": {
             "fill": {
              "color": "#EBF0F8"
             },
             "line": {
              "color": "white"
             }
            },
            "header": {
             "fill": {
              "color": "#C8D4E3"
             },
             "line": {
              "color": "white"
             }
            },
            "type": "table"
           }
          ]
         },
         "layout": {
          "annotationdefaults": {
           "arrowcolor": "#2a3f5f",
           "arrowhead": 0,
           "arrowwidth": 1
          },
          "autotypenumbers": "strict",
          "coloraxis": {
           "colorbar": {
            "outlinewidth": 0,
            "ticks": ""
           }
          },
          "colorscale": {
           "diverging": [
            [
             0,
             "#8e0152"
            ],
            [
             0.1,
             "#c51b7d"
            ],
            [
             0.2,
             "#de77ae"
            ],
            [
             0.3,
             "#f1b6da"
            ],
            [
             0.4,
             "#fde0ef"
            ],
            [
             0.5,
             "#f7f7f7"
            ],
            [
             0.6,
             "#e6f5d0"
            ],
            [
             0.7,
             "#b8e186"
            ],
            [
             0.8,
             "#7fbc41"
            ],
            [
             0.9,
             "#4d9221"
            ],
            [
             1,
             "#276419"
            ]
           ],
           "sequential": [
            [
             0,
             "#0d0887"
            ],
            [
             0.1111111111111111,
             "#46039f"
            ],
            [
             0.2222222222222222,
             "#7201a8"
            ],
            [
             0.3333333333333333,
             "#9c179e"
            ],
            [
             0.4444444444444444,
             "#bd3786"
            ],
            [
             0.5555555555555556,
             "#d8576b"
            ],
            [
             0.6666666666666666,
             "#ed7953"
            ],
            [
             0.7777777777777778,
             "#fb9f3a"
            ],
            [
             0.8888888888888888,
             "#fdca26"
            ],
            [
             1,
             "#f0f921"
            ]
           ],
           "sequentialminus": [
            [
             0,
             "#0d0887"
            ],
            [
             0.1111111111111111,
             "#46039f"
            ],
            [
             0.2222222222222222,
             "#7201a8"
            ],
            [
             0.3333333333333333,
             "#9c179e"
            ],
            [
             0.4444444444444444,
             "#bd3786"
            ],
            [
             0.5555555555555556,
             "#d8576b"
            ],
            [
             0.6666666666666666,
             "#ed7953"
            ],
            [
             0.7777777777777778,
             "#fb9f3a"
            ],
            [
             0.8888888888888888,
             "#fdca26"
            ],
            [
             1,
             "#f0f921"
            ]
           ]
          },
          "colorway": [
           "#636efa",
           "#EF553B",
           "#00cc96",
           "#ab63fa",
           "#FFA15A",
           "#19d3f3",
           "#FF6692",
           "#B6E880",
           "#FF97FF",
           "#FECB52"
          ],
          "font": {
           "color": "#2a3f5f"
          },
          "geo": {
           "bgcolor": "white",
           "lakecolor": "white",
           "landcolor": "#E5ECF6",
           "showlakes": true,
           "showland": true,
           "subunitcolor": "white"
          },
          "hoverlabel": {
           "align": "left"
          },
          "hovermode": "closest",
          "mapbox": {
           "style": "light"
          },
          "paper_bgcolor": "white",
          "plot_bgcolor": "#E5ECF6",
          "polar": {
           "angularaxis": {
            "gridcolor": "white",
            "linecolor": "white",
            "ticks": ""
           },
           "bgcolor": "#E5ECF6",
           "radialaxis": {
            "gridcolor": "white",
            "linecolor": "white",
            "ticks": ""
           }
          },
          "scene": {
           "xaxis": {
            "backgroundcolor": "#E5ECF6",
            "gridcolor": "white",
            "gridwidth": 2,
            "linecolor": "white",
            "showbackground": true,
            "ticks": "",
            "zerolinecolor": "white"
           },
           "yaxis": {
            "backgroundcolor": "#E5ECF6",
            "gridcolor": "white",
            "gridwidth": 2,
            "linecolor": "white",
            "showbackground": true,
            "ticks": "",
            "zerolinecolor": "white"
           },
           "zaxis": {
            "backgroundcolor": "#E5ECF6",
            "gridcolor": "white",
            "gridwidth": 2,
            "linecolor": "white",
            "showbackground": true,
            "ticks": "",
            "zerolinecolor": "white"
           }
          },
          "shapedefaults": {
           "line": {
            "color": "#2a3f5f"
           }
          },
          "ternary": {
           "aaxis": {
            "gridcolor": "white",
            "linecolor": "white",
            "ticks": ""
           },
           "baxis": {
            "gridcolor": "white",
            "linecolor": "white",
            "ticks": ""
           },
           "bgcolor": "#E5ECF6",
           "caxis": {
            "gridcolor": "white",
            "linecolor": "white",
            "ticks": ""
           }
          },
          "title": {
           "x": 0.05
          },
          "xaxis": {
           "automargin": true,
           "gridcolor": "white",
           "linecolor": "white",
           "ticks": "",
           "title": {
            "standoff": 15
           },
           "zerolinecolor": "white",
           "zerolinewidth": 2
          },
          "yaxis": {
           "automargin": true,
           "gridcolor": "white",
           "linecolor": "white",
           "ticks": "",
           "title": {
            "standoff": 15
           },
           "zerolinecolor": "white",
           "zerolinewidth": 2
          }
         }
        },
        "title": {
         "text": "Top 10 Named Entities"
        },
        "xaxis": {
         "anchor": "y",
         "domain": [
          0,
          1
         ],
         "title": {
          "text": "Entity"
         }
        },
        "yaxis": {
         "anchor": "x",
         "domain": [
          0,
          1
         ],
         "title": {
          "text": "Count"
         }
        }
       }
      }
     },
     "metadata": {},
     "output_type": "display_data"
    }
   ],
   "source": [
    "# NER\n",
    "def extract_named_entities(text):\n",
    "    doc = nlp(text)\n",
    "    entities = defaultdict(list)\n",
    "    for ent in doc.ents:\n",
    "        entities[ent.label_].append(ent.text)\n",
    "    return dict(entities)\n",
    "\n",
    "data['Named_Entities'] = data['Article'].apply(extract_named_entities)\n",
    "\n",
    "# Visualize NER\n",
    "entity_counts = Counter(entity for entities in data['Named_Entities'] for entity in entities)\n",
    "entity_df = pd.DataFrame.from_dict(entity_counts , orient='index').reset_index()\n",
    "entity_df.columns = ['Entity' , 'Count']\n",
    "\n",
    "fig = px.bar(entity_df.head(10) , x = 'Entity' , y = 'Count' , title = 'Top 10 Named Entities')\n",
    "fig.show()\n",
    "\n"
   ]
  },
  {
   "cell_type": "markdown",
   "metadata": {},
   "source": [
    "In the above code, we are performing Named Entity Recognition. NER is a natural language processing technique used to identify and extract specific entities such as organizations, locations, names, dates, and more from the text. The extract_named_entities function leverages the spaCy library to analyze each article, identify entities, and categorize them by their respective labels (e.g., “ORG” for organizations, “LOC” for locations). \n",
    "\n",
    "The extracted entities are stored in a new column called Named_Entities in the dataset. Then, a visualization is created to present the top 10 most frequently occurring named entities and their respective counts, allowing for a quick understanding of the prominent entities mentioned in the text data."
   ]
  },
  {
   "cell_type": "markdown",
   "metadata": {},
   "source": [
    "### let’s perform Topic Modelling"
   ]
  },
  {
   "cell_type": "code",
   "execution_count": 10,
   "metadata": {},
   "outputs": [
    {
     "data": {
      "application/vnd.plotly.v1+json": {
       "config": {
        "plotlyServerURL": "https://plot.ly"
       },
       "data": [
        {
         "alignmentgroup": "True",
         "hovertemplate": "Topic=%{x}<br>Count=%{y}<extra></extra>",
         "legendgroup": "",
         "marker": {
          "color": "#636efa",
          "pattern": {
           "shape": ""
          }
         },
         "name": "",
         "offsetgroup": "",
         "orientation": "v",
         "showlegend": false,
         "textposition": "auto",
         "type": "bar",
         "x": [
          "Topic 1",
          "Topic 3",
          "Topic 0",
          "Topic 4",
          "Topic 2"
         ],
         "xaxis": "x",
         "y": [
          18,
          6,
          4,
          3,
          3
         ],
         "yaxis": "y"
        }
       ],
       "layout": {
        "barmode": "relative",
        "legend": {
         "tracegroupgap": 0
        },
        "template": {
         "data": {
          "bar": [
           {
            "error_x": {
             "color": "#2a3f5f"
            },
            "error_y": {
             "color": "#2a3f5f"
            },
            "marker": {
             "line": {
              "color": "#E5ECF6",
              "width": 0.5
             },
             "pattern": {
              "fillmode": "overlay",
              "size": 10,
              "solidity": 0.2
             }
            },
            "type": "bar"
           }
          ],
          "barpolar": [
           {
            "marker": {
             "line": {
              "color": "#E5ECF6",
              "width": 0.5
             },
             "pattern": {
              "fillmode": "overlay",
              "size": 10,
              "solidity": 0.2
             }
            },
            "type": "barpolar"
           }
          ],
          "carpet": [
           {
            "aaxis": {
             "endlinecolor": "#2a3f5f",
             "gridcolor": "white",
             "linecolor": "white",
             "minorgridcolor": "white",
             "startlinecolor": "#2a3f5f"
            },
            "baxis": {
             "endlinecolor": "#2a3f5f",
             "gridcolor": "white",
             "linecolor": "white",
             "minorgridcolor": "white",
             "startlinecolor": "#2a3f5f"
            },
            "type": "carpet"
           }
          ],
          "choropleth": [
           {
            "colorbar": {
             "outlinewidth": 0,
             "ticks": ""
            },
            "type": "choropleth"
           }
          ],
          "contour": [
           {
            "colorbar": {
             "outlinewidth": 0,
             "ticks": ""
            },
            "colorscale": [
             [
              0,
              "#0d0887"
             ],
             [
              0.1111111111111111,
              "#46039f"
             ],
             [
              0.2222222222222222,
              "#7201a8"
             ],
             [
              0.3333333333333333,
              "#9c179e"
             ],
             [
              0.4444444444444444,
              "#bd3786"
             ],
             [
              0.5555555555555556,
              "#d8576b"
             ],
             [
              0.6666666666666666,
              "#ed7953"
             ],
             [
              0.7777777777777778,
              "#fb9f3a"
             ],
             [
              0.8888888888888888,
              "#fdca26"
             ],
             [
              1,
              "#f0f921"
             ]
            ],
            "type": "contour"
           }
          ],
          "contourcarpet": [
           {
            "colorbar": {
             "outlinewidth": 0,
             "ticks": ""
            },
            "type": "contourcarpet"
           }
          ],
          "heatmap": [
           {
            "colorbar": {
             "outlinewidth": 0,
             "ticks": ""
            },
            "colorscale": [
             [
              0,
              "#0d0887"
             ],
             [
              0.1111111111111111,
              "#46039f"
             ],
             [
              0.2222222222222222,
              "#7201a8"
             ],
             [
              0.3333333333333333,
              "#9c179e"
             ],
             [
              0.4444444444444444,
              "#bd3786"
             ],
             [
              0.5555555555555556,
              "#d8576b"
             ],
             [
              0.6666666666666666,
              "#ed7953"
             ],
             [
              0.7777777777777778,
              "#fb9f3a"
             ],
             [
              0.8888888888888888,
              "#fdca26"
             ],
             [
              1,
              "#f0f921"
             ]
            ],
            "type": "heatmap"
           }
          ],
          "heatmapgl": [
           {
            "colorbar": {
             "outlinewidth": 0,
             "ticks": ""
            },
            "colorscale": [
             [
              0,
              "#0d0887"
             ],
             [
              0.1111111111111111,
              "#46039f"
             ],
             [
              0.2222222222222222,
              "#7201a8"
             ],
             [
              0.3333333333333333,
              "#9c179e"
             ],
             [
              0.4444444444444444,
              "#bd3786"
             ],
             [
              0.5555555555555556,
              "#d8576b"
             ],
             [
              0.6666666666666666,
              "#ed7953"
             ],
             [
              0.7777777777777778,
              "#fb9f3a"
             ],
             [
              0.8888888888888888,
              "#fdca26"
             ],
             [
              1,
              "#f0f921"
             ]
            ],
            "type": "heatmapgl"
           }
          ],
          "histogram": [
           {
            "marker": {
             "pattern": {
              "fillmode": "overlay",
              "size": 10,
              "solidity": 0.2
             }
            },
            "type": "histogram"
           }
          ],
          "histogram2d": [
           {
            "colorbar": {
             "outlinewidth": 0,
             "ticks": ""
            },
            "colorscale": [
             [
              0,
              "#0d0887"
             ],
             [
              0.1111111111111111,
              "#46039f"
             ],
             [
              0.2222222222222222,
              "#7201a8"
             ],
             [
              0.3333333333333333,
              "#9c179e"
             ],
             [
              0.4444444444444444,
              "#bd3786"
             ],
             [
              0.5555555555555556,
              "#d8576b"
             ],
             [
              0.6666666666666666,
              "#ed7953"
             ],
             [
              0.7777777777777778,
              "#fb9f3a"
             ],
             [
              0.8888888888888888,
              "#fdca26"
             ],
             [
              1,
              "#f0f921"
             ]
            ],
            "type": "histogram2d"
           }
          ],
          "histogram2dcontour": [
           {
            "colorbar": {
             "outlinewidth": 0,
             "ticks": ""
            },
            "colorscale": [
             [
              0,
              "#0d0887"
             ],
             [
              0.1111111111111111,
              "#46039f"
             ],
             [
              0.2222222222222222,
              "#7201a8"
             ],
             [
              0.3333333333333333,
              "#9c179e"
             ],
             [
              0.4444444444444444,
              "#bd3786"
             ],
             [
              0.5555555555555556,
              "#d8576b"
             ],
             [
              0.6666666666666666,
              "#ed7953"
             ],
             [
              0.7777777777777778,
              "#fb9f3a"
             ],
             [
              0.8888888888888888,
              "#fdca26"
             ],
             [
              1,
              "#f0f921"
             ]
            ],
            "type": "histogram2dcontour"
           }
          ],
          "mesh3d": [
           {
            "colorbar": {
             "outlinewidth": 0,
             "ticks": ""
            },
            "type": "mesh3d"
           }
          ],
          "parcoords": [
           {
            "line": {
             "colorbar": {
              "outlinewidth": 0,
              "ticks": ""
             }
            },
            "type": "parcoords"
           }
          ],
          "pie": [
           {
            "automargin": true,
            "type": "pie"
           }
          ],
          "scatter": [
           {
            "fillpattern": {
             "fillmode": "overlay",
             "size": 10,
             "solidity": 0.2
            },
            "type": "scatter"
           }
          ],
          "scatter3d": [
           {
            "line": {
             "colorbar": {
              "outlinewidth": 0,
              "ticks": ""
             }
            },
            "marker": {
             "colorbar": {
              "outlinewidth": 0,
              "ticks": ""
             }
            },
            "type": "scatter3d"
           }
          ],
          "scattercarpet": [
           {
            "marker": {
             "colorbar": {
              "outlinewidth": 0,
              "ticks": ""
             }
            },
            "type": "scattercarpet"
           }
          ],
          "scattergeo": [
           {
            "marker": {
             "colorbar": {
              "outlinewidth": 0,
              "ticks": ""
             }
            },
            "type": "scattergeo"
           }
          ],
          "scattergl": [
           {
            "marker": {
             "colorbar": {
              "outlinewidth": 0,
              "ticks": ""
             }
            },
            "type": "scattergl"
           }
          ],
          "scattermapbox": [
           {
            "marker": {
             "colorbar": {
              "outlinewidth": 0,
              "ticks": ""
             }
            },
            "type": "scattermapbox"
           }
          ],
          "scatterpolar": [
           {
            "marker": {
             "colorbar": {
              "outlinewidth": 0,
              "ticks": ""
             }
            },
            "type": "scatterpolar"
           }
          ],
          "scatterpolargl": [
           {
            "marker": {
             "colorbar": {
              "outlinewidth": 0,
              "ticks": ""
             }
            },
            "type": "scatterpolargl"
           }
          ],
          "scatterternary": [
           {
            "marker": {
             "colorbar": {
              "outlinewidth": 0,
              "ticks": ""
             }
            },
            "type": "scatterternary"
           }
          ],
          "surface": [
           {
            "colorbar": {
             "outlinewidth": 0,
             "ticks": ""
            },
            "colorscale": [
             [
              0,
              "#0d0887"
             ],
             [
              0.1111111111111111,
              "#46039f"
             ],
             [
              0.2222222222222222,
              "#7201a8"
             ],
             [
              0.3333333333333333,
              "#9c179e"
             ],
             [
              0.4444444444444444,
              "#bd3786"
             ],
             [
              0.5555555555555556,
              "#d8576b"
             ],
             [
              0.6666666666666666,
              "#ed7953"
             ],
             [
              0.7777777777777778,
              "#fb9f3a"
             ],
             [
              0.8888888888888888,
              "#fdca26"
             ],
             [
              1,
              "#f0f921"
             ]
            ],
            "type": "surface"
           }
          ],
          "table": [
           {
            "cells": {
             "fill": {
              "color": "#EBF0F8"
             },
             "line": {
              "color": "white"
             }
            },
            "header": {
             "fill": {
              "color": "#C8D4E3"
             },
             "line": {
              "color": "white"
             }
            },
            "type": "table"
           }
          ]
         },
         "layout": {
          "annotationdefaults": {
           "arrowcolor": "#2a3f5f",
           "arrowhead": 0,
           "arrowwidth": 1
          },
          "autotypenumbers": "strict",
          "coloraxis": {
           "colorbar": {
            "outlinewidth": 0,
            "ticks": ""
           }
          },
          "colorscale": {
           "diverging": [
            [
             0,
             "#8e0152"
            ],
            [
             0.1,
             "#c51b7d"
            ],
            [
             0.2,
             "#de77ae"
            ],
            [
             0.3,
             "#f1b6da"
            ],
            [
             0.4,
             "#fde0ef"
            ],
            [
             0.5,
             "#f7f7f7"
            ],
            [
             0.6,
             "#e6f5d0"
            ],
            [
             0.7,
             "#b8e186"
            ],
            [
             0.8,
             "#7fbc41"
            ],
            [
             0.9,
             "#4d9221"
            ],
            [
             1,
             "#276419"
            ]
           ],
           "sequential": [
            [
             0,
             "#0d0887"
            ],
            [
             0.1111111111111111,
             "#46039f"
            ],
            [
             0.2222222222222222,
             "#7201a8"
            ],
            [
             0.3333333333333333,
             "#9c179e"
            ],
            [
             0.4444444444444444,
             "#bd3786"
            ],
            [
             0.5555555555555556,
             "#d8576b"
            ],
            [
             0.6666666666666666,
             "#ed7953"
            ],
            [
             0.7777777777777778,
             "#fb9f3a"
            ],
            [
             0.8888888888888888,
             "#fdca26"
            ],
            [
             1,
             "#f0f921"
            ]
           ],
           "sequentialminus": [
            [
             0,
             "#0d0887"
            ],
            [
             0.1111111111111111,
             "#46039f"
            ],
            [
             0.2222222222222222,
             "#7201a8"
            ],
            [
             0.3333333333333333,
             "#9c179e"
            ],
            [
             0.4444444444444444,
             "#bd3786"
            ],
            [
             0.5555555555555556,
             "#d8576b"
            ],
            [
             0.6666666666666666,
             "#ed7953"
            ],
            [
             0.7777777777777778,
             "#fb9f3a"
            ],
            [
             0.8888888888888888,
             "#fdca26"
            ],
            [
             1,
             "#f0f921"
            ]
           ]
          },
          "colorway": [
           "#636efa",
           "#EF553B",
           "#00cc96",
           "#ab63fa",
           "#FFA15A",
           "#19d3f3",
           "#FF6692",
           "#B6E880",
           "#FF97FF",
           "#FECB52"
          ],
          "font": {
           "color": "#2a3f5f"
          },
          "geo": {
           "bgcolor": "white",
           "lakecolor": "white",
           "landcolor": "#E5ECF6",
           "showlakes": true,
           "showland": true,
           "subunitcolor": "white"
          },
          "hoverlabel": {
           "align": "left"
          },
          "hovermode": "closest",
          "mapbox": {
           "style": "light"
          },
          "paper_bgcolor": "white",
          "plot_bgcolor": "#E5ECF6",
          "polar": {
           "angularaxis": {
            "gridcolor": "white",
            "linecolor": "white",
            "ticks": ""
           },
           "bgcolor": "#E5ECF6",
           "radialaxis": {
            "gridcolor": "white",
            "linecolor": "white",
            "ticks": ""
           }
          },
          "scene": {
           "xaxis": {
            "backgroundcolor": "#E5ECF6",
            "gridcolor": "white",
            "gridwidth": 2,
            "linecolor": "white",
            "showbackground": true,
            "ticks": "",
            "zerolinecolor": "white"
           },
           "yaxis": {
            "backgroundcolor": "#E5ECF6",
            "gridcolor": "white",
            "gridwidth": 2,
            "linecolor": "white",
            "showbackground": true,
            "ticks": "",
            "zerolinecolor": "white"
           },
           "zaxis": {
            "backgroundcolor": "#E5ECF6",
            "gridcolor": "white",
            "gridwidth": 2,
            "linecolor": "white",
            "showbackground": true,
            "ticks": "",
            "zerolinecolor": "white"
           }
          },
          "shapedefaults": {
           "line": {
            "color": "#2a3f5f"
           }
          },
          "ternary": {
           "aaxis": {
            "gridcolor": "white",
            "linecolor": "white",
            "ticks": ""
           },
           "baxis": {
            "gridcolor": "white",
            "linecolor": "white",
            "ticks": ""
           },
           "bgcolor": "#E5ECF6",
           "caxis": {
            "gridcolor": "white",
            "linecolor": "white",
            "ticks": ""
           }
          },
          "title": {
           "x": 0.05
          },
          "xaxis": {
           "automargin": true,
           "gridcolor": "white",
           "linecolor": "white",
           "ticks": "",
           "title": {
            "standoff": 15
           },
           "zerolinecolor": "white",
           "zerolinewidth": 2
          },
          "yaxis": {
           "automargin": true,
           "gridcolor": "white",
           "linecolor": "white",
           "ticks": "",
           "title": {
            "standoff": 15
           },
           "zerolinecolor": "white",
           "zerolinewidth": 2
          }
         }
        },
        "title": {
         "text": "Topic Distribution"
        },
        "xaxis": {
         "anchor": "y",
         "domain": [
          0,
          1
         ],
         "title": {
          "text": "Topic"
         }
        },
        "yaxis": {
         "anchor": "x",
         "domain": [
          0,
          1
         ],
         "title": {
          "text": "Count"
         }
        }
       }
      }
     },
     "metadata": {},
     "output_type": "display_data"
    }
   ],
   "source": [
    "# Topic Modeling\n",
    "vectorizer = CountVectorizer(max_df=0.95, min_df=2, max_features=1000, stop_words='english')\n",
    "tf = vectorizer.fit_transform(data['Article'])\n",
    "lda_model = LatentDirichletAllocation(n_components=5, random_state=42)\n",
    "lda_topic_matrix = lda_model.fit_transform(tf)\n",
    "\n",
    "# Assign Dominant Topic to each article\n",
    "topic_names = [\"Topic \" + str(i) for i in range(lda_model.n_components)]\n",
    "data['Dominant_Topic'] = [topic_names[i] for i in lda_topic_matrix.argmax(axis=1)]\n",
    "\n",
    "# Create a DataFrame for topic counts\n",
    "topic_counts = data['Dominant_Topic'].value_counts().reset_index()\n",
    "topic_counts.columns = ['Topic', 'Count']\n",
    "\n",
    "# Visualize topics\n",
    "fig = px.bar(topic_counts, x='Topic', y='Count', title='Topic Distribution')\n",
    "fig.show()\n",
    "\n"
   ]
  },
  {
   "cell_type": "markdown",
   "metadata": {},
   "source": [
    "In the above code, we are performing Topic Modelling using Latent Dirichlet Allocation (LDA), a popular technique for uncovering latent topics within a corpus of text documents. First, we apply text vectorization using the CountVectorizer to convert the text data into a numerical format suitable for modelling. \n",
    "\n",
    "Then we specified parameters such as maximum and minimum document frequency and the maximum number of features (words) to consider, while also removing common English stopwords. \n",
    "\n",
    "Next, we applied LDA using the LatentDirichletAllocation model with five topics as an example. The resulting topic matrix represents each article’s distribution across these five topics. Then, we assign a dominant topic to each article based on the topic with the highest probability, and a bar chart is generated to visualize the distribution of dominant topics across the dataset, providing an overview of the prevalent themes or subjects discussed in the articles.\n",
    "\n",
    "So this is how we can perform Text Analysis using Python."
   ]
  },
  {
   "cell_type": "markdown",
   "metadata": {},
   "source": []
  }
 ],
 "metadata": {
  "kernelspec": {
   "display_name": "TfTextGenModelExample",
   "language": "python",
   "name": "python3"
  },
  "language_info": {
   "codemirror_mode": {
    "name": "ipython",
    "version": 3
   },
   "file_extension": ".py",
   "mimetype": "text/x-python",
   "name": "python",
   "nbconvert_exporter": "python",
   "pygments_lexer": "ipython3",
   "version": "3.10.14"
  }
 },
 "nbformat": 4,
 "nbformat_minor": 2
}
